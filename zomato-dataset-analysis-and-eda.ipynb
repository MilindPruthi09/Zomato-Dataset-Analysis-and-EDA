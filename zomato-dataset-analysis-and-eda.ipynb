{
 "cells": [
  {
   "cell_type": "code",
   "execution_count": 1,
   "id": "2cc5431c",
   "metadata": {
    "execution": {
     "iopub.execute_input": "2024-06-16T20:30:05.306495Z",
     "iopub.status.busy": "2024-06-16T20:30:05.306098Z",
     "iopub.status.idle": "2024-06-16T20:30:06.127780Z",
     "shell.execute_reply": "2024-06-16T20:30:06.126442Z"
    },
    "papermill": {
     "duration": 0.844915,
     "end_time": "2024-06-16T20:30:06.130808",
     "exception": false,
     "start_time": "2024-06-16T20:30:05.285893",
     "status": "completed"
    },
    "tags": []
   },
   "outputs": [
    {
     "name": "stdout",
     "output_type": "stream",
     "text": [
      "/kaggle/input/zomato-bangalore-restaurants/zomato.csv\n"
     ]
    }
   ],
   "source": [
    "# This Python 3 environment comes with many helpful analytics libraries installed\n",
    "# It is defined by the kaggle/python Docker image: https://github.com/kaggle/docker-python\n",
    "# For example, here's several helpful packages to load\n",
    "\n",
    "import numpy as np # linear algebra\n",
    "import pandas as pd # data processing, CSV file I/O (e.g. pd.read_csv)\n",
    "\n",
    "# Input data files are available in the read-only \"../input/\" directory\n",
    "# For example, running this (by clicking run or pressing Shift+Enter) will list all files under the input directory\n",
    "\n",
    "import os\n",
    "for dirname, _, filenames in os.walk('/kaggle/input'):\n",
    "    for filename in filenames:\n",
    "        print(os.path.join(dirname, filename))\n",
    "\n",
    "# You can write up to 20GB to the current directory (/kaggle/working/) that gets preserved as output when you create a version using \"Save & Run All\" \n",
    "# You can also write temporary files to /kaggle/temp/, but they won't be saved outside of the current session"
   ]
  },
  {
   "cell_type": "code",
   "execution_count": 2,
   "id": "971886e3",
   "metadata": {
    "execution": {
     "iopub.execute_input": "2024-06-16T20:30:06.171181Z",
     "iopub.status.busy": "2024-06-16T20:30:06.170571Z",
     "iopub.status.idle": "2024-06-16T20:30:07.318543Z",
     "shell.execute_reply": "2024-06-16T20:30:07.317572Z"
    },
    "papermill": {
     "duration": 1.169103,
     "end_time": "2024-06-16T20:30:07.321026",
     "exception": false,
     "start_time": "2024-06-16T20:30:06.151923",
     "status": "completed"
    },
    "tags": []
   },
   "outputs": [],
   "source": [
    "import pandas as pd\n",
    "import numpy as np\n",
    "\n",
    "import matplotlib.pyplot as plt\n",
    "import seaborn as sns"
   ]
  },
  {
   "cell_type": "code",
   "execution_count": 3,
   "id": "f24967a2",
   "metadata": {
    "execution": {
     "iopub.execute_input": "2024-06-16T20:30:07.358052Z",
     "iopub.status.busy": "2024-06-16T20:30:07.357680Z",
     "iopub.status.idle": "2024-06-16T20:30:20.683340Z",
     "shell.execute_reply": "2024-06-16T20:30:20.682278Z"
    },
    "papermill": {
     "duration": 13.34664,
     "end_time": "2024-06-16T20:30:20.685945",
     "exception": false,
     "start_time": "2024-06-16T20:30:07.339305",
     "status": "completed"
    },
    "tags": []
   },
   "outputs": [],
   "source": [
    "data=pd.read_csv(\"/kaggle/input/zomato-bangalore-restaurants/zomato.csv\")"
   ]
  },
  {
   "cell_type": "code",
   "execution_count": 4,
   "id": "7be87b76",
   "metadata": {
    "execution": {
     "iopub.execute_input": "2024-06-16T20:30:20.722988Z",
     "iopub.status.busy": "2024-06-16T20:30:20.722026Z",
     "iopub.status.idle": "2024-06-16T20:30:20.750761Z",
     "shell.execute_reply": "2024-06-16T20:30:20.749753Z"
    },
    "papermill": {
     "duration": 0.049959,
     "end_time": "2024-06-16T20:30:20.753302",
     "exception": false,
     "start_time": "2024-06-16T20:30:20.703343",
     "status": "completed"
    },
    "tags": []
   },
   "outputs": [
    {
     "data": {
      "text/html": [
       "<div>\n",
       "<style scoped>\n",
       "    .dataframe tbody tr th:only-of-type {\n",
       "        vertical-align: middle;\n",
       "    }\n",
       "\n",
       "    .dataframe tbody tr th {\n",
       "        vertical-align: top;\n",
       "    }\n",
       "\n",
       "    .dataframe thead th {\n",
       "        text-align: right;\n",
       "    }\n",
       "</style>\n",
       "<table border=\"1\" class=\"dataframe\">\n",
       "  <thead>\n",
       "    <tr style=\"text-align: right;\">\n",
       "      <th></th>\n",
       "      <th>url</th>\n",
       "      <th>address</th>\n",
       "      <th>name</th>\n",
       "      <th>online_order</th>\n",
       "      <th>book_table</th>\n",
       "      <th>rate</th>\n",
       "      <th>votes</th>\n",
       "      <th>phone</th>\n",
       "      <th>location</th>\n",
       "      <th>rest_type</th>\n",
       "      <th>dish_liked</th>\n",
       "      <th>cuisines</th>\n",
       "      <th>approx_cost(for two people)</th>\n",
       "      <th>reviews_list</th>\n",
       "      <th>menu_item</th>\n",
       "      <th>listed_in(type)</th>\n",
       "      <th>listed_in(city)</th>\n",
       "    </tr>\n",
       "  </thead>\n",
       "  <tbody>\n",
       "    <tr>\n",
       "      <th>0</th>\n",
       "      <td>https://www.zomato.com/bangalore/jalsa-banasha...</td>\n",
       "      <td>942, 21st Main Road, 2nd Stage, Banashankari, ...</td>\n",
       "      <td>Jalsa</td>\n",
       "      <td>Yes</td>\n",
       "      <td>Yes</td>\n",
       "      <td>4.1/5</td>\n",
       "      <td>775</td>\n",
       "      <td>080 42297555\\r\\n+91 9743772233</td>\n",
       "      <td>Banashankari</td>\n",
       "      <td>Casual Dining</td>\n",
       "      <td>Pasta, Lunch Buffet, Masala Papad, Paneer Laja...</td>\n",
       "      <td>North Indian, Mughlai, Chinese</td>\n",
       "      <td>800</td>\n",
       "      <td>[('Rated 4.0', 'RATED\\n  A beautiful place to ...</td>\n",
       "      <td>[]</td>\n",
       "      <td>Buffet</td>\n",
       "      <td>Banashankari</td>\n",
       "    </tr>\n",
       "    <tr>\n",
       "      <th>1</th>\n",
       "      <td>https://www.zomato.com/bangalore/spice-elephan...</td>\n",
       "      <td>2nd Floor, 80 Feet Road, Near Big Bazaar, 6th ...</td>\n",
       "      <td>Spice Elephant</td>\n",
       "      <td>Yes</td>\n",
       "      <td>No</td>\n",
       "      <td>4.1/5</td>\n",
       "      <td>787</td>\n",
       "      <td>080 41714161</td>\n",
       "      <td>Banashankari</td>\n",
       "      <td>Casual Dining</td>\n",
       "      <td>Momos, Lunch Buffet, Chocolate Nirvana, Thai G...</td>\n",
       "      <td>Chinese, North Indian, Thai</td>\n",
       "      <td>800</td>\n",
       "      <td>[('Rated 4.0', 'RATED\\n  Had been here for din...</td>\n",
       "      <td>[]</td>\n",
       "      <td>Buffet</td>\n",
       "      <td>Banashankari</td>\n",
       "    </tr>\n",
       "    <tr>\n",
       "      <th>2</th>\n",
       "      <td>https://www.zomato.com/SanchurroBangalore?cont...</td>\n",
       "      <td>1112, Next to KIMS Medical College, 17th Cross...</td>\n",
       "      <td>San Churro Cafe</td>\n",
       "      <td>Yes</td>\n",
       "      <td>No</td>\n",
       "      <td>3.8/5</td>\n",
       "      <td>918</td>\n",
       "      <td>+91 9663487993</td>\n",
       "      <td>Banashankari</td>\n",
       "      <td>Cafe, Casual Dining</td>\n",
       "      <td>Churros, Cannelloni, Minestrone Soup, Hot Choc...</td>\n",
       "      <td>Cafe, Mexican, Italian</td>\n",
       "      <td>800</td>\n",
       "      <td>[('Rated 3.0', \"RATED\\n  Ambience is not that ...</td>\n",
       "      <td>[]</td>\n",
       "      <td>Buffet</td>\n",
       "      <td>Banashankari</td>\n",
       "    </tr>\n",
       "    <tr>\n",
       "      <th>3</th>\n",
       "      <td>https://www.zomato.com/bangalore/addhuri-udupi...</td>\n",
       "      <td>1st Floor, Annakuteera, 3rd Stage, Banashankar...</td>\n",
       "      <td>Addhuri Udupi Bhojana</td>\n",
       "      <td>No</td>\n",
       "      <td>No</td>\n",
       "      <td>3.7/5</td>\n",
       "      <td>88</td>\n",
       "      <td>+91 9620009302</td>\n",
       "      <td>Banashankari</td>\n",
       "      <td>Quick Bites</td>\n",
       "      <td>Masala Dosa</td>\n",
       "      <td>South Indian, North Indian</td>\n",
       "      <td>300</td>\n",
       "      <td>[('Rated 4.0', \"RATED\\n  Great food and proper...</td>\n",
       "      <td>[]</td>\n",
       "      <td>Buffet</td>\n",
       "      <td>Banashankari</td>\n",
       "    </tr>\n",
       "    <tr>\n",
       "      <th>4</th>\n",
       "      <td>https://www.zomato.com/bangalore/grand-village...</td>\n",
       "      <td>10, 3rd Floor, Lakshmi Associates, Gandhi Baza...</td>\n",
       "      <td>Grand Village</td>\n",
       "      <td>No</td>\n",
       "      <td>No</td>\n",
       "      <td>3.8/5</td>\n",
       "      <td>166</td>\n",
       "      <td>+91 8026612447\\r\\n+91 9901210005</td>\n",
       "      <td>Basavanagudi</td>\n",
       "      <td>Casual Dining</td>\n",
       "      <td>Panipuri, Gol Gappe</td>\n",
       "      <td>North Indian, Rajasthani</td>\n",
       "      <td>600</td>\n",
       "      <td>[('Rated 4.0', 'RATED\\n  Very good restaurant ...</td>\n",
       "      <td>[]</td>\n",
       "      <td>Buffet</td>\n",
       "      <td>Banashankari</td>\n",
       "    </tr>\n",
       "  </tbody>\n",
       "</table>\n",
       "</div>"
      ],
      "text/plain": [
       "                                                 url  \\\n",
       "0  https://www.zomato.com/bangalore/jalsa-banasha...   \n",
       "1  https://www.zomato.com/bangalore/spice-elephan...   \n",
       "2  https://www.zomato.com/SanchurroBangalore?cont...   \n",
       "3  https://www.zomato.com/bangalore/addhuri-udupi...   \n",
       "4  https://www.zomato.com/bangalore/grand-village...   \n",
       "\n",
       "                                             address                   name  \\\n",
       "0  942, 21st Main Road, 2nd Stage, Banashankari, ...                  Jalsa   \n",
       "1  2nd Floor, 80 Feet Road, Near Big Bazaar, 6th ...         Spice Elephant   \n",
       "2  1112, Next to KIMS Medical College, 17th Cross...        San Churro Cafe   \n",
       "3  1st Floor, Annakuteera, 3rd Stage, Banashankar...  Addhuri Udupi Bhojana   \n",
       "4  10, 3rd Floor, Lakshmi Associates, Gandhi Baza...          Grand Village   \n",
       "\n",
       "  online_order book_table   rate  votes                             phone  \\\n",
       "0          Yes        Yes  4.1/5    775    080 42297555\\r\\n+91 9743772233   \n",
       "1          Yes         No  4.1/5    787                      080 41714161   \n",
       "2          Yes         No  3.8/5    918                    +91 9663487993   \n",
       "3           No         No  3.7/5     88                    +91 9620009302   \n",
       "4           No         No  3.8/5    166  +91 8026612447\\r\\n+91 9901210005   \n",
       "\n",
       "       location            rest_type  \\\n",
       "0  Banashankari        Casual Dining   \n",
       "1  Banashankari        Casual Dining   \n",
       "2  Banashankari  Cafe, Casual Dining   \n",
       "3  Banashankari          Quick Bites   \n",
       "4  Basavanagudi        Casual Dining   \n",
       "\n",
       "                                          dish_liked  \\\n",
       "0  Pasta, Lunch Buffet, Masala Papad, Paneer Laja...   \n",
       "1  Momos, Lunch Buffet, Chocolate Nirvana, Thai G...   \n",
       "2  Churros, Cannelloni, Minestrone Soup, Hot Choc...   \n",
       "3                                        Masala Dosa   \n",
       "4                                Panipuri, Gol Gappe   \n",
       "\n",
       "                         cuisines approx_cost(for two people)  \\\n",
       "0  North Indian, Mughlai, Chinese                         800   \n",
       "1     Chinese, North Indian, Thai                         800   \n",
       "2          Cafe, Mexican, Italian                         800   \n",
       "3      South Indian, North Indian                         300   \n",
       "4        North Indian, Rajasthani                         600   \n",
       "\n",
       "                                        reviews_list menu_item  \\\n",
       "0  [('Rated 4.0', 'RATED\\n  A beautiful place to ...        []   \n",
       "1  [('Rated 4.0', 'RATED\\n  Had been here for din...        []   \n",
       "2  [('Rated 3.0', \"RATED\\n  Ambience is not that ...        []   \n",
       "3  [('Rated 4.0', \"RATED\\n  Great food and proper...        []   \n",
       "4  [('Rated 4.0', 'RATED\\n  Very good restaurant ...        []   \n",
       "\n",
       "  listed_in(type) listed_in(city)  \n",
       "0          Buffet    Banashankari  \n",
       "1          Buffet    Banashankari  \n",
       "2          Buffet    Banashankari  \n",
       "3          Buffet    Banashankari  \n",
       "4          Buffet    Banashankari  "
      ]
     },
     "execution_count": 4,
     "metadata": {},
     "output_type": "execute_result"
    }
   ],
   "source": [
    "data.head()"
   ]
  },
  {
   "cell_type": "code",
   "execution_count": 5,
   "id": "f7235b93",
   "metadata": {
    "execution": {
     "iopub.execute_input": "2024-06-16T20:30:20.790680Z",
     "iopub.status.busy": "2024-06-16T20:30:20.790034Z",
     "iopub.status.idle": "2024-06-16T20:30:20.859121Z",
     "shell.execute_reply": "2024-06-16T20:30:20.857882Z"
    },
    "papermill": {
     "duration": 0.090539,
     "end_time": "2024-06-16T20:30:20.861576",
     "exception": false,
     "start_time": "2024-06-16T20:30:20.771037",
     "status": "completed"
    },
    "tags": []
   },
   "outputs": [
    {
     "name": "stdout",
     "output_type": "stream",
     "text": [
      "<class 'pandas.core.frame.DataFrame'>\n",
      "RangeIndex: 51717 entries, 0 to 51716\n",
      "Data columns (total 17 columns):\n",
      " #   Column                       Non-Null Count  Dtype \n",
      "---  ------                       --------------  ----- \n",
      " 0   url                          51717 non-null  object\n",
      " 1   address                      51717 non-null  object\n",
      " 2   name                         51717 non-null  object\n",
      " 3   online_order                 51717 non-null  object\n",
      " 4   book_table                   51717 non-null  object\n",
      " 5   rate                         43942 non-null  object\n",
      " 6   votes                        51717 non-null  int64 \n",
      " 7   phone                        50509 non-null  object\n",
      " 8   location                     51696 non-null  object\n",
      " 9   rest_type                    51490 non-null  object\n",
      " 10  dish_liked                   23639 non-null  object\n",
      " 11  cuisines                     51672 non-null  object\n",
      " 12  approx_cost(for two people)  51371 non-null  object\n",
      " 13  reviews_list                 51717 non-null  object\n",
      " 14  menu_item                    51717 non-null  object\n",
      " 15  listed_in(type)              51717 non-null  object\n",
      " 16  listed_in(city)              51717 non-null  object\n",
      "dtypes: int64(1), object(16)\n",
      "memory usage: 6.7+ MB\n"
     ]
    }
   ],
   "source": [
    "data.info()"
   ]
  },
  {
   "cell_type": "markdown",
   "id": "834012ab",
   "metadata": {
    "papermill": {
     "duration": 0.017265,
     "end_time": "2024-06-16T20:30:20.896508",
     "exception": false,
     "start_time": "2024-06-16T20:30:20.879243",
     "status": "completed"
    },
    "tags": []
   },
   "source": [
    "Data Cleaning (if required)"
   ]
  },
  {
   "cell_type": "code",
   "execution_count": 6,
   "id": "4626e456",
   "metadata": {
    "execution": {
     "iopub.execute_input": "2024-06-16T20:30:20.933159Z",
     "iopub.status.busy": "2024-06-16T20:30:20.932770Z",
     "iopub.status.idle": "2024-06-16T20:30:20.949277Z",
     "shell.execute_reply": "2024-06-16T20:30:20.948278Z"
    },
    "papermill": {
     "duration": 0.037321,
     "end_time": "2024-06-16T20:30:20.951500",
     "exception": false,
     "start_time": "2024-06-16T20:30:20.914179",
     "status": "completed"
    },
    "tags": []
   },
   "outputs": [
    {
     "data": {
      "text/html": [
       "<div>\n",
       "<style scoped>\n",
       "    .dataframe tbody tr th:only-of-type {\n",
       "        vertical-align: middle;\n",
       "    }\n",
       "\n",
       "    .dataframe tbody tr th {\n",
       "        vertical-align: top;\n",
       "    }\n",
       "\n",
       "    .dataframe thead th {\n",
       "        text-align: right;\n",
       "    }\n",
       "</style>\n",
       "<table border=\"1\" class=\"dataframe\">\n",
       "  <thead>\n",
       "    <tr style=\"text-align: right;\">\n",
       "      <th></th>\n",
       "      <th>url</th>\n",
       "      <th>address</th>\n",
       "      <th>name</th>\n",
       "      <th>online_order</th>\n",
       "      <th>book_table</th>\n",
       "      <th>rate</th>\n",
       "      <th>votes</th>\n",
       "      <th>phone</th>\n",
       "      <th>location</th>\n",
       "      <th>rest_type</th>\n",
       "      <th>dish_liked</th>\n",
       "      <th>cuisines</th>\n",
       "      <th>approx_cost(for two people)</th>\n",
       "      <th>reviews_list</th>\n",
       "      <th>menu_item</th>\n",
       "      <th>listed_in(type)</th>\n",
       "      <th>listed_in(city)</th>\n",
       "    </tr>\n",
       "  </thead>\n",
       "  <tbody>\n",
       "    <tr>\n",
       "      <th>0</th>\n",
       "      <td>https://www.zomato.com/bangalore/jalsa-banasha...</td>\n",
       "      <td>942, 21st Main Road, 2nd Stage, Banashankari, ...</td>\n",
       "      <td>Jalsa</td>\n",
       "      <td>Yes</td>\n",
       "      <td>Yes</td>\n",
       "      <td>4.1/5</td>\n",
       "      <td>775</td>\n",
       "      <td>080 42297555\\r\\n+91 9743772233</td>\n",
       "      <td>Banashankari</td>\n",
       "      <td>Casual Dining</td>\n",
       "      <td>Pasta, Lunch Buffet, Masala Papad, Paneer Laja...</td>\n",
       "      <td>North Indian, Mughlai, Chinese</td>\n",
       "      <td>800</td>\n",
       "      <td>[('Rated 4.0', 'RATED\\n  A beautiful place to ...</td>\n",
       "      <td>[]</td>\n",
       "      <td>Buffet</td>\n",
       "      <td>Banashankari</td>\n",
       "    </tr>\n",
       "  </tbody>\n",
       "</table>\n",
       "</div>"
      ],
      "text/plain": [
       "                                                 url  \\\n",
       "0  https://www.zomato.com/bangalore/jalsa-banasha...   \n",
       "\n",
       "                                             address   name online_order  \\\n",
       "0  942, 21st Main Road, 2nd Stage, Banashankari, ...  Jalsa          Yes   \n",
       "\n",
       "  book_table   rate  votes                           phone      location  \\\n",
       "0        Yes  4.1/5    775  080 42297555\\r\\n+91 9743772233  Banashankari   \n",
       "\n",
       "       rest_type                                         dish_liked  \\\n",
       "0  Casual Dining  Pasta, Lunch Buffet, Masala Papad, Paneer Laja...   \n",
       "\n",
       "                         cuisines approx_cost(for two people)  \\\n",
       "0  North Indian, Mughlai, Chinese                         800   \n",
       "\n",
       "                                        reviews_list menu_item  \\\n",
       "0  [('Rated 4.0', 'RATED\\n  A beautiful place to ...        []   \n",
       "\n",
       "  listed_in(type) listed_in(city)  \n",
       "0          Buffet    Banashankari  "
      ]
     },
     "execution_count": 6,
     "metadata": {},
     "output_type": "execute_result"
    }
   ],
   "source": [
    "data.head(1)"
   ]
  },
  {
   "cell_type": "markdown",
   "id": "c87bf708",
   "metadata": {
    "papermill": {
     "duration": 0.017401,
     "end_time": "2024-06-16T20:30:20.986688",
     "exception": false,
     "start_time": "2024-06-16T20:30:20.969287",
     "status": "completed"
    },
    "tags": []
   },
   "source": [
    "url, address, phone, menu item(which is empty), dish liked and review list are being dropped"
   ]
  },
  {
   "cell_type": "code",
   "execution_count": 7,
   "id": "5e5a5ea0",
   "metadata": {
    "execution": {
     "iopub.execute_input": "2024-06-16T20:30:21.024839Z",
     "iopub.status.busy": "2024-06-16T20:30:21.024467Z",
     "iopub.status.idle": "2024-06-16T20:30:21.037616Z",
     "shell.execute_reply": "2024-06-16T20:30:21.036625Z"
    },
    "papermill": {
     "duration": 0.035649,
     "end_time": "2024-06-16T20:30:21.040150",
     "exception": false,
     "start_time": "2024-06-16T20:30:21.004501",
     "status": "completed"
    },
    "tags": []
   },
   "outputs": [],
   "source": [
    "data.drop(['url', 'address', 'phone', 'menu_item', 'dish_liked', 'reviews_list'], axis=1, inplace=True)"
   ]
  },
  {
   "cell_type": "code",
   "execution_count": 8,
   "id": "1027d604",
   "metadata": {
    "execution": {
     "iopub.execute_input": "2024-06-16T20:30:21.078368Z",
     "iopub.status.busy": "2024-06-16T20:30:21.077948Z",
     "iopub.status.idle": "2024-06-16T20:30:21.092299Z",
     "shell.execute_reply": "2024-06-16T20:30:21.091259Z"
    },
    "papermill": {
     "duration": 0.036169,
     "end_time": "2024-06-16T20:30:21.094595",
     "exception": false,
     "start_time": "2024-06-16T20:30:21.058426",
     "status": "completed"
    },
    "tags": []
   },
   "outputs": [
    {
     "data": {
      "text/html": [
       "<div>\n",
       "<style scoped>\n",
       "    .dataframe tbody tr th:only-of-type {\n",
       "        vertical-align: middle;\n",
       "    }\n",
       "\n",
       "    .dataframe tbody tr th {\n",
       "        vertical-align: top;\n",
       "    }\n",
       "\n",
       "    .dataframe thead th {\n",
       "        text-align: right;\n",
       "    }\n",
       "</style>\n",
       "<table border=\"1\" class=\"dataframe\">\n",
       "  <thead>\n",
       "    <tr style=\"text-align: right;\">\n",
       "      <th></th>\n",
       "      <th>name</th>\n",
       "      <th>online_order</th>\n",
       "      <th>book_table</th>\n",
       "      <th>rate</th>\n",
       "      <th>votes</th>\n",
       "      <th>location</th>\n",
       "      <th>rest_type</th>\n",
       "      <th>cuisines</th>\n",
       "      <th>approx_cost(for two people)</th>\n",
       "      <th>listed_in(type)</th>\n",
       "      <th>listed_in(city)</th>\n",
       "    </tr>\n",
       "  </thead>\n",
       "  <tbody>\n",
       "    <tr>\n",
       "      <th>0</th>\n",
       "      <td>Jalsa</td>\n",
       "      <td>Yes</td>\n",
       "      <td>Yes</td>\n",
       "      <td>4.1/5</td>\n",
       "      <td>775</td>\n",
       "      <td>Banashankari</td>\n",
       "      <td>Casual Dining</td>\n",
       "      <td>North Indian, Mughlai, Chinese</td>\n",
       "      <td>800</td>\n",
       "      <td>Buffet</td>\n",
       "      <td>Banashankari</td>\n",
       "    </tr>\n",
       "  </tbody>\n",
       "</table>\n",
       "</div>"
      ],
      "text/plain": [
       "    name online_order book_table   rate  votes      location      rest_type  \\\n",
       "0  Jalsa          Yes        Yes  4.1/5    775  Banashankari  Casual Dining   \n",
       "\n",
       "                         cuisines approx_cost(for two people) listed_in(type)  \\\n",
       "0  North Indian, Mughlai, Chinese                         800          Buffet   \n",
       "\n",
       "  listed_in(city)  \n",
       "0    Banashankari  "
      ]
     },
     "execution_count": 8,
     "metadata": {},
     "output_type": "execute_result"
    }
   ],
   "source": [
    "data.head(1)"
   ]
  },
  {
   "cell_type": "code",
   "execution_count": 9,
   "id": "27c52216",
   "metadata": {
    "execution": {
     "iopub.execute_input": "2024-06-16T20:30:21.133689Z",
     "iopub.status.busy": "2024-06-16T20:30:21.132766Z",
     "iopub.status.idle": "2024-06-16T20:30:21.139542Z",
     "shell.execute_reply": "2024-06-16T20:30:21.138262Z"
    },
    "papermill": {
     "duration": 0.028157,
     "end_time": "2024-06-16T20:30:21.141632",
     "exception": false,
     "start_time": "2024-06-16T20:30:21.113475",
     "status": "completed"
    },
    "tags": []
   },
   "outputs": [
    {
     "data": {
      "text/plain": [
       "(51717, 11)"
      ]
     },
     "execution_count": 9,
     "metadata": {},
     "output_type": "execute_result"
    }
   ],
   "source": [
    "data.shape"
   ]
  },
  {
   "cell_type": "code",
   "execution_count": 10,
   "id": "e87cc5d2",
   "metadata": {
    "execution": {
     "iopub.execute_input": "2024-06-16T20:30:21.236973Z",
     "iopub.status.busy": "2024-06-16T20:30:21.236211Z",
     "iopub.status.idle": "2024-06-16T20:30:21.302125Z",
     "shell.execute_reply": "2024-06-16T20:30:21.301146Z"
    },
    "papermill": {
     "duration": 0.08769,
     "end_time": "2024-06-16T20:30:21.304423",
     "exception": false,
     "start_time": "2024-06-16T20:30:21.216733",
     "status": "completed"
    },
    "tags": []
   },
   "outputs": [
    {
     "data": {
      "text/plain": [
       "(51609, 11)"
      ]
     },
     "execution_count": 10,
     "metadata": {},
     "output_type": "execute_result"
    }
   ],
   "source": [
    "# dropping duplicates\n",
    "data.drop_duplicates(inplace=True)\n",
    "data.shape"
   ]
  },
  {
   "cell_type": "markdown",
   "id": "b14892dd",
   "metadata": {
    "papermill": {
     "duration": 0.018043,
     "end_time": "2024-06-16T20:30:21.340812",
     "exception": false,
     "start_time": "2024-06-16T20:30:21.322769",
     "status": "completed"
    },
    "tags": []
   },
   "source": [
    "As we can see some rows were removed. this means there were some duplicates in the dataset"
   ]
  },
  {
   "cell_type": "markdown",
   "id": "dbe0b88e",
   "metadata": {
    "papermill": {
     "duration": 0.019365,
     "end_time": "2024-06-16T20:30:21.378519",
     "exception": false,
     "start_time": "2024-06-16T20:30:21.359154",
     "status": "completed"
    },
    "tags": []
   },
   "source": [
    "Now in the rate column we will remove the /5 part"
   ]
  },
  {
   "cell_type": "code",
   "execution_count": 11,
   "id": "6eff850d",
   "metadata": {
    "execution": {
     "iopub.execute_input": "2024-06-16T20:30:21.416958Z",
     "iopub.status.busy": "2024-06-16T20:30:21.416274Z",
     "iopub.status.idle": "2024-06-16T20:30:21.425048Z",
     "shell.execute_reply": "2024-06-16T20:30:21.423961Z"
    },
    "papermill": {
     "duration": 0.030315,
     "end_time": "2024-06-16T20:30:21.427218",
     "exception": false,
     "start_time": "2024-06-16T20:30:21.396903",
     "status": "completed"
    },
    "tags": []
   },
   "outputs": [
    {
     "data": {
      "text/plain": [
       "array(['4.1/5', '3.8/5', '3.7/5', '3.6/5', '4.6/5', '4.0/5', '4.2/5',\n",
       "       '3.9/5', '3.1/5', '3.0/5', '3.2/5', '3.3/5', '2.8/5', '4.4/5',\n",
       "       '4.3/5', 'NEW', '2.9/5', '3.5/5', nan, '2.6/5', '3.8 /5', '3.4/5',\n",
       "       '4.5/5', '2.5/5', '2.7/5', '4.7/5', '2.4/5', '2.2/5', '2.3/5',\n",
       "       '3.4 /5', '-', '3.6 /5', '4.8/5', '3.9 /5', '4.2 /5', '4.0 /5',\n",
       "       '4.1 /5', '3.7 /5', '3.1 /5', '2.9 /5', '3.3 /5', '2.8 /5',\n",
       "       '3.5 /5', '2.7 /5', '2.5 /5', '3.2 /5', '2.6 /5', '4.5 /5',\n",
       "       '4.3 /5', '4.4 /5', '4.9/5', '2.1/5', '2.0/5', '1.8/5', '4.6 /5',\n",
       "       '4.9 /5', '3.0 /5', '4.8 /5', '2.3 /5', '4.7 /5', '2.4 /5',\n",
       "       '2.1 /5', '2.2 /5', '2.0 /5', '1.8 /5'], dtype=object)"
      ]
     },
     "execution_count": 11,
     "metadata": {},
     "output_type": "execute_result"
    }
   ],
   "source": [
    "data['rate'].unique()\n",
    "# data['rate'].str.split('/')"
   ]
  },
  {
   "cell_type": "markdown",
   "id": "3cd8029a",
   "metadata": {
    "papermill": {
     "duration": 0.020175,
     "end_time": "2024-06-16T20:30:21.470065",
     "exception": false,
     "start_time": "2024-06-16T20:30:21.449890",
     "status": "completed"
    },
    "tags": []
   },
   "source": [
    "removing 'New', '-' and /5 at the end in column rate"
   ]
  },
  {
   "cell_type": "code",
   "execution_count": 12,
   "id": "2459a9ea",
   "metadata": {
    "execution": {
     "iopub.execute_input": "2024-06-16T20:30:21.521078Z",
     "iopub.status.busy": "2024-06-16T20:30:21.520134Z",
     "iopub.status.idle": "2024-06-16T20:30:21.566641Z",
     "shell.execute_reply": "2024-06-16T20:30:21.565715Z"
    },
    "papermill": {
     "duration": 0.072284,
     "end_time": "2024-06-16T20:30:21.568901",
     "exception": false,
     "start_time": "2024-06-16T20:30:21.496617",
     "status": "completed"
    },
    "tags": []
   },
   "outputs": [
    {
     "data": {
      "text/plain": [
       "0    4.1\n",
       "1    4.1\n",
       "2    3.8\n",
       "3    3.7\n",
       "4    3.8\n",
       "Name: rate, dtype: float64"
      ]
     },
     "execution_count": 12,
     "metadata": {},
     "output_type": "execute_result"
    }
   ],
   "source": [
    "def handlerate(value):\n",
    "    if value=='NEW' or value=='-':\n",
    "        return np.nan\n",
    "    else:\n",
    "        value=str(value).split('/')\n",
    "        value=value[0]\n",
    "        return float(value)\n",
    "    \n",
    "data['rate']=data['rate'].apply(handlerate)\n",
    "data['rate'].head()"
   ]
  },
  {
   "cell_type": "markdown",
   "id": "5c9e6b1f",
   "metadata": {
    "papermill": {
     "duration": 0.018343,
     "end_time": "2024-06-16T20:30:21.605946",
     "exception": false,
     "start_time": "2024-06-16T20:30:21.587603",
     "status": "completed"
    },
    "tags": []
   },
   "source": [
    "Now lets handle the null values in the dataset"
   ]
  },
  {
   "cell_type": "code",
   "execution_count": 13,
   "id": "93a9c65f",
   "metadata": {
    "execution": {
     "iopub.execute_input": "2024-06-16T20:30:21.645574Z",
     "iopub.status.busy": "2024-06-16T20:30:21.645181Z",
     "iopub.status.idle": "2024-06-16T20:30:21.652646Z",
     "shell.execute_reply": "2024-06-16T20:30:21.651521Z"
    },
    "papermill": {
     "duration": 0.030411,
     "end_time": "2024-06-16T20:30:21.655048",
     "exception": false,
     "start_time": "2024-06-16T20:30:21.624637",
     "status": "completed"
    },
    "tags": []
   },
   "outputs": [
    {
     "data": {
      "text/plain": [
       "10019"
      ]
     },
     "execution_count": 13,
     "metadata": {},
     "output_type": "execute_result"
    }
   ],
   "source": [
    "data.rate.isnull().sum()"
   ]
  },
  {
   "cell_type": "markdown",
   "id": "2fbe54e9",
   "metadata": {
    "papermill": {
     "duration": 0.018801,
     "end_time": "2024-06-16T20:30:21.693024",
     "exception": false,
     "start_time": "2024-06-16T20:30:21.674223",
     "status": "completed"
    },
    "tags": []
   },
   "source": [
    "We will be filling the null values in rate column with the mean"
   ]
  },
  {
   "cell_type": "code",
   "execution_count": 14,
   "id": "86537f0e",
   "metadata": {
    "execution": {
     "iopub.execute_input": "2024-06-16T20:30:21.732417Z",
     "iopub.status.busy": "2024-06-16T20:30:21.731660Z",
     "iopub.status.idle": "2024-06-16T20:30:21.741086Z",
     "shell.execute_reply": "2024-06-16T20:30:21.740034Z"
    },
    "papermill": {
     "duration": 0.031635,
     "end_time": "2024-06-16T20:30:21.743440",
     "exception": false,
     "start_time": "2024-06-16T20:30:21.711805",
     "status": "completed"
    },
    "tags": []
   },
   "outputs": [
    {
     "name": "stderr",
     "output_type": "stream",
     "text": [
      "/tmp/ipykernel_18/3887709726.py:1: FutureWarning: A value is trying to be set on a copy of a DataFrame or Series through chained assignment using an inplace method.\n",
      "The behavior will change in pandas 3.0. This inplace method will never work because the intermediate object on which we are setting values always behaves as a copy.\n",
      "\n",
      "For example, when doing 'df[col].method(value, inplace=True)', try using 'df.method({col: value}, inplace=True)' or df[col] = df[col].method(value) instead, to perform the operation inplace on the original object.\n",
      "\n",
      "\n",
      "  data['rate'].fillna(data['rate'].mean(), inplace=True)\n"
     ]
    },
    {
     "data": {
      "text/plain": [
       "0"
      ]
     },
     "execution_count": 14,
     "metadata": {},
     "output_type": "execute_result"
    }
   ],
   "source": [
    "data['rate'].fillna(data['rate'].mean(), inplace=True)\n",
    "data.rate.isnull().sum()"
   ]
  },
  {
   "cell_type": "code",
   "execution_count": 15,
   "id": "daefdf8f",
   "metadata": {
    "execution": {
     "iopub.execute_input": "2024-06-16T20:30:21.783952Z",
     "iopub.status.busy": "2024-06-16T20:30:21.782892Z",
     "iopub.status.idle": "2024-06-16T20:30:21.818263Z",
     "shell.execute_reply": "2024-06-16T20:30:21.817074Z"
    },
    "papermill": {
     "duration": 0.058469,
     "end_time": "2024-06-16T20:30:21.820848",
     "exception": false,
     "start_time": "2024-06-16T20:30:21.762379",
     "status": "completed"
    },
    "tags": []
   },
   "outputs": [
    {
     "name": "stdout",
     "output_type": "stream",
     "text": [
      "<class 'pandas.core.frame.DataFrame'>\n",
      "Index: 51609 entries, 0 to 51716\n",
      "Data columns (total 11 columns):\n",
      " #   Column                       Non-Null Count  Dtype  \n",
      "---  ------                       --------------  -----  \n",
      " 0   name                         51609 non-null  object \n",
      " 1   online_order                 51609 non-null  object \n",
      " 2   book_table                   51609 non-null  object \n",
      " 3   rate                         51609 non-null  float64\n",
      " 4   votes                        51609 non-null  int64  \n",
      " 5   location                     51588 non-null  object \n",
      " 6   rest_type                    51382 non-null  object \n",
      " 7   cuisines                     51564 non-null  object \n",
      " 8   approx_cost(for two people)  51265 non-null  object \n",
      " 9   listed_in(type)              51609 non-null  object \n",
      " 10  listed_in(city)              51609 non-null  object \n",
      "dtypes: float64(1), int64(1), object(9)\n",
      "memory usage: 4.7+ MB\n"
     ]
    }
   ],
   "source": [
    "data.info()"
   ]
  },
  {
   "cell_type": "markdown",
   "id": "48f9c369",
   "metadata": {
    "papermill": {
     "duration": 0.018864,
     "end_time": "2024-06-16T20:30:21.858829",
     "exception": false,
     "start_time": "2024-06-16T20:30:21.839965",
     "status": "completed"
    },
    "tags": []
   },
   "source": [
    "Now we will attempt filling in the empty values for location"
   ]
  },
  {
   "cell_type": "code",
   "execution_count": 16,
   "id": "f0f888e3",
   "metadata": {
    "execution": {
     "iopub.execute_input": "2024-06-16T20:30:21.898854Z",
     "iopub.status.busy": "2024-06-16T20:30:21.898130Z",
     "iopub.status.idle": "2024-06-16T20:30:21.928977Z",
     "shell.execute_reply": "2024-06-16T20:30:21.927980Z"
    },
    "papermill": {
     "duration": 0.053133,
     "end_time": "2024-06-16T20:30:21.931143",
     "exception": false,
     "start_time": "2024-06-16T20:30:21.878010",
     "status": "completed"
    },
    "tags": []
   },
   "outputs": [
    {
     "data": {
      "text/plain": [
       "name                             0\n",
       "online_order                     0\n",
       "book_table                       0\n",
       "rate                             0\n",
       "votes                            0\n",
       "location                        21\n",
       "rest_type                      227\n",
       "cuisines                        45\n",
       "approx_cost(for two people)    344\n",
       "listed_in(type)                  0\n",
       "listed_in(city)                  0\n",
       "dtype: int64"
      ]
     },
     "execution_count": 16,
     "metadata": {},
     "output_type": "execute_result"
    }
   ],
   "source": [
    "data.isnull().sum()"
   ]
  },
  {
   "cell_type": "markdown",
   "id": "fb5e6167",
   "metadata": {
    "papermill": {
     "duration": 0.018716,
     "end_time": "2024-06-16T20:30:21.968941",
     "exception": false,
     "start_time": "2024-06-16T20:30:21.950225",
     "status": "completed"
    },
    "tags": []
   },
   "source": [
    "The amount of null values is less so we can just drop them"
   ]
  },
  {
   "cell_type": "code",
   "execution_count": 17,
   "id": "316b7e77",
   "metadata": {
    "execution": {
     "iopub.execute_input": "2024-06-16T20:30:22.009151Z",
     "iopub.status.busy": "2024-06-16T20:30:22.008179Z",
     "iopub.status.idle": "2024-06-16T20:30:22.069827Z",
     "shell.execute_reply": "2024-06-16T20:30:22.068751Z"
    },
    "papermill": {
     "duration": 0.084211,
     "end_time": "2024-06-16T20:30:22.072149",
     "exception": false,
     "start_time": "2024-06-16T20:30:21.987938",
     "status": "completed"
    },
    "tags": []
   },
   "outputs": [
    {
     "data": {
      "text/plain": [
       "name                           0\n",
       "online_order                   0\n",
       "book_table                     0\n",
       "rate                           0\n",
       "votes                          0\n",
       "location                       0\n",
       "rest_type                      0\n",
       "cuisines                       0\n",
       "approx_cost(for two people)    0\n",
       "listed_in(type)                0\n",
       "listed_in(city)                0\n",
       "dtype: int64"
      ]
     },
     "execution_count": 17,
     "metadata": {},
     "output_type": "execute_result"
    }
   ],
   "source": [
    "data.dropna(inplace=True)\n",
    "data.isnull().sum()"
   ]
  },
  {
   "cell_type": "code",
   "execution_count": 18,
   "id": "607e6ed7",
   "metadata": {
    "execution": {
     "iopub.execute_input": "2024-06-16T20:30:22.112744Z",
     "iopub.status.busy": "2024-06-16T20:30:22.112042Z",
     "iopub.status.idle": "2024-06-16T20:30:22.127506Z",
     "shell.execute_reply": "2024-06-16T20:30:22.126477Z"
    },
    "papermill": {
     "duration": 0.038219,
     "end_time": "2024-06-16T20:30:22.129816",
     "exception": false,
     "start_time": "2024-06-16T20:30:22.091597",
     "status": "completed"
    },
    "tags": []
   },
   "outputs": [
    {
     "data": {
      "text/html": [
       "<div>\n",
       "<style scoped>\n",
       "    .dataframe tbody tr th:only-of-type {\n",
       "        vertical-align: middle;\n",
       "    }\n",
       "\n",
       "    .dataframe tbody tr th {\n",
       "        vertical-align: top;\n",
       "    }\n",
       "\n",
       "    .dataframe thead th {\n",
       "        text-align: right;\n",
       "    }\n",
       "</style>\n",
       "<table border=\"1\" class=\"dataframe\">\n",
       "  <thead>\n",
       "    <tr style=\"text-align: right;\">\n",
       "      <th></th>\n",
       "      <th>name</th>\n",
       "      <th>online_order</th>\n",
       "      <th>book_table</th>\n",
       "      <th>rate</th>\n",
       "      <th>votes</th>\n",
       "      <th>location</th>\n",
       "      <th>rest_type</th>\n",
       "      <th>cuisines</th>\n",
       "      <th>approx_cost(for two people)</th>\n",
       "      <th>listed_in(type)</th>\n",
       "      <th>listed_in(city)</th>\n",
       "    </tr>\n",
       "  </thead>\n",
       "  <tbody>\n",
       "    <tr>\n",
       "      <th>0</th>\n",
       "      <td>Jalsa</td>\n",
       "      <td>Yes</td>\n",
       "      <td>Yes</td>\n",
       "      <td>4.1</td>\n",
       "      <td>775</td>\n",
       "      <td>Banashankari</td>\n",
       "      <td>Casual Dining</td>\n",
       "      <td>North Indian, Mughlai, Chinese</td>\n",
       "      <td>800</td>\n",
       "      <td>Buffet</td>\n",
       "      <td>Banashankari</td>\n",
       "    </tr>\n",
       "    <tr>\n",
       "      <th>1</th>\n",
       "      <td>Spice Elephant</td>\n",
       "      <td>Yes</td>\n",
       "      <td>No</td>\n",
       "      <td>4.1</td>\n",
       "      <td>787</td>\n",
       "      <td>Banashankari</td>\n",
       "      <td>Casual Dining</td>\n",
       "      <td>Chinese, North Indian, Thai</td>\n",
       "      <td>800</td>\n",
       "      <td>Buffet</td>\n",
       "      <td>Banashankari</td>\n",
       "    </tr>\n",
       "    <tr>\n",
       "      <th>2</th>\n",
       "      <td>San Churro Cafe</td>\n",
       "      <td>Yes</td>\n",
       "      <td>No</td>\n",
       "      <td>3.8</td>\n",
       "      <td>918</td>\n",
       "      <td>Banashankari</td>\n",
       "      <td>Cafe, Casual Dining</td>\n",
       "      <td>Cafe, Mexican, Italian</td>\n",
       "      <td>800</td>\n",
       "      <td>Buffet</td>\n",
       "      <td>Banashankari</td>\n",
       "    </tr>\n",
       "    <tr>\n",
       "      <th>3</th>\n",
       "      <td>Addhuri Udupi Bhojana</td>\n",
       "      <td>No</td>\n",
       "      <td>No</td>\n",
       "      <td>3.7</td>\n",
       "      <td>88</td>\n",
       "      <td>Banashankari</td>\n",
       "      <td>Quick Bites</td>\n",
       "      <td>South Indian, North Indian</td>\n",
       "      <td>300</td>\n",
       "      <td>Buffet</td>\n",
       "      <td>Banashankari</td>\n",
       "    </tr>\n",
       "    <tr>\n",
       "      <th>4</th>\n",
       "      <td>Grand Village</td>\n",
       "      <td>No</td>\n",
       "      <td>No</td>\n",
       "      <td>3.8</td>\n",
       "      <td>166</td>\n",
       "      <td>Basavanagudi</td>\n",
       "      <td>Casual Dining</td>\n",
       "      <td>North Indian, Rajasthani</td>\n",
       "      <td>600</td>\n",
       "      <td>Buffet</td>\n",
       "      <td>Banashankari</td>\n",
       "    </tr>\n",
       "  </tbody>\n",
       "</table>\n",
       "</div>"
      ],
      "text/plain": [
       "                    name online_order book_table  rate  votes      location  \\\n",
       "0                  Jalsa          Yes        Yes   4.1    775  Banashankari   \n",
       "1         Spice Elephant          Yes         No   4.1    787  Banashankari   \n",
       "2        San Churro Cafe          Yes         No   3.8    918  Banashankari   \n",
       "3  Addhuri Udupi Bhojana           No         No   3.7     88  Banashankari   \n",
       "4          Grand Village           No         No   3.8    166  Basavanagudi   \n",
       "\n",
       "             rest_type                        cuisines  \\\n",
       "0        Casual Dining  North Indian, Mughlai, Chinese   \n",
       "1        Casual Dining     Chinese, North Indian, Thai   \n",
       "2  Cafe, Casual Dining          Cafe, Mexican, Italian   \n",
       "3          Quick Bites      South Indian, North Indian   \n",
       "4        Casual Dining        North Indian, Rajasthani   \n",
       "\n",
       "  approx_cost(for two people) listed_in(type) listed_in(city)  \n",
       "0                         800          Buffet    Banashankari  \n",
       "1                         800          Buffet    Banashankari  \n",
       "2                         800          Buffet    Banashankari  \n",
       "3                         300          Buffet    Banashankari  \n",
       "4                         600          Buffet    Banashankari  "
      ]
     },
     "execution_count": 18,
     "metadata": {},
     "output_type": "execute_result"
    }
   ],
   "source": [
    "data.head(5)"
   ]
  },
  {
   "cell_type": "markdown",
   "id": "8f579990",
   "metadata": {
    "papermill": {
     "duration": 0.0198,
     "end_time": "2024-06-16T20:30:22.169369",
     "exception": false,
     "start_time": "2024-06-16T20:30:22.149569",
     "status": "completed"
    },
    "tags": []
   },
   "source": [
    "We gonna rename 2 cols coz their name is lengthy af: approx_cost(for two people) - cost2plates, listed_in(type) - Type"
   ]
  },
  {
   "cell_type": "code",
   "execution_count": 19,
   "id": "d5fe991c",
   "metadata": {
    "execution": {
     "iopub.execute_input": "2024-06-16T20:30:22.210696Z",
     "iopub.status.busy": "2024-06-16T20:30:22.209386Z",
     "iopub.status.idle": "2024-06-16T20:30:22.215283Z",
     "shell.execute_reply": "2024-06-16T20:30:22.214413Z"
    },
    "papermill": {
     "duration": 0.028712,
     "end_time": "2024-06-16T20:30:22.217526",
     "exception": false,
     "start_time": "2024-06-16T20:30:22.188814",
     "status": "completed"
    },
    "tags": []
   },
   "outputs": [],
   "source": [
    "data.rename(columns={'approx_cost(for two people)':'cost2plates', 'listed_in(type)':'type'}, inplace=True)"
   ]
  },
  {
   "cell_type": "code",
   "execution_count": 20,
   "id": "0ab26bfd",
   "metadata": {
    "execution": {
     "iopub.execute_input": "2024-06-16T20:30:22.258705Z",
     "iopub.status.busy": "2024-06-16T20:30:22.257910Z",
     "iopub.status.idle": "2024-06-16T20:30:22.264869Z",
     "shell.execute_reply": "2024-06-16T20:30:22.263638Z"
    },
    "papermill": {
     "duration": 0.029762,
     "end_time": "2024-06-16T20:30:22.267050",
     "exception": false,
     "start_time": "2024-06-16T20:30:22.237288",
     "status": "completed"
    },
    "tags": []
   },
   "outputs": [
    {
     "data": {
      "text/plain": [
       "Index(['name', 'online_order', 'book_table', 'rate', 'votes', 'location',\n",
       "       'rest_type', 'cuisines', 'cost2plates', 'type', 'listed_in(city)'],\n",
       "      dtype='object')"
      ]
     },
     "execution_count": 20,
     "metadata": {},
     "output_type": "execute_result"
    }
   ],
   "source": [
    "data.columns"
   ]
  },
  {
   "cell_type": "code",
   "execution_count": 21,
   "id": "98671b79",
   "metadata": {
    "execution": {
     "iopub.execute_input": "2024-06-16T20:30:22.308570Z",
     "iopub.status.busy": "2024-06-16T20:30:22.307618Z",
     "iopub.status.idle": "2024-06-16T20:30:22.323253Z",
     "shell.execute_reply": "2024-06-16T20:30:22.322136Z"
    },
    "papermill": {
     "duration": 0.038761,
     "end_time": "2024-06-16T20:30:22.325569",
     "exception": false,
     "start_time": "2024-06-16T20:30:22.286808",
     "status": "completed"
    },
    "tags": []
   },
   "outputs": [
    {
     "data": {
      "text/html": [
       "<div>\n",
       "<style scoped>\n",
       "    .dataframe tbody tr th:only-of-type {\n",
       "        vertical-align: middle;\n",
       "    }\n",
       "\n",
       "    .dataframe tbody tr th {\n",
       "        vertical-align: top;\n",
       "    }\n",
       "\n",
       "    .dataframe thead th {\n",
       "        text-align: right;\n",
       "    }\n",
       "</style>\n",
       "<table border=\"1\" class=\"dataframe\">\n",
       "  <thead>\n",
       "    <tr style=\"text-align: right;\">\n",
       "      <th></th>\n",
       "      <th>name</th>\n",
       "      <th>online_order</th>\n",
       "      <th>book_table</th>\n",
       "      <th>rate</th>\n",
       "      <th>votes</th>\n",
       "      <th>location</th>\n",
       "      <th>rest_type</th>\n",
       "      <th>cuisines</th>\n",
       "      <th>cost2plates</th>\n",
       "      <th>type</th>\n",
       "      <th>listed_in(city)</th>\n",
       "    </tr>\n",
       "  </thead>\n",
       "  <tbody>\n",
       "    <tr>\n",
       "      <th>0</th>\n",
       "      <td>Jalsa</td>\n",
       "      <td>Yes</td>\n",
       "      <td>Yes</td>\n",
       "      <td>4.1</td>\n",
       "      <td>775</td>\n",
       "      <td>Banashankari</td>\n",
       "      <td>Casual Dining</td>\n",
       "      <td>North Indian, Mughlai, Chinese</td>\n",
       "      <td>800</td>\n",
       "      <td>Buffet</td>\n",
       "      <td>Banashankari</td>\n",
       "    </tr>\n",
       "    <tr>\n",
       "      <th>1</th>\n",
       "      <td>Spice Elephant</td>\n",
       "      <td>Yes</td>\n",
       "      <td>No</td>\n",
       "      <td>4.1</td>\n",
       "      <td>787</td>\n",
       "      <td>Banashankari</td>\n",
       "      <td>Casual Dining</td>\n",
       "      <td>Chinese, North Indian, Thai</td>\n",
       "      <td>800</td>\n",
       "      <td>Buffet</td>\n",
       "      <td>Banashankari</td>\n",
       "    </tr>\n",
       "    <tr>\n",
       "      <th>2</th>\n",
       "      <td>San Churro Cafe</td>\n",
       "      <td>Yes</td>\n",
       "      <td>No</td>\n",
       "      <td>3.8</td>\n",
       "      <td>918</td>\n",
       "      <td>Banashankari</td>\n",
       "      <td>Cafe, Casual Dining</td>\n",
       "      <td>Cafe, Mexican, Italian</td>\n",
       "      <td>800</td>\n",
       "      <td>Buffet</td>\n",
       "      <td>Banashankari</td>\n",
       "    </tr>\n",
       "    <tr>\n",
       "      <th>3</th>\n",
       "      <td>Addhuri Udupi Bhojana</td>\n",
       "      <td>No</td>\n",
       "      <td>No</td>\n",
       "      <td>3.7</td>\n",
       "      <td>88</td>\n",
       "      <td>Banashankari</td>\n",
       "      <td>Quick Bites</td>\n",
       "      <td>South Indian, North Indian</td>\n",
       "      <td>300</td>\n",
       "      <td>Buffet</td>\n",
       "      <td>Banashankari</td>\n",
       "    </tr>\n",
       "    <tr>\n",
       "      <th>4</th>\n",
       "      <td>Grand Village</td>\n",
       "      <td>No</td>\n",
       "      <td>No</td>\n",
       "      <td>3.8</td>\n",
       "      <td>166</td>\n",
       "      <td>Basavanagudi</td>\n",
       "      <td>Casual Dining</td>\n",
       "      <td>North Indian, Rajasthani</td>\n",
       "      <td>600</td>\n",
       "      <td>Buffet</td>\n",
       "      <td>Banashankari</td>\n",
       "    </tr>\n",
       "  </tbody>\n",
       "</table>\n",
       "</div>"
      ],
      "text/plain": [
       "                    name online_order book_table  rate  votes      location  \\\n",
       "0                  Jalsa          Yes        Yes   4.1    775  Banashankari   \n",
       "1         Spice Elephant          Yes         No   4.1    787  Banashankari   \n",
       "2        San Churro Cafe          Yes         No   3.8    918  Banashankari   \n",
       "3  Addhuri Udupi Bhojana           No         No   3.7     88  Banashankari   \n",
       "4          Grand Village           No         No   3.8    166  Basavanagudi   \n",
       "\n",
       "             rest_type                        cuisines cost2plates    type  \\\n",
       "0        Casual Dining  North Indian, Mughlai, Chinese         800  Buffet   \n",
       "1        Casual Dining     Chinese, North Indian, Thai         800  Buffet   \n",
       "2  Cafe, Casual Dining          Cafe, Mexican, Italian         800  Buffet   \n",
       "3          Quick Bites      South Indian, North Indian         300  Buffet   \n",
       "4        Casual Dining        North Indian, Rajasthani         600  Buffet   \n",
       "\n",
       "  listed_in(city)  \n",
       "0    Banashankari  \n",
       "1    Banashankari  \n",
       "2    Banashankari  \n",
       "3    Banashankari  \n",
       "4    Banashankari  "
      ]
     },
     "execution_count": 21,
     "metadata": {},
     "output_type": "execute_result"
    }
   ],
   "source": [
    "data.head()"
   ]
  },
  {
   "cell_type": "code",
   "execution_count": 22,
   "id": "5cff650c",
   "metadata": {
    "execution": {
     "iopub.execute_input": "2024-06-16T20:30:22.370226Z",
     "iopub.status.busy": "2024-06-16T20:30:22.369253Z",
     "iopub.status.idle": "2024-06-16T20:30:22.380455Z",
     "shell.execute_reply": "2024-06-16T20:30:22.379248Z"
    },
    "papermill": {
     "duration": 0.036791,
     "end_time": "2024-06-16T20:30:22.382936",
     "exception": false,
     "start_time": "2024-06-16T20:30:22.346145",
     "status": "completed"
    },
    "tags": []
   },
   "outputs": [
    {
     "data": {
      "text/plain": [
       "array(['Banashankari', 'Basavanagudi', 'Mysore Road', 'Jayanagar',\n",
       "       'Kumaraswamy Layout', 'Rajarajeshwari Nagar', 'Vijay Nagar',\n",
       "       'Uttarahalli', 'JP Nagar', 'South Bangalore', 'City Market',\n",
       "       'Nagarbhavi', 'Bannerghatta Road', 'BTM', 'Kanakapura Road',\n",
       "       'Bommanahalli', 'CV Raman Nagar', 'Electronic City', 'HSR',\n",
       "       'Marathahalli', 'Wilson Garden', 'Shanti Nagar',\n",
       "       'Koramangala 5th Block', 'Koramangala 8th Block', 'Richmond Road',\n",
       "       'Koramangala 7th Block', 'Jalahalli', 'Koramangala 4th Block',\n",
       "       'Bellandur', 'Sarjapur Road', 'Whitefield', 'East Bangalore',\n",
       "       'Old Airport Road', 'Indiranagar', 'Koramangala 1st Block',\n",
       "       'Frazer Town', 'RT Nagar', 'MG Road', 'Brigade Road',\n",
       "       'Lavelle Road', 'Church Street', 'Ulsoor', 'Residency Road',\n",
       "       'Shivajinagar', 'Infantry Road', 'St. Marks Road',\n",
       "       'Cunningham Road', 'Race Course Road', 'Commercial Street',\n",
       "       'Vasanth Nagar', 'HBR Layout', 'Domlur', 'Ejipura',\n",
       "       'Jeevan Bhima Nagar', 'Old Madras Road', 'Malleshwaram',\n",
       "       'Seshadripuram', 'Kammanahalli', 'Koramangala 6th Block',\n",
       "       'Majestic', 'Langford Town', 'Central Bangalore', 'Sanjay Nagar',\n",
       "       'Brookefield', 'ITPL Main Road, Whitefield',\n",
       "       'Varthur Main Road, Whitefield', 'KR Puram',\n",
       "       'Koramangala 2nd Block', 'Koramangala 3rd Block', 'Koramangala',\n",
       "       'Hosur Road', 'Rajajinagar', 'Banaswadi', 'North Bangalore',\n",
       "       'Nagawara', 'Hennur', 'Kalyan Nagar', 'New BEL Road', 'Jakkur',\n",
       "       'Rammurthy Nagar', 'Thippasandra', 'Kaggadasapura', 'Hebbal',\n",
       "       'Kengeri', 'Sankey Road', 'Sadashiv Nagar', 'Basaveshwara Nagar',\n",
       "       'Yeshwantpur', 'West Bangalore', 'Magadi Road', 'Yelahanka',\n",
       "       'Sahakara Nagar', 'Peenya'], dtype=object)"
      ]
     },
     "execution_count": 22,
     "metadata": {},
     "output_type": "execute_result"
    }
   ],
   "source": [
    "(data.location.unique())"
   ]
  },
  {
   "cell_type": "code",
   "execution_count": 23,
   "id": "442c7463",
   "metadata": {
    "execution": {
     "iopub.execute_input": "2024-06-16T20:30:22.424935Z",
     "iopub.status.busy": "2024-06-16T20:30:22.424557Z",
     "iopub.status.idle": "2024-06-16T20:30:22.434625Z",
     "shell.execute_reply": "2024-06-16T20:30:22.433582Z"
    },
    "papermill": {
     "duration": 0.033547,
     "end_time": "2024-06-16T20:30:22.436863",
     "exception": false,
     "start_time": "2024-06-16T20:30:22.403316",
     "status": "completed"
    },
    "tags": []
   },
   "outputs": [
    {
     "data": {
      "text/plain": [
       "array(['Banashankari', 'Bannerghatta Road', 'Basavanagudi', 'Bellandur',\n",
       "       'Brigade Road', 'Brookefield', 'BTM', 'Church Street',\n",
       "       'Electronic City', 'Frazer Town', 'HSR', 'Indiranagar',\n",
       "       'Jayanagar', 'JP Nagar', 'Kalyan Nagar', 'Kammanahalli',\n",
       "       'Koramangala 4th Block', 'Koramangala 5th Block',\n",
       "       'Koramangala 6th Block', 'Koramangala 7th Block', 'Lavelle Road',\n",
       "       'Malleshwaram', 'Marathahalli', 'MG Road', 'New BEL Road',\n",
       "       'Old Airport Road', 'Rajajinagar', 'Residency Road',\n",
       "       'Sarjapur Road', 'Whitefield'], dtype=object)"
      ]
     },
     "execution_count": 23,
     "metadata": {},
     "output_type": "execute_result"
    }
   ],
   "source": [
    "(data['listed_in(city)'].unique())"
   ]
  },
  {
   "cell_type": "markdown",
   "id": "874997b7",
   "metadata": {
    "papermill": {
     "duration": 0.020182,
     "end_time": "2024-06-16T20:30:22.477411",
     "exception": false,
     "start_time": "2024-06-16T20:30:22.457229",
     "status": "completed"
    },
    "tags": []
   },
   "source": [
    "Since both the above columns contain location, we can drop one of them. In this can we will drop listed_in(city) column"
   ]
  },
  {
   "cell_type": "code",
   "execution_count": 24,
   "id": "772ac92e",
   "metadata": {
    "execution": {
     "iopub.execute_input": "2024-06-16T20:30:22.520575Z",
     "iopub.status.busy": "2024-06-16T20:30:22.520169Z",
     "iopub.status.idle": "2024-06-16T20:30:22.540004Z",
     "shell.execute_reply": "2024-06-16T20:30:22.538946Z"
    },
    "papermill": {
     "duration": 0.044439,
     "end_time": "2024-06-16T20:30:22.542835",
     "exception": false,
     "start_time": "2024-06-16T20:30:22.498396",
     "status": "completed"
    },
    "tags": []
   },
   "outputs": [
    {
     "data": {
      "text/html": [
       "<div>\n",
       "<style scoped>\n",
       "    .dataframe tbody tr th:only-of-type {\n",
       "        vertical-align: middle;\n",
       "    }\n",
       "\n",
       "    .dataframe tbody tr th {\n",
       "        vertical-align: top;\n",
       "    }\n",
       "\n",
       "    .dataframe thead th {\n",
       "        text-align: right;\n",
       "    }\n",
       "</style>\n",
       "<table border=\"1\" class=\"dataframe\">\n",
       "  <thead>\n",
       "    <tr style=\"text-align: right;\">\n",
       "      <th></th>\n",
       "      <th>name</th>\n",
       "      <th>online_order</th>\n",
       "      <th>book_table</th>\n",
       "      <th>rate</th>\n",
       "      <th>votes</th>\n",
       "      <th>location</th>\n",
       "      <th>rest_type</th>\n",
       "      <th>cuisines</th>\n",
       "      <th>cost2plates</th>\n",
       "      <th>type</th>\n",
       "    </tr>\n",
       "  </thead>\n",
       "  <tbody>\n",
       "    <tr>\n",
       "      <th>0</th>\n",
       "      <td>Jalsa</td>\n",
       "      <td>Yes</td>\n",
       "      <td>Yes</td>\n",
       "      <td>4.1</td>\n",
       "      <td>775</td>\n",
       "      <td>Banashankari</td>\n",
       "      <td>Casual Dining</td>\n",
       "      <td>North Indian, Mughlai, Chinese</td>\n",
       "      <td>800</td>\n",
       "      <td>Buffet</td>\n",
       "    </tr>\n",
       "    <tr>\n",
       "      <th>1</th>\n",
       "      <td>Spice Elephant</td>\n",
       "      <td>Yes</td>\n",
       "      <td>No</td>\n",
       "      <td>4.1</td>\n",
       "      <td>787</td>\n",
       "      <td>Banashankari</td>\n",
       "      <td>Casual Dining</td>\n",
       "      <td>Chinese, North Indian, Thai</td>\n",
       "      <td>800</td>\n",
       "      <td>Buffet</td>\n",
       "    </tr>\n",
       "    <tr>\n",
       "      <th>2</th>\n",
       "      <td>San Churro Cafe</td>\n",
       "      <td>Yes</td>\n",
       "      <td>No</td>\n",
       "      <td>3.8</td>\n",
       "      <td>918</td>\n",
       "      <td>Banashankari</td>\n",
       "      <td>Cafe, Casual Dining</td>\n",
       "      <td>Cafe, Mexican, Italian</td>\n",
       "      <td>800</td>\n",
       "      <td>Buffet</td>\n",
       "    </tr>\n",
       "    <tr>\n",
       "      <th>3</th>\n",
       "      <td>Addhuri Udupi Bhojana</td>\n",
       "      <td>No</td>\n",
       "      <td>No</td>\n",
       "      <td>3.7</td>\n",
       "      <td>88</td>\n",
       "      <td>Banashankari</td>\n",
       "      <td>Quick Bites</td>\n",
       "      <td>South Indian, North Indian</td>\n",
       "      <td>300</td>\n",
       "      <td>Buffet</td>\n",
       "    </tr>\n",
       "    <tr>\n",
       "      <th>4</th>\n",
       "      <td>Grand Village</td>\n",
       "      <td>No</td>\n",
       "      <td>No</td>\n",
       "      <td>3.8</td>\n",
       "      <td>166</td>\n",
       "      <td>Basavanagudi</td>\n",
       "      <td>Casual Dining</td>\n",
       "      <td>North Indian, Rajasthani</td>\n",
       "      <td>600</td>\n",
       "      <td>Buffet</td>\n",
       "    </tr>\n",
       "  </tbody>\n",
       "</table>\n",
       "</div>"
      ],
      "text/plain": [
       "                    name online_order book_table  rate  votes      location  \\\n",
       "0                  Jalsa          Yes        Yes   4.1    775  Banashankari   \n",
       "1         Spice Elephant          Yes         No   4.1    787  Banashankari   \n",
       "2        San Churro Cafe          Yes         No   3.8    918  Banashankari   \n",
       "3  Addhuri Udupi Bhojana           No         No   3.7     88  Banashankari   \n",
       "4          Grand Village           No         No   3.8    166  Basavanagudi   \n",
       "\n",
       "             rest_type                        cuisines cost2plates    type  \n",
       "0        Casual Dining  North Indian, Mughlai, Chinese         800  Buffet  \n",
       "1        Casual Dining     Chinese, North Indian, Thai         800  Buffet  \n",
       "2  Cafe, Casual Dining          Cafe, Mexican, Italian         800  Buffet  \n",
       "3          Quick Bites      South Indian, North Indian         300  Buffet  \n",
       "4        Casual Dining        North Indian, Rajasthani         600  Buffet  "
      ]
     },
     "execution_count": 24,
     "metadata": {},
     "output_type": "execute_result"
    }
   ],
   "source": [
    "data.drop(columns=['listed_in(city)'], axis=1, inplace=True)\n",
    "data.head()"
   ]
  },
  {
   "cell_type": "code",
   "execution_count": 25,
   "id": "998883be",
   "metadata": {
    "execution": {
     "iopub.execute_input": "2024-06-16T20:30:22.586014Z",
     "iopub.status.busy": "2024-06-16T20:30:22.585258Z",
     "iopub.status.idle": "2024-06-16T20:30:22.595623Z",
     "shell.execute_reply": "2024-06-16T20:30:22.594396Z"
    },
    "papermill": {
     "duration": 0.034333,
     "end_time": "2024-06-16T20:30:22.597838",
     "exception": false,
     "start_time": "2024-06-16T20:30:22.563505",
     "status": "completed"
    },
    "tags": []
   },
   "outputs": [
    {
     "data": {
      "text/plain": [
       "array(['800', '300', '600', '700', '550', '500', '450', '650', '400',\n",
       "       '900', '200', '750', '150', '850', '100', '1,200', '350', '250',\n",
       "       '950', '1,000', '1,500', '1,300', '199', '80', '1,100', '160',\n",
       "       '1,600', '230', '130', '50', '190', '1,700', '1,400', '180',\n",
       "       '1,350', '2,200', '2,000', '1,800', '1,900', '330', '2,500',\n",
       "       '2,100', '3,000', '2,800', '3,400', '40', '1,250', '3,500',\n",
       "       '4,000', '2,400', '2,600', '120', '1,450', '469', '70', '3,200',\n",
       "       '60', '560', '240', '360', '6,000', '1,050', '2,300', '4,100',\n",
       "       '5,000', '3,700', '1,650', '2,700', '4,500', '140'], dtype=object)"
      ]
     },
     "execution_count": 25,
     "metadata": {},
     "output_type": "execute_result"
    }
   ],
   "source": [
    "data.cost2plates.unique()"
   ]
  },
  {
   "cell_type": "markdown",
   "id": "823ba57f",
   "metadata": {
    "papermill": {
     "duration": 0.02042,
     "end_time": "2024-06-16T20:30:22.638778",
     "exception": false,
     "start_time": "2024-06-16T20:30:22.618358",
     "status": "completed"
    },
    "tags": []
   },
   "source": [
    "We can see that there are some numbers that contain comma. We need to remove this comma so that we can use it as integer instead of string."
   ]
  },
  {
   "cell_type": "code",
   "execution_count": 26,
   "id": "1a718672",
   "metadata": {
    "execution": {
     "iopub.execute_input": "2024-06-16T20:30:22.682044Z",
     "iopub.status.busy": "2024-06-16T20:30:22.681631Z",
     "iopub.status.idle": "2024-06-16T20:30:22.723885Z",
     "shell.execute_reply": "2024-06-16T20:30:22.722546Z"
    },
    "papermill": {
     "duration": 0.066565,
     "end_time": "2024-06-16T20:30:22.726490",
     "exception": false,
     "start_time": "2024-06-16T20:30:22.659925",
     "status": "completed"
    },
    "tags": []
   },
   "outputs": [
    {
     "data": {
      "text/html": [
       "<div>\n",
       "<style scoped>\n",
       "    .dataframe tbody tr th:only-of-type {\n",
       "        vertical-align: middle;\n",
       "    }\n",
       "\n",
       "    .dataframe tbody tr th {\n",
       "        vertical-align: top;\n",
       "    }\n",
       "\n",
       "    .dataframe thead th {\n",
       "        text-align: right;\n",
       "    }\n",
       "</style>\n",
       "<table border=\"1\" class=\"dataframe\">\n",
       "  <thead>\n",
       "    <tr style=\"text-align: right;\">\n",
       "      <th></th>\n",
       "      <th>name</th>\n",
       "      <th>online_order</th>\n",
       "      <th>book_table</th>\n",
       "      <th>rate</th>\n",
       "      <th>votes</th>\n",
       "      <th>location</th>\n",
       "      <th>rest_type</th>\n",
       "      <th>cuisines</th>\n",
       "      <th>cost2plates</th>\n",
       "      <th>type</th>\n",
       "    </tr>\n",
       "  </thead>\n",
       "  <tbody>\n",
       "    <tr>\n",
       "      <th>0</th>\n",
       "      <td>Jalsa</td>\n",
       "      <td>Yes</td>\n",
       "      <td>Yes</td>\n",
       "      <td>4.1</td>\n",
       "      <td>775</td>\n",
       "      <td>Banashankari</td>\n",
       "      <td>Casual Dining</td>\n",
       "      <td>North Indian, Mughlai, Chinese</td>\n",
       "      <td>800.0</td>\n",
       "      <td>Buffet</td>\n",
       "    </tr>\n",
       "    <tr>\n",
       "      <th>1</th>\n",
       "      <td>Spice Elephant</td>\n",
       "      <td>Yes</td>\n",
       "      <td>No</td>\n",
       "      <td>4.1</td>\n",
       "      <td>787</td>\n",
       "      <td>Banashankari</td>\n",
       "      <td>Casual Dining</td>\n",
       "      <td>Chinese, North Indian, Thai</td>\n",
       "      <td>800.0</td>\n",
       "      <td>Buffet</td>\n",
       "    </tr>\n",
       "    <tr>\n",
       "      <th>2</th>\n",
       "      <td>San Churro Cafe</td>\n",
       "      <td>Yes</td>\n",
       "      <td>No</td>\n",
       "      <td>3.8</td>\n",
       "      <td>918</td>\n",
       "      <td>Banashankari</td>\n",
       "      <td>Cafe, Casual Dining</td>\n",
       "      <td>Cafe, Mexican, Italian</td>\n",
       "      <td>800.0</td>\n",
       "      <td>Buffet</td>\n",
       "    </tr>\n",
       "    <tr>\n",
       "      <th>3</th>\n",
       "      <td>Addhuri Udupi Bhojana</td>\n",
       "      <td>No</td>\n",
       "      <td>No</td>\n",
       "      <td>3.7</td>\n",
       "      <td>88</td>\n",
       "      <td>Banashankari</td>\n",
       "      <td>Quick Bites</td>\n",
       "      <td>South Indian, North Indian</td>\n",
       "      <td>300.0</td>\n",
       "      <td>Buffet</td>\n",
       "    </tr>\n",
       "    <tr>\n",
       "      <th>4</th>\n",
       "      <td>Grand Village</td>\n",
       "      <td>No</td>\n",
       "      <td>No</td>\n",
       "      <td>3.8</td>\n",
       "      <td>166</td>\n",
       "      <td>Basavanagudi</td>\n",
       "      <td>Casual Dining</td>\n",
       "      <td>North Indian, Rajasthani</td>\n",
       "      <td>600.0</td>\n",
       "      <td>Buffet</td>\n",
       "    </tr>\n",
       "  </tbody>\n",
       "</table>\n",
       "</div>"
      ],
      "text/plain": [
       "                    name online_order book_table  rate  votes      location  \\\n",
       "0                  Jalsa          Yes        Yes   4.1    775  Banashankari   \n",
       "1         Spice Elephant          Yes         No   4.1    787  Banashankari   \n",
       "2        San Churro Cafe          Yes         No   3.8    918  Banashankari   \n",
       "3  Addhuri Udupi Bhojana           No         No   3.7     88  Banashankari   \n",
       "4          Grand Village           No         No   3.8    166  Basavanagudi   \n",
       "\n",
       "             rest_type                        cuisines  cost2plates    type  \n",
       "0        Casual Dining  North Indian, Mughlai, Chinese        800.0  Buffet  \n",
       "1        Casual Dining     Chinese, North Indian, Thai        800.0  Buffet  \n",
       "2  Cafe, Casual Dining          Cafe, Mexican, Italian        800.0  Buffet  \n",
       "3          Quick Bites      South Indian, North Indian        300.0  Buffet  \n",
       "4        Casual Dining        North Indian, Rajasthani        600.0  Buffet  "
      ]
     },
     "execution_count": 26,
     "metadata": {},
     "output_type": "execute_result"
    }
   ],
   "source": [
    "# def removeComma(value):\n",
    "#     value=str(value).replace(',','')\n",
    "#     return float(value)\n",
    "\n",
    "def removeComma(value):\n",
    "    value=str(value)\n",
    "    if ',' in value:\n",
    "        value=value.replace(',','')\n",
    "        return float(value)\n",
    "    else:\n",
    "        return float(value)\n",
    "\n",
    "data['cost2plates']=data['cost2plates'].apply(removeComma)\n",
    "data.head()"
   ]
  },
  {
   "cell_type": "code",
   "execution_count": 27,
   "id": "a1df03b2",
   "metadata": {
    "execution": {
     "iopub.execute_input": "2024-06-16T20:30:22.770789Z",
     "iopub.status.busy": "2024-06-16T20:30:22.770410Z",
     "iopub.status.idle": "2024-06-16T20:30:22.780124Z",
     "shell.execute_reply": "2024-06-16T20:30:22.779020Z"
    },
    "papermill": {
     "duration": 0.035008,
     "end_time": "2024-06-16T20:30:22.782472",
     "exception": false,
     "start_time": "2024-06-16T20:30:22.747464",
     "status": "completed"
    },
    "tags": []
   },
   "outputs": [
    {
     "data": {
      "text/plain": [
       "array([ 800.,  300.,  600.,  700.,  550.,  500.,  450.,  650.,  400.,\n",
       "        900.,  200.,  750.,  150.,  850.,  100., 1200.,  350.,  250.,\n",
       "        950., 1000., 1500., 1300.,  199.,   80., 1100.,  160., 1600.,\n",
       "        230.,  130.,   50.,  190., 1700., 1400.,  180., 1350., 2200.,\n",
       "       2000., 1800., 1900.,  330., 2500., 2100., 3000., 2800., 3400.,\n",
       "         40., 1250., 3500., 4000., 2400., 2600.,  120., 1450.,  469.,\n",
       "         70., 3200.,   60.,  560.,  240.,  360., 6000., 1050., 2300.,\n",
       "       4100., 5000., 3700., 1650., 2700., 4500.,  140.])"
      ]
     },
     "execution_count": 27,
     "metadata": {},
     "output_type": "execute_result"
    }
   ],
   "source": [
    "data.cost2plates.unique()"
   ]
  },
  {
   "cell_type": "code",
   "execution_count": 28,
   "id": "ed120e61",
   "metadata": {
    "execution": {
     "iopub.execute_input": "2024-06-16T20:30:22.826087Z",
     "iopub.status.busy": "2024-06-16T20:30:22.825709Z",
     "iopub.status.idle": "2024-06-16T20:30:22.841141Z",
     "shell.execute_reply": "2024-06-16T20:30:22.840164Z"
    },
    "papermill": {
     "duration": 0.039749,
     "end_time": "2024-06-16T20:30:22.843375",
     "exception": false,
     "start_time": "2024-06-16T20:30:22.803626",
     "status": "completed"
    },
    "tags": []
   },
   "outputs": [
    {
     "data": {
      "text/html": [
       "<div>\n",
       "<style scoped>\n",
       "    .dataframe tbody tr th:only-of-type {\n",
       "        vertical-align: middle;\n",
       "    }\n",
       "\n",
       "    .dataframe tbody tr th {\n",
       "        vertical-align: top;\n",
       "    }\n",
       "\n",
       "    .dataframe thead th {\n",
       "        text-align: right;\n",
       "    }\n",
       "</style>\n",
       "<table border=\"1\" class=\"dataframe\">\n",
       "  <thead>\n",
       "    <tr style=\"text-align: right;\">\n",
       "      <th></th>\n",
       "      <th>name</th>\n",
       "      <th>online_order</th>\n",
       "      <th>book_table</th>\n",
       "      <th>rate</th>\n",
       "      <th>votes</th>\n",
       "      <th>location</th>\n",
       "      <th>rest_type</th>\n",
       "      <th>cuisines</th>\n",
       "      <th>cost2plates</th>\n",
       "      <th>type</th>\n",
       "    </tr>\n",
       "  </thead>\n",
       "  <tbody>\n",
       "    <tr>\n",
       "      <th>0</th>\n",
       "      <td>Jalsa</td>\n",
       "      <td>Yes</td>\n",
       "      <td>Yes</td>\n",
       "      <td>4.1</td>\n",
       "      <td>775</td>\n",
       "      <td>Banashankari</td>\n",
       "      <td>Casual Dining</td>\n",
       "      <td>North Indian, Mughlai, Chinese</td>\n",
       "      <td>800.0</td>\n",
       "      <td>Buffet</td>\n",
       "    </tr>\n",
       "    <tr>\n",
       "      <th>1</th>\n",
       "      <td>Spice Elephant</td>\n",
       "      <td>Yes</td>\n",
       "      <td>No</td>\n",
       "      <td>4.1</td>\n",
       "      <td>787</td>\n",
       "      <td>Banashankari</td>\n",
       "      <td>Casual Dining</td>\n",
       "      <td>Chinese, North Indian, Thai</td>\n",
       "      <td>800.0</td>\n",
       "      <td>Buffet</td>\n",
       "    </tr>\n",
       "    <tr>\n",
       "      <th>2</th>\n",
       "      <td>San Churro Cafe</td>\n",
       "      <td>Yes</td>\n",
       "      <td>No</td>\n",
       "      <td>3.8</td>\n",
       "      <td>918</td>\n",
       "      <td>Banashankari</td>\n",
       "      <td>Cafe, Casual Dining</td>\n",
       "      <td>Cafe, Mexican, Italian</td>\n",
       "      <td>800.0</td>\n",
       "      <td>Buffet</td>\n",
       "    </tr>\n",
       "    <tr>\n",
       "      <th>3</th>\n",
       "      <td>Addhuri Udupi Bhojana</td>\n",
       "      <td>No</td>\n",
       "      <td>No</td>\n",
       "      <td>3.7</td>\n",
       "      <td>88</td>\n",
       "      <td>Banashankari</td>\n",
       "      <td>Quick Bites</td>\n",
       "      <td>South Indian, North Indian</td>\n",
       "      <td>300.0</td>\n",
       "      <td>Buffet</td>\n",
       "    </tr>\n",
       "    <tr>\n",
       "      <th>4</th>\n",
       "      <td>Grand Village</td>\n",
       "      <td>No</td>\n",
       "      <td>No</td>\n",
       "      <td>3.8</td>\n",
       "      <td>166</td>\n",
       "      <td>Basavanagudi</td>\n",
       "      <td>Casual Dining</td>\n",
       "      <td>North Indian, Rajasthani</td>\n",
       "      <td>600.0</td>\n",
       "      <td>Buffet</td>\n",
       "    </tr>\n",
       "  </tbody>\n",
       "</table>\n",
       "</div>"
      ],
      "text/plain": [
       "                    name online_order book_table  rate  votes      location  \\\n",
       "0                  Jalsa          Yes        Yes   4.1    775  Banashankari   \n",
       "1         Spice Elephant          Yes         No   4.1    787  Banashankari   \n",
       "2        San Churro Cafe          Yes         No   3.8    918  Banashankari   \n",
       "3  Addhuri Udupi Bhojana           No         No   3.7     88  Banashankari   \n",
       "4          Grand Village           No         No   3.8    166  Basavanagudi   \n",
       "\n",
       "             rest_type                        cuisines  cost2plates    type  \n",
       "0        Casual Dining  North Indian, Mughlai, Chinese        800.0  Buffet  \n",
       "1        Casual Dining     Chinese, North Indian, Thai        800.0  Buffet  \n",
       "2  Cafe, Casual Dining          Cafe, Mexican, Italian        800.0  Buffet  \n",
       "3          Quick Bites      South Indian, North Indian        300.0  Buffet  \n",
       "4        Casual Dining        North Indian, Rajasthani        600.0  Buffet  "
      ]
     },
     "execution_count": 28,
     "metadata": {},
     "output_type": "execute_result"
    }
   ],
   "source": [
    "data.head()"
   ]
  },
  {
   "cell_type": "code",
   "execution_count": 29,
   "id": "78a76de5",
   "metadata": {
    "execution": {
     "iopub.execute_input": "2024-06-16T20:30:22.886864Z",
     "iopub.status.busy": "2024-06-16T20:30:22.886490Z",
     "iopub.status.idle": "2024-06-16T20:30:22.898689Z",
     "shell.execute_reply": "2024-06-16T20:30:22.897598Z"
    },
    "papermill": {
     "duration": 0.036568,
     "end_time": "2024-06-16T20:30:22.900902",
     "exception": false,
     "start_time": "2024-06-16T20:30:22.864334",
     "status": "completed"
    },
    "tags": []
   },
   "outputs": [
    {
     "data": {
      "text/plain": [
       "rest_type\n",
       "Quick Bites                   19010\n",
       "Casual Dining                 10253\n",
       "Cafe                           3682\n",
       "Delivery                       2574\n",
       "Dessert Parlor                 2242\n",
       "                              ...  \n",
       "Dessert Parlor, Kiosk             2\n",
       "Food Court, Beverage Shop         2\n",
       "Dessert Parlor, Food Court        2\n",
       "Quick Bites, Kiosk                1\n",
       "Sweet Shop, Dessert Parlor        1\n",
       "Name: count, Length: 93, dtype: int64"
      ]
     },
     "execution_count": 29,
     "metadata": {},
     "output_type": "execute_result"
    }
   ],
   "source": [
    "data['rest_type'].value_counts()"
   ]
  },
  {
   "cell_type": "markdown",
   "id": "d6ca9bfe",
   "metadata": {
    "papermill": {
     "duration": 0.020836,
     "end_time": "2024-06-16T20:30:22.942969",
     "exception": false,
     "start_time": "2024-06-16T20:30:22.922133",
     "status": "completed"
    },
    "tags": []
   },
   "source": [
    "As we can see the value counts for unique restraunt types. Any value count below 1000 we will categorize as others."
   ]
  },
  {
   "cell_type": "code",
   "execution_count": 30,
   "id": "25707860",
   "metadata": {
    "execution": {
     "iopub.execute_input": "2024-06-16T20:30:22.987379Z",
     "iopub.status.busy": "2024-06-16T20:30:22.986382Z",
     "iopub.status.idle": "2024-06-16T20:30:22.999053Z",
     "shell.execute_reply": "2024-06-16T20:30:22.997944Z"
    },
    "papermill": {
     "duration": 0.037322,
     "end_time": "2024-06-16T20:30:23.001371",
     "exception": false,
     "start_time": "2024-06-16T20:30:22.964049",
     "status": "completed"
    },
    "tags": []
   },
   "outputs": [
    {
     "data": {
      "text/plain": [
       "rest_type\n",
       "Quick Bites, Kiosk                1\n",
       "Sweet Shop, Dessert Parlor        1\n",
       "Dessert Parlor, Food Court        2\n",
       "Food Court, Beverage Shop         2\n",
       "Cafe, Food Court                  2\n",
       "                              ...  \n",
       "Dessert Parlor                 2242\n",
       "Delivery                       2574\n",
       "Cafe                           3682\n",
       "Casual Dining                 10253\n",
       "Quick Bites                   19010\n",
       "Name: count, Length: 93, dtype: int64"
      ]
     },
     "execution_count": 30,
     "metadata": {},
     "output_type": "execute_result"
    }
   ],
   "source": [
    "rest_types=data['rest_type'].value_counts(ascending=True)\n",
    "rest_types"
   ]
  },
  {
   "cell_type": "code",
   "execution_count": 31,
   "id": "36f19b91",
   "metadata": {
    "execution": {
     "iopub.execute_input": "2024-06-16T20:30:23.046122Z",
     "iopub.status.busy": "2024-06-16T20:30:23.045751Z",
     "iopub.status.idle": "2024-06-16T20:30:23.054383Z",
     "shell.execute_reply": "2024-06-16T20:30:23.053349Z"
    },
    "papermill": {
     "duration": 0.033712,
     "end_time": "2024-06-16T20:30:23.056567",
     "exception": false,
     "start_time": "2024-06-16T20:30:23.022855",
     "status": "completed"
    },
    "tags": []
   },
   "outputs": [
    {
     "data": {
      "text/plain": [
       "rest_type\n",
       "Quick Bites, Kiosk              1\n",
       "Sweet Shop, Dessert Parlor      1\n",
       "Dessert Parlor, Food Court      2\n",
       "Food Court, Beverage Shop       2\n",
       "Cafe, Food Court                2\n",
       "                             ... \n",
       "Bar, Casual Dining            411\n",
       "Sweet Shop                    468\n",
       "Food Court                    616\n",
       "Bar                           686\n",
       "Beverage Shop                 863\n",
       "Name: count, Length: 85, dtype: int64"
      ]
     },
     "execution_count": 31,
     "metadata": {},
     "output_type": "execute_result"
    }
   ],
   "source": [
    "rest_type_lessthan1000=rest_types[rest_types<1000]\n",
    "rest_type_lessthan1000"
   ]
  },
  {
   "cell_type": "markdown",
   "id": "e53d4ef5",
   "metadata": {
    "papermill": {
     "duration": 0.021176,
     "end_time": "2024-06-16T20:30:23.099433",
     "exception": false,
     "start_time": "2024-06-16T20:30:23.078257",
     "status": "completed"
    },
    "tags": []
   },
   "source": [
    "Now lets assign all the rest_type_lessthan1000 as others in dataframe"
   ]
  },
  {
   "cell_type": "code",
   "execution_count": 32,
   "id": "58ceff0a",
   "metadata": {
    "execution": {
     "iopub.execute_input": "2024-06-16T20:30:23.144072Z",
     "iopub.status.busy": "2024-06-16T20:30:23.143704Z",
     "iopub.status.idle": "2024-06-16T20:30:23.265091Z",
     "shell.execute_reply": "2024-06-16T20:30:23.263880Z"
    },
    "papermill": {
     "duration": 0.146447,
     "end_time": "2024-06-16T20:30:23.267538",
     "exception": false,
     "start_time": "2024-06-16T20:30:23.121091",
     "status": "completed"
    },
    "tags": []
   },
   "outputs": [
    {
     "data": {
      "text/html": [
       "<div>\n",
       "<style scoped>\n",
       "    .dataframe tbody tr th:only-of-type {\n",
       "        vertical-align: middle;\n",
       "    }\n",
       "\n",
       "    .dataframe tbody tr th {\n",
       "        vertical-align: top;\n",
       "    }\n",
       "\n",
       "    .dataframe thead th {\n",
       "        text-align: right;\n",
       "    }\n",
       "</style>\n",
       "<table border=\"1\" class=\"dataframe\">\n",
       "  <thead>\n",
       "    <tr style=\"text-align: right;\">\n",
       "      <th></th>\n",
       "      <th>name</th>\n",
       "      <th>online_order</th>\n",
       "      <th>book_table</th>\n",
       "      <th>rate</th>\n",
       "      <th>votes</th>\n",
       "      <th>location</th>\n",
       "      <th>rest_type</th>\n",
       "      <th>cuisines</th>\n",
       "      <th>cost2plates</th>\n",
       "      <th>type</th>\n",
       "    </tr>\n",
       "  </thead>\n",
       "  <tbody>\n",
       "    <tr>\n",
       "      <th>0</th>\n",
       "      <td>Jalsa</td>\n",
       "      <td>Yes</td>\n",
       "      <td>Yes</td>\n",
       "      <td>4.1</td>\n",
       "      <td>775</td>\n",
       "      <td>Banashankari</td>\n",
       "      <td>Casual Dining</td>\n",
       "      <td>North Indian, Mughlai, Chinese</td>\n",
       "      <td>800.0</td>\n",
       "      <td>Buffet</td>\n",
       "    </tr>\n",
       "    <tr>\n",
       "      <th>1</th>\n",
       "      <td>Spice Elephant</td>\n",
       "      <td>Yes</td>\n",
       "      <td>No</td>\n",
       "      <td>4.1</td>\n",
       "      <td>787</td>\n",
       "      <td>Banashankari</td>\n",
       "      <td>Casual Dining</td>\n",
       "      <td>Chinese, North Indian, Thai</td>\n",
       "      <td>800.0</td>\n",
       "      <td>Buffet</td>\n",
       "    </tr>\n",
       "    <tr>\n",
       "      <th>2</th>\n",
       "      <td>San Churro Cafe</td>\n",
       "      <td>Yes</td>\n",
       "      <td>No</td>\n",
       "      <td>3.8</td>\n",
       "      <td>918</td>\n",
       "      <td>Banashankari</td>\n",
       "      <td>others</td>\n",
       "      <td>Cafe, Mexican, Italian</td>\n",
       "      <td>800.0</td>\n",
       "      <td>Buffet</td>\n",
       "    </tr>\n",
       "    <tr>\n",
       "      <th>3</th>\n",
       "      <td>Addhuri Udupi Bhojana</td>\n",
       "      <td>No</td>\n",
       "      <td>No</td>\n",
       "      <td>3.7</td>\n",
       "      <td>88</td>\n",
       "      <td>Banashankari</td>\n",
       "      <td>Quick Bites</td>\n",
       "      <td>South Indian, North Indian</td>\n",
       "      <td>300.0</td>\n",
       "      <td>Buffet</td>\n",
       "    </tr>\n",
       "    <tr>\n",
       "      <th>4</th>\n",
       "      <td>Grand Village</td>\n",
       "      <td>No</td>\n",
       "      <td>No</td>\n",
       "      <td>3.8</td>\n",
       "      <td>166</td>\n",
       "      <td>Basavanagudi</td>\n",
       "      <td>Casual Dining</td>\n",
       "      <td>North Indian, Rajasthani</td>\n",
       "      <td>600.0</td>\n",
       "      <td>Buffet</td>\n",
       "    </tr>\n",
       "  </tbody>\n",
       "</table>\n",
       "</div>"
      ],
      "text/plain": [
       "                    name online_order book_table  rate  votes      location  \\\n",
       "0                  Jalsa          Yes        Yes   4.1    775  Banashankari   \n",
       "1         Spice Elephant          Yes         No   4.1    787  Banashankari   \n",
       "2        San Churro Cafe          Yes         No   3.8    918  Banashankari   \n",
       "3  Addhuri Udupi Bhojana           No         No   3.7     88  Banashankari   \n",
       "4          Grand Village           No         No   3.8    166  Basavanagudi   \n",
       "\n",
       "       rest_type                        cuisines  cost2plates    type  \n",
       "0  Casual Dining  North Indian, Mughlai, Chinese        800.0  Buffet  \n",
       "1  Casual Dining     Chinese, North Indian, Thai        800.0  Buffet  \n",
       "2         others          Cafe, Mexican, Italian        800.0  Buffet  \n",
       "3    Quick Bites      South Indian, North Indian        300.0  Buffet  \n",
       "4  Casual Dining        North Indian, Rajasthani        600.0  Buffet  "
      ]
     },
     "execution_count": 32,
     "metadata": {},
     "output_type": "execute_result"
    }
   ],
   "source": [
    "def rest_type_as_others(value):\n",
    "    if (value in rest_type_lessthan1000):\n",
    "        return 'others'\n",
    "    else:\n",
    "        return value\n",
    "\n",
    "data['rest_type']=data['rest_type'].apply(rest_type_as_others)\n",
    "data.head()"
   ]
  },
  {
   "cell_type": "markdown",
   "id": "f3a6a2aa",
   "metadata": {
    "papermill": {
     "duration": 0.02186,
     "end_time": "2024-06-16T20:30:23.311226",
     "exception": false,
     "start_time": "2024-06-16T20:30:23.289366",
     "status": "completed"
    },
    "tags": []
   },
   "source": [
    "Cleaning location column"
   ]
  },
  {
   "cell_type": "code",
   "execution_count": 33,
   "id": "29700124",
   "metadata": {
    "execution": {
     "iopub.execute_input": "2024-06-16T20:30:23.356253Z",
     "iopub.status.busy": "2024-06-16T20:30:23.355842Z",
     "iopub.status.idle": "2024-06-16T20:30:23.370099Z",
     "shell.execute_reply": "2024-06-16T20:30:23.367715Z"
    },
    "papermill": {
     "duration": 0.039569,
     "end_time": "2024-06-16T20:30:23.372474",
     "exception": false,
     "start_time": "2024-06-16T20:30:23.332905",
     "status": "completed"
    },
    "tags": []
   },
   "outputs": [
    {
     "data": {
      "text/plain": [
       "location\n",
       "BTM                      5056\n",
       "HSR                      2494\n",
       "Koramangala 5th Block    2479\n",
       "JP Nagar                 2218\n",
       "Whitefield               2105\n",
       "                         ... \n",
       "West Bangalore              6\n",
       "Yelahanka                   5\n",
       "Jakkur                      3\n",
       "Rajarajeshwari Nagar        2\n",
       "Peenya                      1\n",
       "Name: count, Length: 93, dtype: int64"
      ]
     },
     "execution_count": 33,
     "metadata": {},
     "output_type": "execute_result"
    }
   ],
   "source": [
    "data['location'].value_counts()"
   ]
  },
  {
   "cell_type": "markdown",
   "id": "24a51cf2",
   "metadata": {
    "papermill": {
     "duration": 0.021406,
     "end_time": "2024-06-16T20:30:23.416039",
     "exception": false,
     "start_time": "2024-06-16T20:30:23.394633",
     "status": "completed"
    },
    "tags": []
   },
   "source": [
    "We are going to categorize all location whose frequency is less than 300 as others."
   ]
  },
  {
   "cell_type": "code",
   "execution_count": 34,
   "id": "f2e79759",
   "metadata": {
    "execution": {
     "iopub.execute_input": "2024-06-16T20:30:23.461249Z",
     "iopub.status.busy": "2024-06-16T20:30:23.460841Z",
     "iopub.status.idle": "2024-06-16T20:30:23.473616Z",
     "shell.execute_reply": "2024-06-16T20:30:23.472440Z"
    },
    "papermill": {
     "duration": 0.037873,
     "end_time": "2024-06-16T20:30:23.475902",
     "exception": false,
     "start_time": "2024-06-16T20:30:23.438029",
     "status": "completed"
    },
    "tags": []
   },
   "outputs": [
    {
     "data": {
      "text/plain": [
       "location\n",
       "Peenya                      1\n",
       "Rajarajeshwari Nagar        2\n",
       "Jakkur                      3\n",
       "Yelahanka                   5\n",
       "West Bangalore              6\n",
       "                         ... \n",
       "Whitefield               2105\n",
       "JP Nagar                 2218\n",
       "Koramangala 5th Block    2479\n",
       "HSR                      2494\n",
       "BTM                      5056\n",
       "Name: count, Length: 93, dtype: int64"
      ]
     },
     "execution_count": 34,
     "metadata": {},
     "output_type": "execute_result"
    }
   ],
   "source": [
    "loc_freq=data['location'].value_counts(ascending=True)\n",
    "loc_freq"
   ]
  },
  {
   "cell_type": "code",
   "execution_count": 35,
   "id": "868a8848",
   "metadata": {
    "execution": {
     "iopub.execute_input": "2024-06-16T20:30:23.521520Z",
     "iopub.status.busy": "2024-06-16T20:30:23.521110Z",
     "iopub.status.idle": "2024-06-16T20:30:23.529659Z",
     "shell.execute_reply": "2024-06-16T20:30:23.528646Z"
    },
    "papermill": {
     "duration": 0.034184,
     "end_time": "2024-06-16T20:30:23.532119",
     "exception": false,
     "start_time": "2024-06-16T20:30:23.497935",
     "status": "completed"
    },
    "tags": []
   },
   "outputs": [
    {
     "data": {
      "text/plain": [
       "location\n",
       "Peenya                             1\n",
       "Rajarajeshwari Nagar               2\n",
       "Jakkur                             3\n",
       "Yelahanka                          5\n",
       "West Bangalore                     6\n",
       "Central Bangalore                  8\n",
       "Kengeri                            8\n",
       "Nagarbhavi                         9\n",
       "Hebbal                            14\n",
       "North Bangalore                   14\n",
       "Uttarahalli                       17\n",
       "KR Puram                          18\n",
       "Kanakapura Road                   19\n",
       "Old Madras Road                   22\n",
       "Mysore Road                       22\n",
       "Sankey Road                       27\n",
       "Langford Town                     27\n",
       "Rammurthy Nagar                   32\n",
       "Magadi Road                       34\n",
       "Jalahalli                         38\n",
       "East Bangalore                    43\n",
       "Koramangala                       48\n",
       "Sahakara Nagar                    53\n",
       "Sadashiv Nagar                    63\n",
       "Sanjay Nagar                      76\n",
       "Vijay Nagar                       78\n",
       "RT Nagar                          78\n",
       "CV Raman Nagar                    89\n",
       "Hosur Road                        98\n",
       "Kaggadasapura                    101\n",
       "Koramangala 2nd Block            102\n",
       "South Bangalore                  107\n",
       "Varthur Main Road, Whitefield    109\n",
       "ITPL Main Road, Whitefield       113\n",
       "Yeshwantpur                      119\n",
       "City Market                      122\n",
       "Race Course Road                 139\n",
       "Infantry Road                    150\n",
       "HBR Layout                       153\n",
       "Majestic                         155\n",
       "Hennur                           159\n",
       "Seshadripuram                    165\n",
       "Nagawara                         187\n",
       "Basaveshwara Nagar               187\n",
       "Thippasandra                     191\n",
       "Kumaraswamy Layout               191\n",
       "Koramangala 3rd Block            215\n",
       "Bommanahalli                     236\n",
       "Wilson Garden                    246\n",
       "Jeevan Bhima Nagar               268\n",
       "Vasanth Nagar                    293\n",
       "Koramangala 8th Block            294\n",
       "Name: count, dtype: int64"
      ]
     },
     "execution_count": 35,
     "metadata": {},
     "output_type": "execute_result"
    }
   ],
   "source": [
    "loc_freq_lessthan300=loc_freq[loc_freq<300]\n",
    "loc_freq_lessthan300"
   ]
  },
  {
   "cell_type": "code",
   "execution_count": 36,
   "id": "cc405c5e",
   "metadata": {
    "execution": {
     "iopub.execute_input": "2024-06-16T20:30:23.578394Z",
     "iopub.status.busy": "2024-06-16T20:30:23.578016Z",
     "iopub.status.idle": "2024-06-16T20:30:23.702285Z",
     "shell.execute_reply": "2024-06-16T20:30:23.701229Z"
    },
    "papermill": {
     "duration": 0.150152,
     "end_time": "2024-06-16T20:30:23.704755",
     "exception": false,
     "start_time": "2024-06-16T20:30:23.554603",
     "status": "completed"
    },
    "tags": []
   },
   "outputs": [
    {
     "data": {
      "text/html": [
       "<div>\n",
       "<style scoped>\n",
       "    .dataframe tbody tr th:only-of-type {\n",
       "        vertical-align: middle;\n",
       "    }\n",
       "\n",
       "    .dataframe tbody tr th {\n",
       "        vertical-align: top;\n",
       "    }\n",
       "\n",
       "    .dataframe thead th {\n",
       "        text-align: right;\n",
       "    }\n",
       "</style>\n",
       "<table border=\"1\" class=\"dataframe\">\n",
       "  <thead>\n",
       "    <tr style=\"text-align: right;\">\n",
       "      <th></th>\n",
       "      <th>name</th>\n",
       "      <th>online_order</th>\n",
       "      <th>book_table</th>\n",
       "      <th>rate</th>\n",
       "      <th>votes</th>\n",
       "      <th>location</th>\n",
       "      <th>rest_type</th>\n",
       "      <th>cuisines</th>\n",
       "      <th>cost2plates</th>\n",
       "      <th>type</th>\n",
       "    </tr>\n",
       "  </thead>\n",
       "  <tbody>\n",
       "    <tr>\n",
       "      <th>0</th>\n",
       "      <td>Jalsa</td>\n",
       "      <td>Yes</td>\n",
       "      <td>Yes</td>\n",
       "      <td>4.1</td>\n",
       "      <td>775</td>\n",
       "      <td>Banashankari</td>\n",
       "      <td>Casual Dining</td>\n",
       "      <td>North Indian, Mughlai, Chinese</td>\n",
       "      <td>800.0</td>\n",
       "      <td>Buffet</td>\n",
       "    </tr>\n",
       "    <tr>\n",
       "      <th>1</th>\n",
       "      <td>Spice Elephant</td>\n",
       "      <td>Yes</td>\n",
       "      <td>No</td>\n",
       "      <td>4.1</td>\n",
       "      <td>787</td>\n",
       "      <td>Banashankari</td>\n",
       "      <td>Casual Dining</td>\n",
       "      <td>Chinese, North Indian, Thai</td>\n",
       "      <td>800.0</td>\n",
       "      <td>Buffet</td>\n",
       "    </tr>\n",
       "    <tr>\n",
       "      <th>2</th>\n",
       "      <td>San Churro Cafe</td>\n",
       "      <td>Yes</td>\n",
       "      <td>No</td>\n",
       "      <td>3.8</td>\n",
       "      <td>918</td>\n",
       "      <td>Banashankari</td>\n",
       "      <td>others</td>\n",
       "      <td>Cafe, Mexican, Italian</td>\n",
       "      <td>800.0</td>\n",
       "      <td>Buffet</td>\n",
       "    </tr>\n",
       "    <tr>\n",
       "      <th>3</th>\n",
       "      <td>Addhuri Udupi Bhojana</td>\n",
       "      <td>No</td>\n",
       "      <td>No</td>\n",
       "      <td>3.7</td>\n",
       "      <td>88</td>\n",
       "      <td>Banashankari</td>\n",
       "      <td>Quick Bites</td>\n",
       "      <td>South Indian, North Indian</td>\n",
       "      <td>300.0</td>\n",
       "      <td>Buffet</td>\n",
       "    </tr>\n",
       "    <tr>\n",
       "      <th>4</th>\n",
       "      <td>Grand Village</td>\n",
       "      <td>No</td>\n",
       "      <td>No</td>\n",
       "      <td>3.8</td>\n",
       "      <td>166</td>\n",
       "      <td>Basavanagudi</td>\n",
       "      <td>Casual Dining</td>\n",
       "      <td>North Indian, Rajasthani</td>\n",
       "      <td>600.0</td>\n",
       "      <td>Buffet</td>\n",
       "    </tr>\n",
       "    <tr>\n",
       "      <th>5</th>\n",
       "      <td>Timepass Dinner</td>\n",
       "      <td>Yes</td>\n",
       "      <td>No</td>\n",
       "      <td>3.8</td>\n",
       "      <td>286</td>\n",
       "      <td>Basavanagudi</td>\n",
       "      <td>Casual Dining</td>\n",
       "      <td>North Indian</td>\n",
       "      <td>600.0</td>\n",
       "      <td>Buffet</td>\n",
       "    </tr>\n",
       "    <tr>\n",
       "      <th>6</th>\n",
       "      <td>Rosewood International Hotel - Bar &amp; Restaurant</td>\n",
       "      <td>No</td>\n",
       "      <td>No</td>\n",
       "      <td>3.6</td>\n",
       "      <td>8</td>\n",
       "      <td>others</td>\n",
       "      <td>Casual Dining</td>\n",
       "      <td>North Indian, South Indian, Andhra, Chinese</td>\n",
       "      <td>800.0</td>\n",
       "      <td>Buffet</td>\n",
       "    </tr>\n",
       "    <tr>\n",
       "      <th>7</th>\n",
       "      <td>Onesta</td>\n",
       "      <td>Yes</td>\n",
       "      <td>Yes</td>\n",
       "      <td>4.6</td>\n",
       "      <td>2556</td>\n",
       "      <td>Banashankari</td>\n",
       "      <td>others</td>\n",
       "      <td>Pizza, Cafe, Italian</td>\n",
       "      <td>600.0</td>\n",
       "      <td>Cafes</td>\n",
       "    </tr>\n",
       "    <tr>\n",
       "      <th>8</th>\n",
       "      <td>Penthouse Cafe</td>\n",
       "      <td>Yes</td>\n",
       "      <td>No</td>\n",
       "      <td>4.0</td>\n",
       "      <td>324</td>\n",
       "      <td>Banashankari</td>\n",
       "      <td>Cafe</td>\n",
       "      <td>Cafe, Italian, Continental</td>\n",
       "      <td>700.0</td>\n",
       "      <td>Cafes</td>\n",
       "    </tr>\n",
       "    <tr>\n",
       "      <th>9</th>\n",
       "      <td>Smacznego</td>\n",
       "      <td>Yes</td>\n",
       "      <td>No</td>\n",
       "      <td>4.2</td>\n",
       "      <td>504</td>\n",
       "      <td>Banashankari</td>\n",
       "      <td>Cafe</td>\n",
       "      <td>Cafe, Mexican, Italian, Momos, Beverages</td>\n",
       "      <td>550.0</td>\n",
       "      <td>Cafes</td>\n",
       "    </tr>\n",
       "  </tbody>\n",
       "</table>\n",
       "</div>"
      ],
      "text/plain": [
       "                                              name online_order book_table  \\\n",
       "0                                            Jalsa          Yes        Yes   \n",
       "1                                   Spice Elephant          Yes         No   \n",
       "2                                  San Churro Cafe          Yes         No   \n",
       "3                            Addhuri Udupi Bhojana           No         No   \n",
       "4                                    Grand Village           No         No   \n",
       "5                                  Timepass Dinner          Yes         No   \n",
       "6  Rosewood International Hotel - Bar & Restaurant           No         No   \n",
       "7                                           Onesta          Yes        Yes   \n",
       "8                                   Penthouse Cafe          Yes         No   \n",
       "9                                        Smacznego          Yes         No   \n",
       "\n",
       "   rate  votes      location      rest_type  \\\n",
       "0   4.1    775  Banashankari  Casual Dining   \n",
       "1   4.1    787  Banashankari  Casual Dining   \n",
       "2   3.8    918  Banashankari         others   \n",
       "3   3.7     88  Banashankari    Quick Bites   \n",
       "4   3.8    166  Basavanagudi  Casual Dining   \n",
       "5   3.8    286  Basavanagudi  Casual Dining   \n",
       "6   3.6      8        others  Casual Dining   \n",
       "7   4.6   2556  Banashankari         others   \n",
       "8   4.0    324  Banashankari           Cafe   \n",
       "9   4.2    504  Banashankari           Cafe   \n",
       "\n",
       "                                      cuisines  cost2plates    type  \n",
       "0               North Indian, Mughlai, Chinese        800.0  Buffet  \n",
       "1                  Chinese, North Indian, Thai        800.0  Buffet  \n",
       "2                       Cafe, Mexican, Italian        800.0  Buffet  \n",
       "3                   South Indian, North Indian        300.0  Buffet  \n",
       "4                     North Indian, Rajasthani        600.0  Buffet  \n",
       "5                                 North Indian        600.0  Buffet  \n",
       "6  North Indian, South Indian, Andhra, Chinese        800.0  Buffet  \n",
       "7                         Pizza, Cafe, Italian        600.0   Cafes  \n",
       "8                   Cafe, Italian, Continental        700.0   Cafes  \n",
       "9     Cafe, Mexican, Italian, Momos, Beverages        550.0   Cafes  "
      ]
     },
     "execution_count": 36,
     "metadata": {},
     "output_type": "execute_result"
    }
   ],
   "source": [
    "def loc_as_others(value):\n",
    "    if (value in loc_freq_lessthan300):\n",
    "        return 'others'\n",
    "    else:\n",
    "        return value\n",
    "    \n",
    "data['location']=data['location'].apply(loc_as_others)\n",
    "data.head(10)"
   ]
  },
  {
   "cell_type": "markdown",
   "id": "2ad36555",
   "metadata": {
    "papermill": {
     "duration": 0.021899,
     "end_time": "2024-06-16T20:30:23.749081",
     "exception": false,
     "start_time": "2024-06-16T20:30:23.727182",
     "status": "completed"
    },
    "tags": []
   },
   "source": [
    "lets try to clean cuisines column"
   ]
  },
  {
   "cell_type": "code",
   "execution_count": 37,
   "id": "d0f26c4c",
   "metadata": {
    "execution": {
     "iopub.execute_input": "2024-06-16T20:30:23.796178Z",
     "iopub.status.busy": "2024-06-16T20:30:23.795168Z",
     "iopub.status.idle": "2024-06-16T20:30:23.809491Z",
     "shell.execute_reply": "2024-06-16T20:30:23.808427Z"
    },
    "papermill": {
     "duration": 0.040107,
     "end_time": "2024-06-16T20:30:23.811673",
     "exception": false,
     "start_time": "2024-06-16T20:30:23.771566",
     "status": "completed"
    },
    "tags": []
   },
   "outputs": [
    {
     "data": {
      "text/plain": [
       "cuisines\n",
       "North Indian                                2852\n",
       "North Indian, Chinese                       2351\n",
       "South Indian                                1820\n",
       "Biryani                                      903\n",
       "Bakery, Desserts                             898\n",
       "                                            ... \n",
       "North Indian, Chinese, Oriya, Mithai           1\n",
       "Beverages, Burger                              1\n",
       "North Indian, Mughlai, Lucknowi                1\n",
       "Continental, Thai, North Indian, Chinese       1\n",
       "North Indian, Chinese, Arabian, Momos          1\n",
       "Name: count, Length: 2704, dtype: int64"
      ]
     },
     "execution_count": 37,
     "metadata": {},
     "output_type": "execute_result"
    }
   ],
   "source": [
    "data['cuisines'].value_counts()"
   ]
  },
  {
   "cell_type": "markdown",
   "id": "f224aa54",
   "metadata": {
    "papermill": {
     "duration": 0.02224,
     "end_time": "2024-06-16T20:30:23.857184",
     "exception": false,
     "start_time": "2024-06-16T20:30:23.834944",
     "status": "completed"
    },
    "tags": []
   },
   "source": [
    "Now we will mark all cuisines with a frequency of less than 100 as others."
   ]
  },
  {
   "cell_type": "code",
   "execution_count": 38,
   "id": "2f30ecb4",
   "metadata": {
    "execution": {
     "iopub.execute_input": "2024-06-16T20:30:23.903998Z",
     "iopub.status.busy": "2024-06-16T20:30:23.903595Z",
     "iopub.status.idle": "2024-06-16T20:30:23.917362Z",
     "shell.execute_reply": "2024-06-16T20:30:23.916279Z"
    },
    "papermill": {
     "duration": 0.039892,
     "end_time": "2024-06-16T20:30:23.919645",
     "exception": false,
     "start_time": "2024-06-16T20:30:23.879753",
     "status": "completed"
    },
    "tags": []
   },
   "outputs": [
    {
     "data": {
      "text/plain": [
       "cuisines\n",
       "North Indian, Chinese, Arabian, Momos               1\n",
       "Kerala, Biryani, Seafood, North Indian              1\n",
       "Street Food, Mithai, North Indian                   1\n",
       "Fast Food, Street Food, North Indian, Biryani       1\n",
       "Chinese, North Indian, Andhra, South Indian         1\n",
       "                                                 ... \n",
       "Bakery, Desserts                                  898\n",
       "Biryani                                           903\n",
       "South Indian                                     1820\n",
       "North Indian, Chinese                            2351\n",
       "North Indian                                     2852\n",
       "Name: count, Length: 2704, dtype: int64"
      ]
     },
     "execution_count": 38,
     "metadata": {},
     "output_type": "execute_result"
    }
   ],
   "source": [
    "cuisines_types=data['cuisines'].value_counts(ascending=True)\n",
    "cuisines_types"
   ]
  },
  {
   "cell_type": "code",
   "execution_count": 39,
   "id": "eed101d4",
   "metadata": {
    "execution": {
     "iopub.execute_input": "2024-06-16T20:30:23.967779Z",
     "iopub.status.busy": "2024-06-16T20:30:23.967052Z",
     "iopub.status.idle": "2024-06-16T20:30:23.975914Z",
     "shell.execute_reply": "2024-06-16T20:30:23.974908Z"
    },
    "papermill": {
     "duration": 0.035057,
     "end_time": "2024-06-16T20:30:23.977955",
     "exception": false,
     "start_time": "2024-06-16T20:30:23.942898",
     "status": "completed"
    },
    "tags": []
   },
   "outputs": [
    {
     "data": {
      "text/plain": [
       "cuisines\n",
       "North Indian, Chinese, Arabian, Momos             1\n",
       "Kerala, Biryani, Seafood, North Indian            1\n",
       "Street Food, Mithai, North Indian                 1\n",
       "Fast Food, Street Food, North Indian, Biryani     1\n",
       "Chinese, North Indian, Andhra, South Indian       1\n",
       "                                                 ..\n",
       "Chinese, North Indian, South Indian              90\n",
       "Fast Food, North Indian                          93\n",
       "Bengali, North Indian                            93\n",
       "Juices                                           94\n",
       "North Indian, Continental, Chinese               97\n",
       "Name: count, Length: 2635, dtype: int64"
      ]
     },
     "execution_count": 39,
     "metadata": {},
     "output_type": "execute_result"
    }
   ],
   "source": [
    "cuisines_types_lessthan100=cuisines_types[cuisines_types<100]\n",
    "cuisines_types_lessthan100"
   ]
  },
  {
   "cell_type": "code",
   "execution_count": 40,
   "id": "ccd79135",
   "metadata": {
    "execution": {
     "iopub.execute_input": "2024-06-16T20:30:24.025181Z",
     "iopub.status.busy": "2024-06-16T20:30:24.024796Z",
     "iopub.status.idle": "2024-06-16T20:30:24.137128Z",
     "shell.execute_reply": "2024-06-16T20:30:24.136145Z"
    },
    "papermill": {
     "duration": 0.138773,
     "end_time": "2024-06-16T20:30:24.139506",
     "exception": false,
     "start_time": "2024-06-16T20:30:24.000733",
     "status": "completed"
    },
    "tags": []
   },
   "outputs": [
    {
     "data": {
      "text/html": [
       "<div>\n",
       "<style scoped>\n",
       "    .dataframe tbody tr th:only-of-type {\n",
       "        vertical-align: middle;\n",
       "    }\n",
       "\n",
       "    .dataframe tbody tr th {\n",
       "        vertical-align: top;\n",
       "    }\n",
       "\n",
       "    .dataframe thead th {\n",
       "        text-align: right;\n",
       "    }\n",
       "</style>\n",
       "<table border=\"1\" class=\"dataframe\">\n",
       "  <thead>\n",
       "    <tr style=\"text-align: right;\">\n",
       "      <th></th>\n",
       "      <th>name</th>\n",
       "      <th>online_order</th>\n",
       "      <th>book_table</th>\n",
       "      <th>rate</th>\n",
       "      <th>votes</th>\n",
       "      <th>location</th>\n",
       "      <th>rest_type</th>\n",
       "      <th>cuisines</th>\n",
       "      <th>cost2plates</th>\n",
       "      <th>type</th>\n",
       "    </tr>\n",
       "  </thead>\n",
       "  <tbody>\n",
       "    <tr>\n",
       "      <th>0</th>\n",
       "      <td>Jalsa</td>\n",
       "      <td>Yes</td>\n",
       "      <td>Yes</td>\n",
       "      <td>4.1</td>\n",
       "      <td>775</td>\n",
       "      <td>Banashankari</td>\n",
       "      <td>Casual Dining</td>\n",
       "      <td>North Indian, Mughlai, Chinese</td>\n",
       "      <td>800.0</td>\n",
       "      <td>Buffet</td>\n",
       "    </tr>\n",
       "    <tr>\n",
       "      <th>1</th>\n",
       "      <td>Spice Elephant</td>\n",
       "      <td>Yes</td>\n",
       "      <td>No</td>\n",
       "      <td>4.1</td>\n",
       "      <td>787</td>\n",
       "      <td>Banashankari</td>\n",
       "      <td>Casual Dining</td>\n",
       "      <td>others</td>\n",
       "      <td>800.0</td>\n",
       "      <td>Buffet</td>\n",
       "    </tr>\n",
       "    <tr>\n",
       "      <th>2</th>\n",
       "      <td>San Churro Cafe</td>\n",
       "      <td>Yes</td>\n",
       "      <td>No</td>\n",
       "      <td>3.8</td>\n",
       "      <td>918</td>\n",
       "      <td>Banashankari</td>\n",
       "      <td>others</td>\n",
       "      <td>others</td>\n",
       "      <td>800.0</td>\n",
       "      <td>Buffet</td>\n",
       "    </tr>\n",
       "    <tr>\n",
       "      <th>3</th>\n",
       "      <td>Addhuri Udupi Bhojana</td>\n",
       "      <td>No</td>\n",
       "      <td>No</td>\n",
       "      <td>3.7</td>\n",
       "      <td>88</td>\n",
       "      <td>Banashankari</td>\n",
       "      <td>Quick Bites</td>\n",
       "      <td>South Indian, North Indian</td>\n",
       "      <td>300.0</td>\n",
       "      <td>Buffet</td>\n",
       "    </tr>\n",
       "    <tr>\n",
       "      <th>4</th>\n",
       "      <td>Grand Village</td>\n",
       "      <td>No</td>\n",
       "      <td>No</td>\n",
       "      <td>3.8</td>\n",
       "      <td>166</td>\n",
       "      <td>Basavanagudi</td>\n",
       "      <td>Casual Dining</td>\n",
       "      <td>others</td>\n",
       "      <td>600.0</td>\n",
       "      <td>Buffet</td>\n",
       "    </tr>\n",
       "    <tr>\n",
       "      <th>5</th>\n",
       "      <td>Timepass Dinner</td>\n",
       "      <td>Yes</td>\n",
       "      <td>No</td>\n",
       "      <td>3.8</td>\n",
       "      <td>286</td>\n",
       "      <td>Basavanagudi</td>\n",
       "      <td>Casual Dining</td>\n",
       "      <td>North Indian</td>\n",
       "      <td>600.0</td>\n",
       "      <td>Buffet</td>\n",
       "    </tr>\n",
       "    <tr>\n",
       "      <th>6</th>\n",
       "      <td>Rosewood International Hotel - Bar &amp; Restaurant</td>\n",
       "      <td>No</td>\n",
       "      <td>No</td>\n",
       "      <td>3.6</td>\n",
       "      <td>8</td>\n",
       "      <td>others</td>\n",
       "      <td>Casual Dining</td>\n",
       "      <td>others</td>\n",
       "      <td>800.0</td>\n",
       "      <td>Buffet</td>\n",
       "    </tr>\n",
       "    <tr>\n",
       "      <th>7</th>\n",
       "      <td>Onesta</td>\n",
       "      <td>Yes</td>\n",
       "      <td>Yes</td>\n",
       "      <td>4.6</td>\n",
       "      <td>2556</td>\n",
       "      <td>Banashankari</td>\n",
       "      <td>others</td>\n",
       "      <td>others</td>\n",
       "      <td>600.0</td>\n",
       "      <td>Cafes</td>\n",
       "    </tr>\n",
       "    <tr>\n",
       "      <th>8</th>\n",
       "      <td>Penthouse Cafe</td>\n",
       "      <td>Yes</td>\n",
       "      <td>No</td>\n",
       "      <td>4.0</td>\n",
       "      <td>324</td>\n",
       "      <td>Banashankari</td>\n",
       "      <td>Cafe</td>\n",
       "      <td>others</td>\n",
       "      <td>700.0</td>\n",
       "      <td>Cafes</td>\n",
       "    </tr>\n",
       "    <tr>\n",
       "      <th>9</th>\n",
       "      <td>Smacznego</td>\n",
       "      <td>Yes</td>\n",
       "      <td>No</td>\n",
       "      <td>4.2</td>\n",
       "      <td>504</td>\n",
       "      <td>Banashankari</td>\n",
       "      <td>Cafe</td>\n",
       "      <td>others</td>\n",
       "      <td>550.0</td>\n",
       "      <td>Cafes</td>\n",
       "    </tr>\n",
       "  </tbody>\n",
       "</table>\n",
       "</div>"
      ],
      "text/plain": [
       "                                              name online_order book_table  \\\n",
       "0                                            Jalsa          Yes        Yes   \n",
       "1                                   Spice Elephant          Yes         No   \n",
       "2                                  San Churro Cafe          Yes         No   \n",
       "3                            Addhuri Udupi Bhojana           No         No   \n",
       "4                                    Grand Village           No         No   \n",
       "5                                  Timepass Dinner          Yes         No   \n",
       "6  Rosewood International Hotel - Bar & Restaurant           No         No   \n",
       "7                                           Onesta          Yes        Yes   \n",
       "8                                   Penthouse Cafe          Yes         No   \n",
       "9                                        Smacznego          Yes         No   \n",
       "\n",
       "   rate  votes      location      rest_type                        cuisines  \\\n",
       "0   4.1    775  Banashankari  Casual Dining  North Indian, Mughlai, Chinese   \n",
       "1   4.1    787  Banashankari  Casual Dining                          others   \n",
       "2   3.8    918  Banashankari         others                          others   \n",
       "3   3.7     88  Banashankari    Quick Bites      South Indian, North Indian   \n",
       "4   3.8    166  Basavanagudi  Casual Dining                          others   \n",
       "5   3.8    286  Basavanagudi  Casual Dining                    North Indian   \n",
       "6   3.6      8        others  Casual Dining                          others   \n",
       "7   4.6   2556  Banashankari         others                          others   \n",
       "8   4.0    324  Banashankari           Cafe                          others   \n",
       "9   4.2    504  Banashankari           Cafe                          others   \n",
       "\n",
       "   cost2plates    type  \n",
       "0        800.0  Buffet  \n",
       "1        800.0  Buffet  \n",
       "2        800.0  Buffet  \n",
       "3        300.0  Buffet  \n",
       "4        600.0  Buffet  \n",
       "5        600.0  Buffet  \n",
       "6        800.0  Buffet  \n",
       "7        600.0   Cafes  \n",
       "8        700.0   Cafes  \n",
       "9        550.0   Cafes  "
      ]
     },
     "execution_count": 40,
     "metadata": {},
     "output_type": "execute_result"
    }
   ],
   "source": [
    "def cuisines_types_others(value):\n",
    "    if (value in cuisines_types_lessthan100):\n",
    "        return 'others'\n",
    "    else:\n",
    "        return value\n",
    "    \n",
    "data['cuisines']=data['cuisines'].apply(cuisines_types_others)\n",
    "data.head(10)"
   ]
  },
  {
   "cell_type": "code",
   "execution_count": 41,
   "id": "5a0310cd",
   "metadata": {
    "execution": {
     "iopub.execute_input": "2024-06-16T20:30:24.187416Z",
     "iopub.status.busy": "2024-06-16T20:30:24.186706Z",
     "iopub.status.idle": "2024-06-16T20:30:24.198437Z",
     "shell.execute_reply": "2024-06-16T20:30:24.197393Z"
    },
    "papermill": {
     "duration": 0.037951,
     "end_time": "2024-06-16T20:30:24.200520",
     "exception": false,
     "start_time": "2024-06-16T20:30:24.162569",
     "status": "completed"
    },
    "tags": []
   },
   "outputs": [
    {
     "data": {
      "text/plain": [
       "type\n",
       "Delivery              25579\n",
       "Dine-out              17562\n",
       "Desserts               3559\n",
       "Cafes                  1703\n",
       "Drinks & nightlife     1084\n",
       "Buffet                  869\n",
       "Pubs and bars           686\n",
       "Name: count, dtype: int64"
      ]
     },
     "execution_count": 41,
     "metadata": {},
     "output_type": "execute_result"
    }
   ],
   "source": [
    "data['type'].value_counts()"
   ]
  },
  {
   "cell_type": "markdown",
   "id": "c62b5518",
   "metadata": {
    "papermill": {
     "duration": 0.023238,
     "end_time": "2024-06-16T20:30:24.246995",
     "exception": false,
     "start_time": "2024-06-16T20:30:24.223757",
     "status": "completed"
    },
    "tags": []
   },
   "source": [
    "The type column looks already clean so no need cluster them."
   ]
  },
  {
   "cell_type": "markdown",
   "id": "570f3441",
   "metadata": {
    "papermill": {
     "duration": 0.022845,
     "end_time": "2024-06-16T20:30:24.293104",
     "exception": false,
     "start_time": "2024-06-16T20:30:24.270259",
     "status": "completed"
    },
    "tags": []
   },
   "source": [
    "Now that we have cleaned all the columns one-by-one so lets do EDA."
   ]
  },
  {
   "cell_type": "markdown",
   "id": "88e9f389",
   "metadata": {
    "papermill": {
     "duration": 0.022829,
     "end_time": "2024-06-16T20:30:24.339142",
     "exception": false,
     "start_time": "2024-06-16T20:30:24.316313",
     "status": "completed"
    },
    "tags": []
   },
   "source": [
    "# EDA"
   ]
  },
  {
   "cell_type": "code",
   "execution_count": 42,
   "id": "c224d97b",
   "metadata": {
    "execution": {
     "iopub.execute_input": "2024-06-16T20:30:24.390066Z",
     "iopub.status.busy": "2024-06-16T20:30:24.389245Z",
     "iopub.status.idle": "2024-06-16T20:30:24.405279Z",
     "shell.execute_reply": "2024-06-16T20:30:24.404250Z"
    },
    "papermill": {
     "duration": 0.044965,
     "end_time": "2024-06-16T20:30:24.407385",
     "exception": false,
     "start_time": "2024-06-16T20:30:24.362420",
     "status": "completed"
    },
    "tags": []
   },
   "outputs": [
    {
     "data": {
      "text/html": [
       "<div>\n",
       "<style scoped>\n",
       "    .dataframe tbody tr th:only-of-type {\n",
       "        vertical-align: middle;\n",
       "    }\n",
       "\n",
       "    .dataframe tbody tr th {\n",
       "        vertical-align: top;\n",
       "    }\n",
       "\n",
       "    .dataframe thead th {\n",
       "        text-align: right;\n",
       "    }\n",
       "</style>\n",
       "<table border=\"1\" class=\"dataframe\">\n",
       "  <thead>\n",
       "    <tr style=\"text-align: right;\">\n",
       "      <th></th>\n",
       "      <th>name</th>\n",
       "      <th>online_order</th>\n",
       "      <th>book_table</th>\n",
       "      <th>rate</th>\n",
       "      <th>votes</th>\n",
       "      <th>location</th>\n",
       "      <th>rest_type</th>\n",
       "      <th>cuisines</th>\n",
       "      <th>cost2plates</th>\n",
       "      <th>type</th>\n",
       "    </tr>\n",
       "  </thead>\n",
       "  <tbody>\n",
       "    <tr>\n",
       "      <th>0</th>\n",
       "      <td>Jalsa</td>\n",
       "      <td>Yes</td>\n",
       "      <td>Yes</td>\n",
       "      <td>4.1</td>\n",
       "      <td>775</td>\n",
       "      <td>Banashankari</td>\n",
       "      <td>Casual Dining</td>\n",
       "      <td>North Indian, Mughlai, Chinese</td>\n",
       "      <td>800.0</td>\n",
       "      <td>Buffet</td>\n",
       "    </tr>\n",
       "    <tr>\n",
       "      <th>1</th>\n",
       "      <td>Spice Elephant</td>\n",
       "      <td>Yes</td>\n",
       "      <td>No</td>\n",
       "      <td>4.1</td>\n",
       "      <td>787</td>\n",
       "      <td>Banashankari</td>\n",
       "      <td>Casual Dining</td>\n",
       "      <td>others</td>\n",
       "      <td>800.0</td>\n",
       "      <td>Buffet</td>\n",
       "    </tr>\n",
       "    <tr>\n",
       "      <th>2</th>\n",
       "      <td>San Churro Cafe</td>\n",
       "      <td>Yes</td>\n",
       "      <td>No</td>\n",
       "      <td>3.8</td>\n",
       "      <td>918</td>\n",
       "      <td>Banashankari</td>\n",
       "      <td>others</td>\n",
       "      <td>others</td>\n",
       "      <td>800.0</td>\n",
       "      <td>Buffet</td>\n",
       "    </tr>\n",
       "    <tr>\n",
       "      <th>3</th>\n",
       "      <td>Addhuri Udupi Bhojana</td>\n",
       "      <td>No</td>\n",
       "      <td>No</td>\n",
       "      <td>3.7</td>\n",
       "      <td>88</td>\n",
       "      <td>Banashankari</td>\n",
       "      <td>Quick Bites</td>\n",
       "      <td>South Indian, North Indian</td>\n",
       "      <td>300.0</td>\n",
       "      <td>Buffet</td>\n",
       "    </tr>\n",
       "    <tr>\n",
       "      <th>4</th>\n",
       "      <td>Grand Village</td>\n",
       "      <td>No</td>\n",
       "      <td>No</td>\n",
       "      <td>3.8</td>\n",
       "      <td>166</td>\n",
       "      <td>Basavanagudi</td>\n",
       "      <td>Casual Dining</td>\n",
       "      <td>others</td>\n",
       "      <td>600.0</td>\n",
       "      <td>Buffet</td>\n",
       "    </tr>\n",
       "  </tbody>\n",
       "</table>\n",
       "</div>"
      ],
      "text/plain": [
       "                    name online_order book_table  rate  votes      location  \\\n",
       "0                  Jalsa          Yes        Yes   4.1    775  Banashankari   \n",
       "1         Spice Elephant          Yes         No   4.1    787  Banashankari   \n",
       "2        San Churro Cafe          Yes         No   3.8    918  Banashankari   \n",
       "3  Addhuri Udupi Bhojana           No         No   3.7     88  Banashankari   \n",
       "4          Grand Village           No         No   3.8    166  Basavanagudi   \n",
       "\n",
       "       rest_type                        cuisines  cost2plates    type  \n",
       "0  Casual Dining  North Indian, Mughlai, Chinese        800.0  Buffet  \n",
       "1  Casual Dining                          others        800.0  Buffet  \n",
       "2         others                          others        800.0  Buffet  \n",
       "3    Quick Bites      South Indian, North Indian        300.0  Buffet  \n",
       "4  Casual Dining                          others        600.0  Buffet  "
      ]
     },
     "execution_count": 42,
     "metadata": {},
     "output_type": "execute_result"
    }
   ],
   "source": [
    "data.head()"
   ]
  },
  {
   "cell_type": "code",
   "execution_count": 43,
   "id": "c4017155",
   "metadata": {
    "execution": {
     "iopub.execute_input": "2024-06-16T20:30:24.455644Z",
     "iopub.status.busy": "2024-06-16T20:30:24.455254Z",
     "iopub.status.idle": "2024-06-16T20:30:24.483756Z",
     "shell.execute_reply": "2024-06-16T20:30:24.482728Z"
    },
    "papermill": {
     "duration": 0.055651,
     "end_time": "2024-06-16T20:30:24.486384",
     "exception": false,
     "start_time": "2024-06-16T20:30:24.430733",
     "status": "completed"
    },
    "tags": []
   },
   "outputs": [
    {
     "name": "stdout",
     "output_type": "stream",
     "text": [
      "<class 'pandas.core.frame.DataFrame'>\n",
      "Index: 51042 entries, 0 to 51716\n",
      "Data columns (total 10 columns):\n",
      " #   Column        Non-Null Count  Dtype  \n",
      "---  ------        --------------  -----  \n",
      " 0   name          51042 non-null  object \n",
      " 1   online_order  51042 non-null  object \n",
      " 2   book_table    51042 non-null  object \n",
      " 3   rate          51042 non-null  float64\n",
      " 4   votes         51042 non-null  int64  \n",
      " 5   location      51042 non-null  object \n",
      " 6   rest_type     51042 non-null  object \n",
      " 7   cuisines      51042 non-null  object \n",
      " 8   cost2plates   51042 non-null  float64\n",
      " 9   type          51042 non-null  object \n",
      "dtypes: float64(2), int64(1), object(7)\n",
      "memory usage: 4.3+ MB\n"
     ]
    }
   ],
   "source": [
    "data.info()"
   ]
  },
  {
   "cell_type": "code",
   "execution_count": 44,
   "id": "390c217d",
   "metadata": {
    "execution": {
     "iopub.execute_input": "2024-06-16T20:30:24.535998Z",
     "iopub.status.busy": "2024-06-16T20:30:24.535267Z",
     "iopub.status.idle": "2024-06-16T20:30:25.336297Z",
     "shell.execute_reply": "2024-06-16T20:30:25.335213Z"
    },
    "papermill": {
     "duration": 0.828246,
     "end_time": "2024-06-16T20:30:25.338536",
     "exception": false,
     "start_time": "2024-06-16T20:30:24.510290",
     "status": "completed"
    },
    "tags": []
   },
   "outputs": [
    {
     "data": {
      "text/plain": [
       "(array([ 0,  1,  2,  3,  4,  5,  6,  7,  8,  9, 10, 11, 12, 13, 14, 15, 16,\n",
       "        17, 18, 19, 20, 21, 22, 23, 24, 25, 26, 27, 28, 29, 30, 31, 32, 33,\n",
       "        34, 35, 36, 37, 38, 39, 40, 41]),\n",
       " [Text(0, 0, 'Banashankari'),\n",
       "  Text(1, 0, 'Basavanagudi'),\n",
       "  Text(2, 0, 'others'),\n",
       "  Text(3, 0, 'Jayanagar'),\n",
       "  Text(4, 0, 'JP Nagar'),\n",
       "  Text(5, 0, 'Bannerghatta Road'),\n",
       "  Text(6, 0, 'BTM'),\n",
       "  Text(7, 0, 'Electronic City'),\n",
       "  Text(8, 0, 'HSR'),\n",
       "  Text(9, 0, 'Marathahalli'),\n",
       "  Text(10, 0, 'Shanti Nagar'),\n",
       "  Text(11, 0, 'Koramangala 5th Block'),\n",
       "  Text(12, 0, 'Richmond Road'),\n",
       "  Text(13, 0, 'Koramangala 7th Block'),\n",
       "  Text(14, 0, 'Koramangala 4th Block'),\n",
       "  Text(15, 0, 'Bellandur'),\n",
       "  Text(16, 0, 'Sarjapur Road'),\n",
       "  Text(17, 0, 'Whitefield'),\n",
       "  Text(18, 0, 'Old Airport Road'),\n",
       "  Text(19, 0, 'Indiranagar'),\n",
       "  Text(20, 0, 'Koramangala 1st Block'),\n",
       "  Text(21, 0, 'Frazer Town'),\n",
       "  Text(22, 0, 'MG Road'),\n",
       "  Text(23, 0, 'Brigade Road'),\n",
       "  Text(24, 0, 'Lavelle Road'),\n",
       "  Text(25, 0, 'Church Street'),\n",
       "  Text(26, 0, 'Ulsoor'),\n",
       "  Text(27, 0, 'Residency Road'),\n",
       "  Text(28, 0, 'Shivajinagar'),\n",
       "  Text(29, 0, 'St. Marks Road'),\n",
       "  Text(30, 0, 'Cunningham Road'),\n",
       "  Text(31, 0, 'Commercial Street'),\n",
       "  Text(32, 0, 'Domlur'),\n",
       "  Text(33, 0, 'Ejipura'),\n",
       "  Text(34, 0, 'Malleshwaram'),\n",
       "  Text(35, 0, 'Kammanahalli'),\n",
       "  Text(36, 0, 'Koramangala 6th Block'),\n",
       "  Text(37, 0, 'Brookefield'),\n",
       "  Text(38, 0, 'Rajajinagar'),\n",
       "  Text(39, 0, 'Banaswadi'),\n",
       "  Text(40, 0, 'Kalyan Nagar'),\n",
       "  Text(41, 0, 'New BEL Road')])"
      ]
     },
     "execution_count": 44,
     "metadata": {},
     "output_type": "execute_result"
    },
    {
     "data": {
      "image/png": "[encoded data removed]",
      "text/plain": [
       "<Figure size 1600x1000 with 1 Axes>"
      ]
     },
     "metadata": {},
     "output_type": "display_data"
    }
   ],
   "source": [
    "plt.figure(figsize=(16,10))\n",
    "ax=sns.countplot(x=\"location\", data=data)\n",
    "plt.xticks(rotation=90)"
   ]
  },
  {
   "cell_type": "markdown",
   "id": "9ef41ebc",
   "metadata": {
    "papermill": {
     "duration": 0.02663,
     "end_time": "2024-06-16T20:30:25.390053",
     "exception": false,
     "start_time": "2024-06-16T20:30:25.363423",
     "status": "completed"
    },
    "tags": []
   },
   "source": [
    "Visualizing the online order"
   ]
  },
  {
   "cell_type": "code",
   "execution_count": 45,
   "id": "836e3376",
   "metadata": {
    "execution": {
     "iopub.execute_input": "2024-06-16T20:30:25.443655Z",
     "iopub.status.busy": "2024-06-16T20:30:25.442557Z",
     "iopub.status.idle": "2024-06-16T20:30:25.627915Z",
     "shell.execute_reply": "2024-06-16T20:30:25.626786Z"
    },
    "papermill": {
     "duration": 0.214463,
     "end_time": "2024-06-16T20:30:25.630479",
     "exception": false,
     "start_time": "2024-06-16T20:30:25.416016",
     "status": "completed"
    },
    "tags": []
   },
   "outputs": [
    {
     "data": {
      "text/plain": [
       "<Axes: xlabel='online_order', ylabel='count'>"
      ]
     },
     "execution_count": 45,
     "metadata": {},
     "output_type": "execute_result"
    },
    {
     "data": {
      "image/png": "[encoded data removed]",
      "text/plain": [
       "<Figure size 600x600 with 1 Axes>"
      ]
     },
     "metadata": {},
     "output_type": "display_data"
    }
   ],
   "source": [
    "plt.figure(figsize=(6,6))\n",
    "sns.countplot(x='online_order', data=data)"
   ]
  },
  {
   "cell_type": "markdown",
   "id": "82f262ce",
   "metadata": {
    "papermill": {
     "duration": 0.025097,
     "end_time": "2024-06-16T20:30:25.681623",
     "exception": false,
     "start_time": "2024-06-16T20:30:25.656526",
     "status": "completed"
    },
    "tags": []
   },
   "source": [
    "Most restraunts have online facilty"
   ]
  },
  {
   "cell_type": "code",
   "execution_count": 46,
   "id": "94898a1b",
   "metadata": {
    "execution": {
     "iopub.execute_input": "2024-06-16T20:30:25.736511Z",
     "iopub.status.busy": "2024-06-16T20:30:25.735049Z",
     "iopub.status.idle": "2024-06-16T20:30:25.752356Z",
     "shell.execute_reply": "2024-06-16T20:30:25.751342Z"
    },
    "papermill": {
     "duration": 0.047133,
     "end_time": "2024-06-16T20:30:25.754652",
     "exception": false,
     "start_time": "2024-06-16T20:30:25.707519",
     "status": "completed"
    },
    "tags": []
   },
   "outputs": [
    {
     "data": {
      "text/html": [
       "<div>\n",
       "<style scoped>\n",
       "    .dataframe tbody tr th:only-of-type {\n",
       "        vertical-align: middle;\n",
       "    }\n",
       "\n",
       "    .dataframe tbody tr th {\n",
       "        vertical-align: top;\n",
       "    }\n",
       "\n",
       "    .dataframe thead th {\n",
       "        text-align: right;\n",
       "    }\n",
       "</style>\n",
       "<table border=\"1\" class=\"dataframe\">\n",
       "  <thead>\n",
       "    <tr style=\"text-align: right;\">\n",
       "      <th></th>\n",
       "      <th>name</th>\n",
       "      <th>online_order</th>\n",
       "      <th>book_table</th>\n",
       "      <th>rate</th>\n",
       "      <th>votes</th>\n",
       "      <th>location</th>\n",
       "      <th>rest_type</th>\n",
       "      <th>cuisines</th>\n",
       "      <th>cost2plates</th>\n",
       "      <th>type</th>\n",
       "    </tr>\n",
       "  </thead>\n",
       "  <tbody>\n",
       "    <tr>\n",
       "      <th>0</th>\n",
       "      <td>Jalsa</td>\n",
       "      <td>Yes</td>\n",
       "      <td>Yes</td>\n",
       "      <td>4.1</td>\n",
       "      <td>775</td>\n",
       "      <td>Banashankari</td>\n",
       "      <td>Casual Dining</td>\n",
       "      <td>North Indian, Mughlai, Chinese</td>\n",
       "      <td>800.0</td>\n",
       "      <td>Buffet</td>\n",
       "    </tr>\n",
       "    <tr>\n",
       "      <th>1</th>\n",
       "      <td>Spice Elephant</td>\n",
       "      <td>Yes</td>\n",
       "      <td>No</td>\n",
       "      <td>4.1</td>\n",
       "      <td>787</td>\n",
       "      <td>Banashankari</td>\n",
       "      <td>Casual Dining</td>\n",
       "      <td>others</td>\n",
       "      <td>800.0</td>\n",
       "      <td>Buffet</td>\n",
       "    </tr>\n",
       "    <tr>\n",
       "      <th>2</th>\n",
       "      <td>San Churro Cafe</td>\n",
       "      <td>Yes</td>\n",
       "      <td>No</td>\n",
       "      <td>3.8</td>\n",
       "      <td>918</td>\n",
       "      <td>Banashankari</td>\n",
       "      <td>others</td>\n",
       "      <td>others</td>\n",
       "      <td>800.0</td>\n",
       "      <td>Buffet</td>\n",
       "    </tr>\n",
       "    <tr>\n",
       "      <th>3</th>\n",
       "      <td>Addhuri Udupi Bhojana</td>\n",
       "      <td>No</td>\n",
       "      <td>No</td>\n",
       "      <td>3.7</td>\n",
       "      <td>88</td>\n",
       "      <td>Banashankari</td>\n",
       "      <td>Quick Bites</td>\n",
       "      <td>South Indian, North Indian</td>\n",
       "      <td>300.0</td>\n",
       "      <td>Buffet</td>\n",
       "    </tr>\n",
       "    <tr>\n",
       "      <th>4</th>\n",
       "      <td>Grand Village</td>\n",
       "      <td>No</td>\n",
       "      <td>No</td>\n",
       "      <td>3.8</td>\n",
       "      <td>166</td>\n",
       "      <td>Basavanagudi</td>\n",
       "      <td>Casual Dining</td>\n",
       "      <td>others</td>\n",
       "      <td>600.0</td>\n",
       "      <td>Buffet</td>\n",
       "    </tr>\n",
       "  </tbody>\n",
       "</table>\n",
       "</div>"
      ],
      "text/plain": [
       "                    name online_order book_table  rate  votes      location  \\\n",
       "0                  Jalsa          Yes        Yes   4.1    775  Banashankari   \n",
       "1         Spice Elephant          Yes         No   4.1    787  Banashankari   \n",
       "2        San Churro Cafe          Yes         No   3.8    918  Banashankari   \n",
       "3  Addhuri Udupi Bhojana           No         No   3.7     88  Banashankari   \n",
       "4          Grand Village           No         No   3.8    166  Basavanagudi   \n",
       "\n",
       "       rest_type                        cuisines  cost2plates    type  \n",
       "0  Casual Dining  North Indian, Mughlai, Chinese        800.0  Buffet  \n",
       "1  Casual Dining                          others        800.0  Buffet  \n",
       "2         others                          others        800.0  Buffet  \n",
       "3    Quick Bites      South Indian, North Indian        300.0  Buffet  \n",
       "4  Casual Dining                          others        600.0  Buffet  "
      ]
     },
     "execution_count": 46,
     "metadata": {},
     "output_type": "execute_result"
    }
   ],
   "source": [
    "data.head()"
   ]
  },
  {
   "cell_type": "code",
   "execution_count": 47,
   "id": "1cb73c9e",
   "metadata": {
    "execution": {
     "iopub.execute_input": "2024-06-16T20:30:25.807765Z",
     "iopub.status.busy": "2024-06-16T20:30:25.807384Z",
     "iopub.status.idle": "2024-06-16T20:30:25.978872Z",
     "shell.execute_reply": "2024-06-16T20:30:25.977776Z"
    },
    "papermill": {
     "duration": 0.201595,
     "end_time": "2024-06-16T20:30:25.981980",
     "exception": false,
     "start_time": "2024-06-16T20:30:25.780385",
     "status": "completed"
    },
    "tags": []
   },
   "outputs": [
    {
     "data": {
      "text/plain": [
       "<Axes: xlabel='book_table', ylabel='count'>"
      ]
     },
     "execution_count": 47,
     "metadata": {},
     "output_type": "execute_result"
    },
    {
     "data": {
      "image/png": "[encoded data removed]",
      "text/plain": [
       "<Figure size 600x600 with 1 Axes>"
      ]
     },
     "metadata": {},
     "output_type": "display_data"
    }
   ],
   "source": [
    "plt.figure(figsize=(6,6))\n",
    "sns.countplot(x='book_table', data=data)"
   ]
  },
  {
   "cell_type": "markdown",
   "id": "ffc2f77a",
   "metadata": {
    "papermill": {
     "duration": 0.02567,
     "end_time": "2024-06-16T20:30:26.039820",
     "exception": false,
     "start_time": "2024-06-16T20:30:26.014150",
     "status": "completed"
    },
    "tags": []
   },
   "source": [
    "Most restraunts don't have pre-booking facilty"
   ]
  },
  {
   "cell_type": "code",
   "execution_count": 48,
   "id": "1b65b40b",
   "metadata": {
    "execution": {
     "iopub.execute_input": "2024-06-16T20:30:26.093622Z",
     "iopub.status.busy": "2024-06-16T20:30:26.093219Z",
     "iopub.status.idle": "2024-06-16T20:30:26.108869Z",
     "shell.execute_reply": "2024-06-16T20:30:26.107854Z"
    },
    "papermill": {
     "duration": 0.045257,
     "end_time": "2024-06-16T20:30:26.111150",
     "exception": false,
     "start_time": "2024-06-16T20:30:26.065893",
     "status": "completed"
    },
    "tags": []
   },
   "outputs": [
    {
     "data": {
      "text/html": [
       "<div>\n",
       "<style scoped>\n",
       "    .dataframe tbody tr th:only-of-type {\n",
       "        vertical-align: middle;\n",
       "    }\n",
       "\n",
       "    .dataframe tbody tr th {\n",
       "        vertical-align: top;\n",
       "    }\n",
       "\n",
       "    .dataframe thead th {\n",
       "        text-align: right;\n",
       "    }\n",
       "</style>\n",
       "<table border=\"1\" class=\"dataframe\">\n",
       "  <thead>\n",
       "    <tr style=\"text-align: right;\">\n",
       "      <th></th>\n",
       "      <th>name</th>\n",
       "      <th>online_order</th>\n",
       "      <th>book_table</th>\n",
       "      <th>rate</th>\n",
       "      <th>votes</th>\n",
       "      <th>location</th>\n",
       "      <th>rest_type</th>\n",
       "      <th>cuisines</th>\n",
       "      <th>cost2plates</th>\n",
       "      <th>type</th>\n",
       "    </tr>\n",
       "  </thead>\n",
       "  <tbody>\n",
       "    <tr>\n",
       "      <th>0</th>\n",
       "      <td>Jalsa</td>\n",
       "      <td>Yes</td>\n",
       "      <td>Yes</td>\n",
       "      <td>4.1</td>\n",
       "      <td>775</td>\n",
       "      <td>Banashankari</td>\n",
       "      <td>Casual Dining</td>\n",
       "      <td>North Indian, Mughlai, Chinese</td>\n",
       "      <td>800.0</td>\n",
       "      <td>Buffet</td>\n",
       "    </tr>\n",
       "    <tr>\n",
       "      <th>1</th>\n",
       "      <td>Spice Elephant</td>\n",
       "      <td>Yes</td>\n",
       "      <td>No</td>\n",
       "      <td>4.1</td>\n",
       "      <td>787</td>\n",
       "      <td>Banashankari</td>\n",
       "      <td>Casual Dining</td>\n",
       "      <td>others</td>\n",
       "      <td>800.0</td>\n",
       "      <td>Buffet</td>\n",
       "    </tr>\n",
       "    <tr>\n",
       "      <th>2</th>\n",
       "      <td>San Churro Cafe</td>\n",
       "      <td>Yes</td>\n",
       "      <td>No</td>\n",
       "      <td>3.8</td>\n",
       "      <td>918</td>\n",
       "      <td>Banashankari</td>\n",
       "      <td>others</td>\n",
       "      <td>others</td>\n",
       "      <td>800.0</td>\n",
       "      <td>Buffet</td>\n",
       "    </tr>\n",
       "    <tr>\n",
       "      <th>3</th>\n",
       "      <td>Addhuri Udupi Bhojana</td>\n",
       "      <td>No</td>\n",
       "      <td>No</td>\n",
       "      <td>3.7</td>\n",
       "      <td>88</td>\n",
       "      <td>Banashankari</td>\n",
       "      <td>Quick Bites</td>\n",
       "      <td>South Indian, North Indian</td>\n",
       "      <td>300.0</td>\n",
       "      <td>Buffet</td>\n",
       "    </tr>\n",
       "    <tr>\n",
       "      <th>4</th>\n",
       "      <td>Grand Village</td>\n",
       "      <td>No</td>\n",
       "      <td>No</td>\n",
       "      <td>3.8</td>\n",
       "      <td>166</td>\n",
       "      <td>Basavanagudi</td>\n",
       "      <td>Casual Dining</td>\n",
       "      <td>others</td>\n",
       "      <td>600.0</td>\n",
       "      <td>Buffet</td>\n",
       "    </tr>\n",
       "  </tbody>\n",
       "</table>\n",
       "</div>"
      ],
      "text/plain": [
       "                    name online_order book_table  rate  votes      location  \\\n",
       "0                  Jalsa          Yes        Yes   4.1    775  Banashankari   \n",
       "1         Spice Elephant          Yes         No   4.1    787  Banashankari   \n",
       "2        San Churro Cafe          Yes         No   3.8    918  Banashankari   \n",
       "3  Addhuri Udupi Bhojana           No         No   3.7     88  Banashankari   \n",
       "4          Grand Village           No         No   3.8    166  Basavanagudi   \n",
       "\n",
       "       rest_type                        cuisines  cost2plates    type  \n",
       "0  Casual Dining  North Indian, Mughlai, Chinese        800.0  Buffet  \n",
       "1  Casual Dining                          others        800.0  Buffet  \n",
       "2         others                          others        800.0  Buffet  \n",
       "3    Quick Bites      South Indian, North Indian        300.0  Buffet  \n",
       "4  Casual Dining                          others        600.0  Buffet  "
      ]
     },
     "execution_count": 48,
     "metadata": {},
     "output_type": "execute_result"
    }
   ],
   "source": [
    "data.head()"
   ]
  },
  {
   "cell_type": "markdown",
   "id": "f4df3b34",
   "metadata": {
    "papermill": {
     "duration": 0.02562,
     "end_time": "2024-06-16T20:30:26.163055",
     "exception": false,
     "start_time": "2024-06-16T20:30:26.137435",
     "status": "completed"
    },
    "tags": []
   },
   "source": [
    "Lets compare the online_order restraunts and their ratings."
   ]
  },
  {
   "cell_type": "code",
   "execution_count": 49,
   "id": "01c86fbc",
   "metadata": {
    "execution": {
     "iopub.execute_input": "2024-06-16T20:30:26.217503Z",
     "iopub.status.busy": "2024-06-16T20:30:26.217077Z",
     "iopub.status.idle": "2024-06-16T20:30:26.474248Z",
     "shell.execute_reply": "2024-06-16T20:30:26.473169Z"
    },
    "papermill": {
     "duration": 0.287086,
     "end_time": "2024-06-16T20:30:26.476509",
     "exception": false,
     "start_time": "2024-06-16T20:30:26.189423",
     "status": "completed"
    },
    "tags": []
   },
   "outputs": [
    {
     "data": {
      "text/plain": [
       "<Axes: xlabel='online_order', ylabel='rate'>"
      ]
     },
     "execution_count": 49,
     "metadata": {},
     "output_type": "execute_result"
    },
    {
     "data": {
      "image/png": "[encoded data removed]",
      "text/plain": [
       "<Figure size 640x480 with 1 Axes>"
      ]
     },
     "metadata": {},
     "output_type": "display_data"
    }
   ],
   "source": [
    "sns.boxplot(x=data['online_order'], y=data['rate'])"
   ]
  },
  {
   "cell_type": "markdown",
   "id": "2b6b74f7",
   "metadata": {
    "papermill": {
     "duration": 0.026488,
     "end_time": "2024-06-16T20:30:26.529786",
     "exception": false,
     "start_time": "2024-06-16T20:30:26.503298",
     "status": "completed"
    },
    "tags": []
   },
   "source": [
    "Lets compare the book_table restraunts and their ratings."
   ]
  },
  {
   "cell_type": "code",
   "execution_count": 50,
   "id": "235814e7",
   "metadata": {
    "execution": {
     "iopub.execute_input": "2024-06-16T20:30:26.584718Z",
     "iopub.status.busy": "2024-06-16T20:30:26.584049Z",
     "iopub.status.idle": "2024-06-16T20:30:26.834171Z",
     "shell.execute_reply": "2024-06-16T20:30:26.833122Z"
    },
    "papermill": {
     "duration": 0.280343,
     "end_time": "2024-06-16T20:30:26.836565",
     "exception": false,
     "start_time": "2024-06-16T20:30:26.556222",
     "status": "completed"
    },
    "tags": []
   },
   "outputs": [
    {
     "data": {
      "text/plain": [
       "<Axes: xlabel='book_table', ylabel='rate'>"
      ]
     },
     "execution_count": 50,
     "metadata": {},
     "output_type": "execute_result"
    },
    {
     "data": {
      "image/png": "[encoded data removed]",
      "text/plain": [
       "<Figure size 640x480 with 1 Axes>"
      ]
     },
     "metadata": {},
     "output_type": "display_data"
    }
   ],
   "source": [
    "sns.boxplot(x=data['book_table'], y=data['rate'])"
   ]
  },
  {
   "cell_type": "markdown",
   "id": "ad34cee3",
   "metadata": {
    "papermill": {
     "duration": 0.026537,
     "end_time": "2024-06-16T20:30:26.890855",
     "exception": false,
     "start_time": "2024-06-16T20:30:26.864318",
     "status": "completed"
    },
    "tags": []
   },
   "source": [
    "Here we can see that the restraunts where we have booking facility have better average ratings"
   ]
  },
  {
   "cell_type": "code",
   "execution_count": 51,
   "id": "a91278f9",
   "metadata": {
    "execution": {
     "iopub.execute_input": "2024-06-16T20:30:26.946884Z",
     "iopub.status.busy": "2024-06-16T20:30:26.946505Z",
     "iopub.status.idle": "2024-06-16T20:30:26.961885Z",
     "shell.execute_reply": "2024-06-16T20:30:26.960906Z"
    },
    "papermill": {
     "duration": 0.046106,
     "end_time": "2024-06-16T20:30:26.964038",
     "exception": false,
     "start_time": "2024-06-16T20:30:26.917932",
     "status": "completed"
    },
    "tags": []
   },
   "outputs": [
    {
     "data": {
      "text/html": [
       "<div>\n",
       "<style scoped>\n",
       "    .dataframe tbody tr th:only-of-type {\n",
       "        vertical-align: middle;\n",
       "    }\n",
       "\n",
       "    .dataframe tbody tr th {\n",
       "        vertical-align: top;\n",
       "    }\n",
       "\n",
       "    .dataframe thead th {\n",
       "        text-align: right;\n",
       "    }\n",
       "</style>\n",
       "<table border=\"1\" class=\"dataframe\">\n",
       "  <thead>\n",
       "    <tr style=\"text-align: right;\">\n",
       "      <th></th>\n",
       "      <th>name</th>\n",
       "      <th>online_order</th>\n",
       "      <th>book_table</th>\n",
       "      <th>rate</th>\n",
       "      <th>votes</th>\n",
       "      <th>location</th>\n",
       "      <th>rest_type</th>\n",
       "      <th>cuisines</th>\n",
       "      <th>cost2plates</th>\n",
       "      <th>type</th>\n",
       "    </tr>\n",
       "  </thead>\n",
       "  <tbody>\n",
       "    <tr>\n",
       "      <th>0</th>\n",
       "      <td>Jalsa</td>\n",
       "      <td>Yes</td>\n",
       "      <td>Yes</td>\n",
       "      <td>4.1</td>\n",
       "      <td>775</td>\n",
       "      <td>Banashankari</td>\n",
       "      <td>Casual Dining</td>\n",
       "      <td>North Indian, Mughlai, Chinese</td>\n",
       "      <td>800.0</td>\n",
       "      <td>Buffet</td>\n",
       "    </tr>\n",
       "    <tr>\n",
       "      <th>1</th>\n",
       "      <td>Spice Elephant</td>\n",
       "      <td>Yes</td>\n",
       "      <td>No</td>\n",
       "      <td>4.1</td>\n",
       "      <td>787</td>\n",
       "      <td>Banashankari</td>\n",
       "      <td>Casual Dining</td>\n",
       "      <td>others</td>\n",
       "      <td>800.0</td>\n",
       "      <td>Buffet</td>\n",
       "    </tr>\n",
       "    <tr>\n",
       "      <th>2</th>\n",
       "      <td>San Churro Cafe</td>\n",
       "      <td>Yes</td>\n",
       "      <td>No</td>\n",
       "      <td>3.8</td>\n",
       "      <td>918</td>\n",
       "      <td>Banashankari</td>\n",
       "      <td>others</td>\n",
       "      <td>others</td>\n",
       "      <td>800.0</td>\n",
       "      <td>Buffet</td>\n",
       "    </tr>\n",
       "    <tr>\n",
       "      <th>3</th>\n",
       "      <td>Addhuri Udupi Bhojana</td>\n",
       "      <td>No</td>\n",
       "      <td>No</td>\n",
       "      <td>3.7</td>\n",
       "      <td>88</td>\n",
       "      <td>Banashankari</td>\n",
       "      <td>Quick Bites</td>\n",
       "      <td>South Indian, North Indian</td>\n",
       "      <td>300.0</td>\n",
       "      <td>Buffet</td>\n",
       "    </tr>\n",
       "    <tr>\n",
       "      <th>4</th>\n",
       "      <td>Grand Village</td>\n",
       "      <td>No</td>\n",
       "      <td>No</td>\n",
       "      <td>3.8</td>\n",
       "      <td>166</td>\n",
       "      <td>Basavanagudi</td>\n",
       "      <td>Casual Dining</td>\n",
       "      <td>others</td>\n",
       "      <td>600.0</td>\n",
       "      <td>Buffet</td>\n",
       "    </tr>\n",
       "  </tbody>\n",
       "</table>\n",
       "</div>"
      ],
      "text/plain": [
       "                    name online_order book_table  rate  votes      location  \\\n",
       "0                  Jalsa          Yes        Yes   4.1    775  Banashankari   \n",
       "1         Spice Elephant          Yes         No   4.1    787  Banashankari   \n",
       "2        San Churro Cafe          Yes         No   3.8    918  Banashankari   \n",
       "3  Addhuri Udupi Bhojana           No         No   3.7     88  Banashankari   \n",
       "4          Grand Village           No         No   3.8    166  Basavanagudi   \n",
       "\n",
       "       rest_type                        cuisines  cost2plates    type  \n",
       "0  Casual Dining  North Indian, Mughlai, Chinese        800.0  Buffet  \n",
       "1  Casual Dining                          others        800.0  Buffet  \n",
       "2         others                          others        800.0  Buffet  \n",
       "3    Quick Bites      South Indian, North Indian        300.0  Buffet  \n",
       "4  Casual Dining                          others        600.0  Buffet  "
      ]
     },
     "execution_count": 51,
     "metadata": {},
     "output_type": "execute_result"
    }
   ],
   "source": [
    "data.head()"
   ]
  },
  {
   "cell_type": "markdown",
   "id": "87db90cb",
   "metadata": {
    "papermill": {
     "duration": 0.027129,
     "end_time": "2024-06-16T20:30:27.018466",
     "exception": false,
     "start_time": "2024-06-16T20:30:26.991337",
     "status": "completed"
    },
    "tags": []
   },
   "source": [
    "Lets visualize online order facility location wise"
   ]
  },
  {
   "cell_type": "code",
   "execution_count": 52,
   "id": "04036407",
   "metadata": {
    "execution": {
     "iopub.execute_input": "2024-06-16T20:30:27.075963Z",
     "iopub.status.busy": "2024-06-16T20:30:27.075109Z",
     "iopub.status.idle": "2024-06-16T20:30:27.110507Z",
     "shell.execute_reply": "2024-06-16T20:30:27.109488Z"
    },
    "papermill": {
     "duration": 0.066652,
     "end_time": "2024-06-16T20:30:27.112960",
     "exception": false,
     "start_time": "2024-06-16T20:30:27.046308",
     "status": "completed"
    },
    "tags": []
   },
   "outputs": [
    {
     "data": {
      "text/html": [
       "<div>\n",
       "<style scoped>\n",
       "    .dataframe tbody tr th:only-of-type {\n",
       "        vertical-align: middle;\n",
       "    }\n",
       "\n",
       "    .dataframe tbody tr th {\n",
       "        vertical-align: top;\n",
       "    }\n",
       "\n",
       "    .dataframe thead tr th {\n",
       "        text-align: left;\n",
       "    }\n",
       "\n",
       "    .dataframe thead tr:last-of-type th {\n",
       "        text-align: right;\n",
       "    }\n",
       "</style>\n",
       "<table border=\"1\" class=\"dataframe\">\n",
       "  <thead>\n",
       "    <tr>\n",
       "      <th></th>\n",
       "      <th colspan=\"2\" halign=\"left\">name</th>\n",
       "    </tr>\n",
       "    <tr>\n",
       "      <th>online_order</th>\n",
       "      <th>No</th>\n",
       "      <th>Yes</th>\n",
       "    </tr>\n",
       "    <tr>\n",
       "      <th>location</th>\n",
       "      <th></th>\n",
       "      <th></th>\n",
       "    </tr>\n",
       "  </thead>\n",
       "  <tbody>\n",
       "    <tr>\n",
       "      <th>BTM</th>\n",
       "      <td>1763.0</td>\n",
       "      <td>3293.0</td>\n",
       "    </tr>\n",
       "    <tr>\n",
       "      <th>Banashankari</th>\n",
       "      <td>397.0</td>\n",
       "      <td>505.0</td>\n",
       "    </tr>\n",
       "    <tr>\n",
       "      <th>Banaswadi</th>\n",
       "      <td>302.0</td>\n",
       "      <td>338.0</td>\n",
       "    </tr>\n",
       "    <tr>\n",
       "      <th>Bannerghatta Road</th>\n",
       "      <td>685.0</td>\n",
       "      <td>924.0</td>\n",
       "    </tr>\n",
       "    <tr>\n",
       "      <th>Basavanagudi</th>\n",
       "      <td>243.0</td>\n",
       "      <td>441.0</td>\n",
       "    </tr>\n",
       "  </tbody>\n",
       "</table>\n",
       "</div>"
      ],
      "text/plain": [
       "                     name        \n",
       "online_order           No     Yes\n",
       "location                         \n",
       "BTM                1763.0  3293.0\n",
       "Banashankari        397.0   505.0\n",
       "Banaswadi           302.0   338.0\n",
       "Bannerghatta Road   685.0   924.0\n",
       "Basavanagudi        243.0   441.0"
      ]
     },
     "execution_count": 52,
     "metadata": {},
     "output_type": "execute_result"
    }
   ],
   "source": [
    "online_order_locationwise_df=data.groupby(['location','online_order'])['name'].count()\n",
    "df1=pd.DataFrame(online_order_locationwise_df)\n",
    "df2=df1.pivot_table(df1, index=['location'], columns=['online_order'])\n",
    "df2.head()"
   ]
  },
  {
   "cell_type": "code",
   "execution_count": 53,
   "id": "dfa8e48b",
   "metadata": {
    "execution": {
     "iopub.execute_input": "2024-06-16T20:30:27.171102Z",
     "iopub.status.busy": "2024-06-16T20:30:27.170290Z",
     "iopub.status.idle": "2024-06-16T20:30:27.930573Z",
     "shell.execute_reply": "2024-06-16T20:30:27.929451Z"
    },
    "papermill": {
     "duration": 0.79274,
     "end_time": "2024-06-16T20:30:27.933537",
     "exception": false,
     "start_time": "2024-06-16T20:30:27.140797",
     "status": "completed"
    },
    "tags": []
   },
   "outputs": [
    {
     "data": {
      "text/plain": [
       "<Axes: xlabel='location'>"
      ]
     },
     "execution_count": 53,
     "metadata": {},
     "output_type": "execute_result"
    },
    {
     "data": {
      "image/png": "[encoded data removed]",
      "text/plain": [
       "<Figure size 1500x800 with 1 Axes>"
      ]
     },
     "metadata": {},
     "output_type": "display_data"
    }
   ],
   "source": [
    "df2.plot(kind='bar', figsize=(15,8))"
   ]
  },
  {
   "cell_type": "markdown",
   "id": "fe9320f5",
   "metadata": {
    "papermill": {
     "duration": 0.028139,
     "end_time": "2024-06-16T20:30:27.990171",
     "exception": false,
     "start_time": "2024-06-16T20:30:27.962032",
     "status": "completed"
    },
    "tags": []
   },
   "source": [
    "Now lets visualize book table facility location wise"
   ]
  },
  {
   "cell_type": "code",
   "execution_count": 54,
   "id": "2e42a765",
   "metadata": {
    "execution": {
     "iopub.execute_input": "2024-06-16T20:30:28.048797Z",
     "iopub.status.busy": "2024-06-16T20:30:28.048396Z",
     "iopub.status.idle": "2024-06-16T20:30:28.076434Z",
     "shell.execute_reply": "2024-06-16T20:30:28.075336Z"
    },
    "papermill": {
     "duration": 0.059938,
     "end_time": "2024-06-16T20:30:28.078664",
     "exception": false,
     "start_time": "2024-06-16T20:30:28.018726",
     "status": "completed"
    },
    "tags": []
   },
   "outputs": [
    {
     "data": {
      "text/html": [
       "<div>\n",
       "<style scoped>\n",
       "    .dataframe tbody tr th:only-of-type {\n",
       "        vertical-align: middle;\n",
       "    }\n",
       "\n",
       "    .dataframe tbody tr th {\n",
       "        vertical-align: top;\n",
       "    }\n",
       "\n",
       "    .dataframe thead tr th {\n",
       "        text-align: left;\n",
       "    }\n",
       "\n",
       "    .dataframe thead tr:last-of-type th {\n",
       "        text-align: right;\n",
       "    }\n",
       "</style>\n",
       "<table border=\"1\" class=\"dataframe\">\n",
       "  <thead>\n",
       "    <tr>\n",
       "      <th></th>\n",
       "      <th colspan=\"2\" halign=\"left\">name</th>\n",
       "    </tr>\n",
       "    <tr>\n",
       "      <th>book_table</th>\n",
       "      <th>No</th>\n",
       "      <th>Yes</th>\n",
       "    </tr>\n",
       "    <tr>\n",
       "      <th>location</th>\n",
       "      <th></th>\n",
       "      <th></th>\n",
       "    </tr>\n",
       "  </thead>\n",
       "  <tbody>\n",
       "    <tr>\n",
       "      <th>BTM</th>\n",
       "      <td>4889.0</td>\n",
       "      <td>167.0</td>\n",
       "    </tr>\n",
       "    <tr>\n",
       "      <th>Banashankari</th>\n",
       "      <td>839.0</td>\n",
       "      <td>63.0</td>\n",
       "    </tr>\n",
       "    <tr>\n",
       "      <th>Banaswadi</th>\n",
       "      <td>632.0</td>\n",
       "      <td>8.0</td>\n",
       "    </tr>\n",
       "    <tr>\n",
       "      <th>Bannerghatta Road</th>\n",
       "      <td>1510.0</td>\n",
       "      <td>99.0</td>\n",
       "    </tr>\n",
       "    <tr>\n",
       "      <th>Basavanagudi</th>\n",
       "      <td>668.0</td>\n",
       "      <td>16.0</td>\n",
       "    </tr>\n",
       "  </tbody>\n",
       "</table>\n",
       "</div>"
      ],
      "text/plain": [
       "                     name       \n",
       "book_table             No    Yes\n",
       "location                        \n",
       "BTM                4889.0  167.0\n",
       "Banashankari        839.0   63.0\n",
       "Banaswadi           632.0    8.0\n",
       "Bannerghatta Road  1510.0   99.0\n",
       "Basavanagudi        668.0   16.0"
      ]
     },
     "execution_count": 54,
     "metadata": {},
     "output_type": "execute_result"
    }
   ],
   "source": [
    "booktable_locationwise_df=data.groupby(['location','book_table'])['name'].count()\n",
    "df3=pd.DataFrame(booktable_locationwise_df)\n",
    "df4=df3.pivot_table(df3, index=['location'], columns=['book_table'])\n",
    "df4.head()"
   ]
  },
  {
   "cell_type": "code",
   "execution_count": 55,
   "id": "0e814c14",
   "metadata": {
    "execution": {
     "iopub.execute_input": "2024-06-16T20:30:28.138055Z",
     "iopub.status.busy": "2024-06-16T20:30:28.137644Z",
     "iopub.status.idle": "2024-06-16T20:30:28.885153Z",
     "shell.execute_reply": "2024-06-16T20:30:28.884076Z"
    },
    "papermill": {
     "duration": 0.779784,
     "end_time": "2024-06-16T20:30:28.887379",
     "exception": false,
     "start_time": "2024-06-16T20:30:28.107595",
     "status": "completed"
    },
    "tags": []
   },
   "outputs": [
    {
     "data": {
      "text/plain": [
       "<Axes: xlabel='location'>"
      ]
     },
     "execution_count": 55,
     "metadata": {},
     "output_type": "execute_result"
    },
    {
     "data": {
      "image/png": "[encoded data removed]",
      "text/plain": [
       "<Figure size 1500x800 with 1 Axes>"
      ]
     },
     "metadata": {},
     "output_type": "display_data"
    }
   ],
   "source": [
    "df4.plot(kind='bar', figsize=(15,8))"
   ]
  },
  {
   "cell_type": "markdown",
   "id": "b6b6925b",
   "metadata": {
    "papermill": {
     "duration": 0.030066,
     "end_time": "2024-06-16T20:30:28.948141",
     "exception": false,
     "start_time": "2024-06-16T20:30:28.918075",
     "status": "completed"
    },
    "tags": []
   },
   "source": [
    "Lets visualize types of restraunt vs rates"
   ]
  },
  {
   "cell_type": "code",
   "execution_count": 56,
   "id": "3ddb1e81",
   "metadata": {
    "execution": {
     "iopub.execute_input": "2024-06-16T20:30:29.010542Z",
     "iopub.status.busy": "2024-06-16T20:30:29.010127Z",
     "iopub.status.idle": "2024-06-16T20:30:29.025764Z",
     "shell.execute_reply": "2024-06-16T20:30:29.024741Z"
    },
    "papermill": {
     "duration": 0.049537,
     "end_time": "2024-06-16T20:30:29.027958",
     "exception": false,
     "start_time": "2024-06-16T20:30:28.978421",
     "status": "completed"
    },
    "tags": []
   },
   "outputs": [
    {
     "data": {
      "text/html": [
       "<div>\n",
       "<style scoped>\n",
       "    .dataframe tbody tr th:only-of-type {\n",
       "        vertical-align: middle;\n",
       "    }\n",
       "\n",
       "    .dataframe tbody tr th {\n",
       "        vertical-align: top;\n",
       "    }\n",
       "\n",
       "    .dataframe thead th {\n",
       "        text-align: right;\n",
       "    }\n",
       "</style>\n",
       "<table border=\"1\" class=\"dataframe\">\n",
       "  <thead>\n",
       "    <tr style=\"text-align: right;\">\n",
       "      <th></th>\n",
       "      <th>name</th>\n",
       "      <th>online_order</th>\n",
       "      <th>book_table</th>\n",
       "      <th>rate</th>\n",
       "      <th>votes</th>\n",
       "      <th>location</th>\n",
       "      <th>rest_type</th>\n",
       "      <th>cuisines</th>\n",
       "      <th>cost2plates</th>\n",
       "      <th>type</th>\n",
       "    </tr>\n",
       "  </thead>\n",
       "  <tbody>\n",
       "    <tr>\n",
       "      <th>0</th>\n",
       "      <td>Jalsa</td>\n",
       "      <td>Yes</td>\n",
       "      <td>Yes</td>\n",
       "      <td>4.1</td>\n",
       "      <td>775</td>\n",
       "      <td>Banashankari</td>\n",
       "      <td>Casual Dining</td>\n",
       "      <td>North Indian, Mughlai, Chinese</td>\n",
       "      <td>800.0</td>\n",
       "      <td>Buffet</td>\n",
       "    </tr>\n",
       "    <tr>\n",
       "      <th>1</th>\n",
       "      <td>Spice Elephant</td>\n",
       "      <td>Yes</td>\n",
       "      <td>No</td>\n",
       "      <td>4.1</td>\n",
       "      <td>787</td>\n",
       "      <td>Banashankari</td>\n",
       "      <td>Casual Dining</td>\n",
       "      <td>others</td>\n",
       "      <td>800.0</td>\n",
       "      <td>Buffet</td>\n",
       "    </tr>\n",
       "    <tr>\n",
       "      <th>2</th>\n",
       "      <td>San Churro Cafe</td>\n",
       "      <td>Yes</td>\n",
       "      <td>No</td>\n",
       "      <td>3.8</td>\n",
       "      <td>918</td>\n",
       "      <td>Banashankari</td>\n",
       "      <td>others</td>\n",
       "      <td>others</td>\n",
       "      <td>800.0</td>\n",
       "      <td>Buffet</td>\n",
       "    </tr>\n",
       "    <tr>\n",
       "      <th>3</th>\n",
       "      <td>Addhuri Udupi Bhojana</td>\n",
       "      <td>No</td>\n",
       "      <td>No</td>\n",
       "      <td>3.7</td>\n",
       "      <td>88</td>\n",
       "      <td>Banashankari</td>\n",
       "      <td>Quick Bites</td>\n",
       "      <td>South Indian, North Indian</td>\n",
       "      <td>300.0</td>\n",
       "      <td>Buffet</td>\n",
       "    </tr>\n",
       "    <tr>\n",
       "      <th>4</th>\n",
       "      <td>Grand Village</td>\n",
       "      <td>No</td>\n",
       "      <td>No</td>\n",
       "      <td>3.8</td>\n",
       "      <td>166</td>\n",
       "      <td>Basavanagudi</td>\n",
       "      <td>Casual Dining</td>\n",
       "      <td>others</td>\n",
       "      <td>600.0</td>\n",
       "      <td>Buffet</td>\n",
       "    </tr>\n",
       "  </tbody>\n",
       "</table>\n",
       "</div>"
      ],
      "text/plain": [
       "                    name online_order book_table  rate  votes      location  \\\n",
       "0                  Jalsa          Yes        Yes   4.1    775  Banashankari   \n",
       "1         Spice Elephant          Yes         No   4.1    787  Banashankari   \n",
       "2        San Churro Cafe          Yes         No   3.8    918  Banashankari   \n",
       "3  Addhuri Udupi Bhojana           No         No   3.7     88  Banashankari   \n",
       "4          Grand Village           No         No   3.8    166  Basavanagudi   \n",
       "\n",
       "       rest_type                        cuisines  cost2plates    type  \n",
       "0  Casual Dining  North Indian, Mughlai, Chinese        800.0  Buffet  \n",
       "1  Casual Dining                          others        800.0  Buffet  \n",
       "2         others                          others        800.0  Buffet  \n",
       "3    Quick Bites      South Indian, North Indian        300.0  Buffet  \n",
       "4  Casual Dining                          others        600.0  Buffet  "
      ]
     },
     "execution_count": 56,
     "metadata": {},
     "output_type": "execute_result"
    }
   ],
   "source": [
    "data.head()"
   ]
  },
  {
   "cell_type": "code",
   "execution_count": 57,
   "id": "3e612cb9",
   "metadata": {
    "execution": {
     "iopub.execute_input": "2024-06-16T20:30:29.090704Z",
     "iopub.status.busy": "2024-06-16T20:30:29.090305Z",
     "iopub.status.idle": "2024-06-16T20:30:29.459593Z",
     "shell.execute_reply": "2024-06-16T20:30:29.458726Z"
    },
    "papermill": {
     "duration": 0.403589,
     "end_time": "2024-06-16T20:30:29.462139",
     "exception": false,
     "start_time": "2024-06-16T20:30:29.058550",
     "status": "completed"
    },
    "tags": []
   },
   "outputs": [
    {
     "data": {
      "text/plain": [
       "<Axes: xlabel='type', ylabel='rate'>"
      ]
     },
     "execution_count": 57,
     "metadata": {},
     "output_type": "execute_result"
    },
    {
     "data": {
      "image/png": "[encoded data removed]",
      "text/plain": [
       "<Figure size 1200x800 with 1 Axes>"
      ]
     },
     "metadata": {},
     "output_type": "display_data"
    }
   ],
   "source": [
    "plt.figure(figsize=(12,8))\n",
    "sns.boxplot(x='type', y='rate', data=data, palette='inferno')\n",
    "# sns.boxplot(x=data['type'], y=data['rate'], data=data, palette='inferno')"
   ]
  },
  {
   "cell_type": "markdown",
   "id": "9fc2db54",
   "metadata": {
    "papermill": {
     "duration": 0.030649,
     "end_time": "2024-06-16T20:30:29.523941",
     "exception": false,
     "start_time": "2024-06-16T20:30:29.493292",
     "status": "completed"
    },
    "tags": []
   },
   "source": [
    "Drinks and nighlife type of restraunts have great average rating. Similar with pubs and bars"
   ]
  },
  {
   "cell_type": "markdown",
   "id": "308f2a1d",
   "metadata": {
    "papermill": {
     "duration": 0.03066,
     "end_time": "2024-06-16T20:30:29.585544",
     "exception": false,
     "start_time": "2024-06-16T20:30:29.554884",
     "status": "completed"
    },
    "tags": []
   },
   "source": [
    "Now grouping types of restraunt types by locations"
   ]
  },
  {
   "cell_type": "code",
   "execution_count": 58,
   "id": "35ca0a92",
   "metadata": {
    "execution": {
     "iopub.execute_input": "2024-06-16T20:30:29.649336Z",
     "iopub.status.busy": "2024-06-16T20:30:29.648931Z",
     "iopub.status.idle": "2024-06-16T20:30:29.662999Z",
     "shell.execute_reply": "2024-06-16T20:30:29.661971Z"
    },
    "papermill": {
     "duration": 0.048549,
     "end_time": "2024-06-16T20:30:29.665129",
     "exception": false,
     "start_time": "2024-06-16T20:30:29.616580",
     "status": "completed"
    },
    "tags": []
   },
   "outputs": [
    {
     "data": {
      "text/html": [
       "<div>\n",
       "<style scoped>\n",
       "    .dataframe tbody tr th:only-of-type {\n",
       "        vertical-align: middle;\n",
       "    }\n",
       "\n",
       "    .dataframe tbody tr th {\n",
       "        vertical-align: top;\n",
       "    }\n",
       "\n",
       "    .dataframe thead th {\n",
       "        text-align: right;\n",
       "    }\n",
       "</style>\n",
       "<table border=\"1\" class=\"dataframe\">\n",
       "  <thead>\n",
       "    <tr style=\"text-align: right;\">\n",
       "      <th></th>\n",
       "      <th>name</th>\n",
       "      <th>online_order</th>\n",
       "      <th>book_table</th>\n",
       "      <th>rate</th>\n",
       "      <th>votes</th>\n",
       "      <th>location</th>\n",
       "      <th>rest_type</th>\n",
       "      <th>cuisines</th>\n",
       "      <th>cost2plates</th>\n",
       "      <th>type</th>\n",
       "    </tr>\n",
       "  </thead>\n",
       "  <tbody>\n",
       "    <tr>\n",
       "      <th>0</th>\n",
       "      <td>Jalsa</td>\n",
       "      <td>Yes</td>\n",
       "      <td>Yes</td>\n",
       "      <td>4.1</td>\n",
       "      <td>775</td>\n",
       "      <td>Banashankari</td>\n",
       "      <td>Casual Dining</td>\n",
       "      <td>North Indian, Mughlai, Chinese</td>\n",
       "      <td>800.0</td>\n",
       "      <td>Buffet</td>\n",
       "    </tr>\n",
       "  </tbody>\n",
       "</table>\n",
       "</div>"
      ],
      "text/plain": [
       "    name online_order book_table  rate  votes      location      rest_type  \\\n",
       "0  Jalsa          Yes        Yes   4.1    775  Banashankari  Casual Dining   \n",
       "\n",
       "                         cuisines  cost2plates    type  \n",
       "0  North Indian, Mughlai, Chinese        800.0  Buffet  "
      ]
     },
     "execution_count": 58,
     "metadata": {},
     "output_type": "execute_result"
    }
   ],
   "source": [
    "data.head(1)"
   ]
  },
  {
   "cell_type": "code",
   "execution_count": 59,
   "id": "2c0d6b15",
   "metadata": {
    "execution": {
     "iopub.execute_input": "2024-06-16T20:30:29.729373Z",
     "iopub.status.busy": "2024-06-16T20:30:29.728975Z",
     "iopub.status.idle": "2024-06-16T20:30:29.751875Z",
     "shell.execute_reply": "2024-06-16T20:30:29.750556Z"
    },
    "papermill": {
     "duration": 0.057893,
     "end_time": "2024-06-16T20:30:29.754336",
     "exception": false,
     "start_time": "2024-06-16T20:30:29.696443",
     "status": "completed"
    },
    "tags": []
   },
   "outputs": [],
   "source": [
    "dataframe1=data.groupby(['location', 'type'])['name'].count()\n",
    "dataframe1=pd.DataFrame(dataframe1)\n",
    "dataframe1=pd.pivot_table(dataframe1, values=None, index=['location'], columns=['type'], fill_value=0)"
   ]
  },
  {
   "cell_type": "code",
   "execution_count": 60,
   "id": "104ba94e",
   "metadata": {
    "execution": {
     "iopub.execute_input": "2024-06-16T20:30:29.819334Z",
     "iopub.status.busy": "2024-06-16T20:30:29.818886Z",
     "iopub.status.idle": "2024-06-16T20:30:29.856071Z",
     "shell.execute_reply": "2024-06-16T20:30:29.855015Z"
    },
    "papermill": {
     "duration": 0.072377,
     "end_time": "2024-06-16T20:30:29.858251",
     "exception": false,
     "start_time": "2024-06-16T20:30:29.785874",
     "status": "completed"
    },
    "tags": []
   },
   "outputs": [
    {
     "data": {
      "text/html": [
       "<div>\n",
       "<style scoped>\n",
       "    .dataframe tbody tr th:only-of-type {\n",
       "        vertical-align: middle;\n",
       "    }\n",
       "\n",
       "    .dataframe tbody tr th {\n",
       "        vertical-align: top;\n",
       "    }\n",
       "\n",
       "    .dataframe thead tr th {\n",
       "        text-align: left;\n",
       "    }\n",
       "\n",
       "    .dataframe thead tr:last-of-type th {\n",
       "        text-align: right;\n",
       "    }\n",
       "</style>\n",
       "<table border=\"1\" class=\"dataframe\">\n",
       "  <thead>\n",
       "    <tr>\n",
       "      <th></th>\n",
       "      <th colspan=\"7\" halign=\"left\">name</th>\n",
       "    </tr>\n",
       "    <tr>\n",
       "      <th>type</th>\n",
       "      <th>Buffet</th>\n",
       "      <th>Cafes</th>\n",
       "      <th>Delivery</th>\n",
       "      <th>Desserts</th>\n",
       "      <th>Dine-out</th>\n",
       "      <th>Drinks &amp; nightlife</th>\n",
       "      <th>Pubs and bars</th>\n",
       "    </tr>\n",
       "    <tr>\n",
       "      <th>location</th>\n",
       "      <th></th>\n",
       "      <th></th>\n",
       "      <th></th>\n",
       "      <th></th>\n",
       "      <th></th>\n",
       "      <th></th>\n",
       "      <th></th>\n",
       "    </tr>\n",
       "  </thead>\n",
       "  <tbody>\n",
       "    <tr>\n",
       "      <th>BTM</th>\n",
       "      <td>21.0</td>\n",
       "      <td>83.0</td>\n",
       "      <td>3053.0</td>\n",
       "      <td>198.0</td>\n",
       "      <td>1660.0</td>\n",
       "      <td>22.0</td>\n",
       "      <td>19.0</td>\n",
       "    </tr>\n",
       "    <tr>\n",
       "      <th>Banashankari</th>\n",
       "      <td>7.0</td>\n",
       "      <td>36.0</td>\n",
       "      <td>418.0</td>\n",
       "      <td>71.0</td>\n",
       "      <td>356.0</td>\n",
       "      <td>14.0</td>\n",
       "      <td>0.0</td>\n",
       "    </tr>\n",
       "    <tr>\n",
       "      <th>Banaswadi</th>\n",
       "      <td>0.0</td>\n",
       "      <td>24.0</td>\n",
       "      <td>310.0</td>\n",
       "      <td>37.0</td>\n",
       "      <td>262.0</td>\n",
       "      <td>6.0</td>\n",
       "      <td>1.0</td>\n",
       "    </tr>\n",
       "    <tr>\n",
       "      <th>Bannerghatta Road</th>\n",
       "      <td>9.0</td>\n",
       "      <td>46.0</td>\n",
       "      <td>828.0</td>\n",
       "      <td>137.0</td>\n",
       "      <td>578.0</td>\n",
       "      <td>9.0</td>\n",
       "      <td>2.0</td>\n",
       "    </tr>\n",
       "    <tr>\n",
       "      <th>Basavanagudi</th>\n",
       "      <td>7.0</td>\n",
       "      <td>11.0</td>\n",
       "      <td>344.0</td>\n",
       "      <td>66.0</td>\n",
       "      <td>251.0</td>\n",
       "      <td>5.0</td>\n",
       "      <td>0.0</td>\n",
       "    </tr>\n",
       "    <tr>\n",
       "      <th>Bellandur</th>\n",
       "      <td>28.0</td>\n",
       "      <td>36.0</td>\n",
       "      <td>617.0</td>\n",
       "      <td>75.0</td>\n",
       "      <td>479.0</td>\n",
       "      <td>17.0</td>\n",
       "      <td>16.0</td>\n",
       "    </tr>\n",
       "    <tr>\n",
       "      <th>Brigade Road</th>\n",
       "      <td>25.0</td>\n",
       "      <td>46.0</td>\n",
       "      <td>497.0</td>\n",
       "      <td>108.0</td>\n",
       "      <td>455.0</td>\n",
       "      <td>57.0</td>\n",
       "      <td>22.0</td>\n",
       "    </tr>\n",
       "    <tr>\n",
       "      <th>Brookefield</th>\n",
       "      <td>6.0</td>\n",
       "      <td>17.0</td>\n",
       "      <td>339.0</td>\n",
       "      <td>45.0</td>\n",
       "      <td>245.0</td>\n",
       "      <td>4.0</td>\n",
       "      <td>0.0</td>\n",
       "    </tr>\n",
       "    <tr>\n",
       "      <th>Church Street</th>\n",
       "      <td>19.0</td>\n",
       "      <td>51.0</td>\n",
       "      <td>193.0</td>\n",
       "      <td>29.0</td>\n",
       "      <td>215.0</td>\n",
       "      <td>36.0</td>\n",
       "      <td>23.0</td>\n",
       "    </tr>\n",
       "    <tr>\n",
       "      <th>Commercial Street</th>\n",
       "      <td>0.0</td>\n",
       "      <td>13.0</td>\n",
       "      <td>121.0</td>\n",
       "      <td>77.0</td>\n",
       "      <td>159.0</td>\n",
       "      <td>0.0</td>\n",
       "      <td>0.0</td>\n",
       "    </tr>\n",
       "    <tr>\n",
       "      <th>Cunningham Road</th>\n",
       "      <td>29.0</td>\n",
       "      <td>34.0</td>\n",
       "      <td>194.0</td>\n",
       "      <td>26.0</td>\n",
       "      <td>184.0</td>\n",
       "      <td>16.0</td>\n",
       "      <td>7.0</td>\n",
       "    </tr>\n",
       "    <tr>\n",
       "      <th>Domlur</th>\n",
       "      <td>15.0</td>\n",
       "      <td>13.0</td>\n",
       "      <td>261.0</td>\n",
       "      <td>35.0</td>\n",
       "      <td>135.0</td>\n",
       "      <td>12.0</td>\n",
       "      <td>11.0</td>\n",
       "    </tr>\n",
       "    <tr>\n",
       "      <th>Ejipura</th>\n",
       "      <td>0.0</td>\n",
       "      <td>0.0</td>\n",
       "      <td>245.0</td>\n",
       "      <td>16.0</td>\n",
       "      <td>172.0</td>\n",
       "      <td>0.0</td>\n",
       "      <td>0.0</td>\n",
       "    </tr>\n",
       "    <tr>\n",
       "      <th>Electronic City</th>\n",
       "      <td>23.0</td>\n",
       "      <td>24.0</td>\n",
       "      <td>570.0</td>\n",
       "      <td>71.0</td>\n",
       "      <td>516.0</td>\n",
       "      <td>21.0</td>\n",
       "      <td>21.0</td>\n",
       "    </tr>\n",
       "    <tr>\n",
       "      <th>Frazer Town</th>\n",
       "      <td>1.0</td>\n",
       "      <td>11.0</td>\n",
       "      <td>470.0</td>\n",
       "      <td>56.0</td>\n",
       "      <td>172.0</td>\n",
       "      <td>2.0</td>\n",
       "      <td>2.0</td>\n",
       "    </tr>\n",
       "    <tr>\n",
       "      <th>HSR</th>\n",
       "      <td>19.0</td>\n",
       "      <td>49.0</td>\n",
       "      <td>1694.0</td>\n",
       "      <td>120.0</td>\n",
       "      <td>580.0</td>\n",
       "      <td>14.0</td>\n",
       "      <td>18.0</td>\n",
       "    </tr>\n",
       "    <tr>\n",
       "      <th>Indiranagar</th>\n",
       "      <td>38.0</td>\n",
       "      <td>97.0</td>\n",
       "      <td>1091.0</td>\n",
       "      <td>140.0</td>\n",
       "      <td>529.0</td>\n",
       "      <td>65.0</td>\n",
       "      <td>66.0</td>\n",
       "    </tr>\n",
       "    <tr>\n",
       "      <th>JP Nagar</th>\n",
       "      <td>45.0</td>\n",
       "      <td>76.0</td>\n",
       "      <td>1151.0</td>\n",
       "      <td>166.0</td>\n",
       "      <td>722.0</td>\n",
       "      <td>51.0</td>\n",
       "      <td>7.0</td>\n",
       "    </tr>\n",
       "    <tr>\n",
       "      <th>Jayanagar</th>\n",
       "      <td>27.0</td>\n",
       "      <td>77.0</td>\n",
       "      <td>1043.0</td>\n",
       "      <td>182.0</td>\n",
       "      <td>575.0</td>\n",
       "      <td>12.0</td>\n",
       "      <td>0.0</td>\n",
       "    </tr>\n",
       "    <tr>\n",
       "      <th>Kalyan Nagar</th>\n",
       "      <td>9.0</td>\n",
       "      <td>45.0</td>\n",
       "      <td>366.0</td>\n",
       "      <td>88.0</td>\n",
       "      <td>315.0</td>\n",
       "      <td>18.0</td>\n",
       "      <td>0.0</td>\n",
       "    </tr>\n",
       "    <tr>\n",
       "      <th>Kammanahalli</th>\n",
       "      <td>2.0</td>\n",
       "      <td>27.0</td>\n",
       "      <td>329.0</td>\n",
       "      <td>35.0</td>\n",
       "      <td>240.0</td>\n",
       "      <td>6.0</td>\n",
       "      <td>0.0</td>\n",
       "    </tr>\n",
       "    <tr>\n",
       "      <th>Koramangala 1st Block</th>\n",
       "      <td>3.0</td>\n",
       "      <td>26.0</td>\n",
       "      <td>716.0</td>\n",
       "      <td>70.0</td>\n",
       "      <td>398.0</td>\n",
       "      <td>7.0</td>\n",
       "      <td>16.0</td>\n",
       "    </tr>\n",
       "    <tr>\n",
       "      <th>Koramangala 4th Block</th>\n",
       "      <td>21.0</td>\n",
       "      <td>53.0</td>\n",
       "      <td>464.0</td>\n",
       "      <td>81.0</td>\n",
       "      <td>302.0</td>\n",
       "      <td>62.0</td>\n",
       "      <td>34.0</td>\n",
       "    </tr>\n",
       "    <tr>\n",
       "      <th>Koramangala 5th Block</th>\n",
       "      <td>65.0</td>\n",
       "      <td>146.0</td>\n",
       "      <td>1075.0</td>\n",
       "      <td>209.0</td>\n",
       "      <td>842.0</td>\n",
       "      <td>84.0</td>\n",
       "      <td>58.0</td>\n",
       "    </tr>\n",
       "    <tr>\n",
       "      <th>Koramangala 6th Block</th>\n",
       "      <td>18.0</td>\n",
       "      <td>43.0</td>\n",
       "      <td>511.0</td>\n",
       "      <td>70.0</td>\n",
       "      <td>411.0</td>\n",
       "      <td>51.0</td>\n",
       "      <td>23.0</td>\n",
       "    </tr>\n",
       "    <tr>\n",
       "      <th>Koramangala 7th Block</th>\n",
       "      <td>25.0</td>\n",
       "      <td>52.0</td>\n",
       "      <td>503.0</td>\n",
       "      <td>127.0</td>\n",
       "      <td>417.0</td>\n",
       "      <td>25.0</td>\n",
       "      <td>25.0</td>\n",
       "    </tr>\n",
       "    <tr>\n",
       "      <th>Lavelle Road</th>\n",
       "      <td>30.0</td>\n",
       "      <td>27.0</td>\n",
       "      <td>127.0</td>\n",
       "      <td>50.0</td>\n",
       "      <td>191.0</td>\n",
       "      <td>59.0</td>\n",
       "      <td>34.0</td>\n",
       "    </tr>\n",
       "    <tr>\n",
       "      <th>MG Road</th>\n",
       "      <td>51.0</td>\n",
       "      <td>76.0</td>\n",
       "      <td>266.0</td>\n",
       "      <td>68.0</td>\n",
       "      <td>343.0</td>\n",
       "      <td>53.0</td>\n",
       "      <td>36.0</td>\n",
       "    </tr>\n",
       "    <tr>\n",
       "      <th>Malleshwaram</th>\n",
       "      <td>11.0</td>\n",
       "      <td>31.0</td>\n",
       "      <td>269.0</td>\n",
       "      <td>85.0</td>\n",
       "      <td>291.0</td>\n",
       "      <td>20.0</td>\n",
       "      <td>14.0</td>\n",
       "    </tr>\n",
       "    <tr>\n",
       "      <th>Marathahalli</th>\n",
       "      <td>34.0</td>\n",
       "      <td>32.0</td>\n",
       "      <td>980.0</td>\n",
       "      <td>105.0</td>\n",
       "      <td>630.0</td>\n",
       "      <td>22.0</td>\n",
       "      <td>2.0</td>\n",
       "    </tr>\n",
       "    <tr>\n",
       "      <th>New BEL Road</th>\n",
       "      <td>4.0</td>\n",
       "      <td>29.0</td>\n",
       "      <td>338.0</td>\n",
       "      <td>33.0</td>\n",
       "      <td>224.0</td>\n",
       "      <td>8.0</td>\n",
       "      <td>8.0</td>\n",
       "    </tr>\n",
       "    <tr>\n",
       "      <th>Old Airport Road</th>\n",
       "      <td>12.0</td>\n",
       "      <td>5.0</td>\n",
       "      <td>200.0</td>\n",
       "      <td>35.0</td>\n",
       "      <td>164.0</td>\n",
       "      <td>12.0</td>\n",
       "      <td>9.0</td>\n",
       "    </tr>\n",
       "    <tr>\n",
       "      <th>Rajajinagar</th>\n",
       "      <td>10.0</td>\n",
       "      <td>4.0</td>\n",
       "      <td>258.0</td>\n",
       "      <td>55.0</td>\n",
       "      <td>251.0</td>\n",
       "      <td>3.0</td>\n",
       "      <td>10.0</td>\n",
       "    </tr>\n",
       "    <tr>\n",
       "      <th>Residency Road</th>\n",
       "      <td>20.0</td>\n",
       "      <td>31.0</td>\n",
       "      <td>187.0</td>\n",
       "      <td>63.0</td>\n",
       "      <td>289.0</td>\n",
       "      <td>55.0</td>\n",
       "      <td>26.0</td>\n",
       "    </tr>\n",
       "    <tr>\n",
       "      <th>Richmond Road</th>\n",
       "      <td>63.0</td>\n",
       "      <td>21.0</td>\n",
       "      <td>257.0</td>\n",
       "      <td>78.0</td>\n",
       "      <td>356.0</td>\n",
       "      <td>16.0</td>\n",
       "      <td>12.0</td>\n",
       "    </tr>\n",
       "    <tr>\n",
       "      <th>Sarjapur Road</th>\n",
       "      <td>25.0</td>\n",
       "      <td>22.0</td>\n",
       "      <td>558.0</td>\n",
       "      <td>82.0</td>\n",
       "      <td>319.0</td>\n",
       "      <td>19.0</td>\n",
       "      <td>22.0</td>\n",
       "    </tr>\n",
       "    <tr>\n",
       "      <th>Shanti Nagar</th>\n",
       "      <td>9.0</td>\n",
       "      <td>22.0</td>\n",
       "      <td>198.0</td>\n",
       "      <td>39.0</td>\n",
       "      <td>229.0</td>\n",
       "      <td>9.0</td>\n",
       "      <td>2.0</td>\n",
       "    </tr>\n",
       "    <tr>\n",
       "      <th>Shivajinagar</th>\n",
       "      <td>6.0</td>\n",
       "      <td>17.0</td>\n",
       "      <td>143.0</td>\n",
       "      <td>37.0</td>\n",
       "      <td>280.0</td>\n",
       "      <td>7.0</td>\n",
       "      <td>8.0</td>\n",
       "    </tr>\n",
       "    <tr>\n",
       "      <th>St. Marks Road</th>\n",
       "      <td>5.0</td>\n",
       "      <td>10.0</td>\n",
       "      <td>111.0</td>\n",
       "      <td>10.0</td>\n",
       "      <td>145.0</td>\n",
       "      <td>40.0</td>\n",
       "      <td>22.0</td>\n",
       "    </tr>\n",
       "    <tr>\n",
       "      <th>Ulsoor</th>\n",
       "      <td>16.0</td>\n",
       "      <td>56.0</td>\n",
       "      <td>456.0</td>\n",
       "      <td>71.0</td>\n",
       "      <td>359.0</td>\n",
       "      <td>23.0</td>\n",
       "      <td>30.0</td>\n",
       "    </tr>\n",
       "    <tr>\n",
       "      <th>Whitefield</th>\n",
       "      <td>28.0</td>\n",
       "      <td>51.0</td>\n",
       "      <td>1041.0</td>\n",
       "      <td>137.0</td>\n",
       "      <td>768.0</td>\n",
       "      <td>47.0</td>\n",
       "      <td>33.0</td>\n",
       "    </tr>\n",
       "    <tr>\n",
       "      <th>others</th>\n",
       "      <td>83.0</td>\n",
       "      <td>133.0</td>\n",
       "      <td>2787.0</td>\n",
       "      <td>276.0</td>\n",
       "      <td>1553.0</td>\n",
       "      <td>75.0</td>\n",
       "      <td>47.0</td>\n",
       "    </tr>\n",
       "  </tbody>\n",
       "</table>\n",
       "</div>"
      ],
      "text/plain": [
       "                        name                                    \\\n",
       "type                  Buffet  Cafes Delivery Desserts Dine-out   \n",
       "location                                                         \n",
       "BTM                     21.0   83.0   3053.0    198.0   1660.0   \n",
       "Banashankari             7.0   36.0    418.0     71.0    356.0   \n",
       "Banaswadi                0.0   24.0    310.0     37.0    262.0   \n",
       "Bannerghatta Road        9.0   46.0    828.0    137.0    578.0   \n",
       "Basavanagudi             7.0   11.0    344.0     66.0    251.0   \n",
       "Bellandur               28.0   36.0    617.0     75.0    479.0   \n",
       "Brigade Road            25.0   46.0    497.0    108.0    455.0   \n",
       "Brookefield              6.0   17.0    339.0     45.0    245.0   \n",
       "Church Street           19.0   51.0    193.0     29.0    215.0   \n",
       "Commercial Street        0.0   13.0    121.0     77.0    159.0   \n",
       "Cunningham Road         29.0   34.0    194.0     26.0    184.0   \n",
       "Domlur                  15.0   13.0    261.0     35.0    135.0   \n",
       "Ejipura                  0.0    0.0    245.0     16.0    172.0   \n",
       "Electronic City         23.0   24.0    570.0     71.0    516.0   \n",
       "Frazer Town              1.0   11.0    470.0     56.0    172.0   \n",
       "HSR                     19.0   49.0   1694.0    120.0    580.0   \n",
       "Indiranagar             38.0   97.0   1091.0    140.0    529.0   \n",
       "JP Nagar                45.0   76.0   1151.0    166.0    722.0   \n",
       "Jayanagar               27.0   77.0   1043.0    182.0    575.0   \n",
       "Kalyan Nagar             9.0   45.0    366.0     88.0    315.0   \n",
       "Kammanahalli             2.0   27.0    329.0     35.0    240.0   \n",
       "Koramangala 1st Block    3.0   26.0    716.0     70.0    398.0   \n",
       "Koramangala 4th Block   21.0   53.0    464.0     81.0    302.0   \n",
       "Koramangala 5th Block   65.0  146.0   1075.0    209.0    842.0   \n",
       "Koramangala 6th Block   18.0   43.0    511.0     70.0    411.0   \n",
       "Koramangala 7th Block   25.0   52.0    503.0    127.0    417.0   \n",
       "Lavelle Road            30.0   27.0    127.0     50.0    191.0   \n",
       "MG Road                 51.0   76.0    266.0     68.0    343.0   \n",
       "Malleshwaram            11.0   31.0    269.0     85.0    291.0   \n",
       "Marathahalli            34.0   32.0    980.0    105.0    630.0   \n",
       "New BEL Road             4.0   29.0    338.0     33.0    224.0   \n",
       "Old Airport Road        12.0    5.0    200.0     35.0    164.0   \n",
       "Rajajinagar             10.0    4.0    258.0     55.0    251.0   \n",
       "Residency Road          20.0   31.0    187.0     63.0    289.0   \n",
       "Richmond Road           63.0   21.0    257.0     78.0    356.0   \n",
       "Sarjapur Road           25.0   22.0    558.0     82.0    319.0   \n",
       "Shanti Nagar             9.0   22.0    198.0     39.0    229.0   \n",
       "Shivajinagar             6.0   17.0    143.0     37.0    280.0   \n",
       "St. Marks Road           5.0   10.0    111.0     10.0    145.0   \n",
       "Ulsoor                  16.0   56.0    456.0     71.0    359.0   \n",
       "Whitefield              28.0   51.0   1041.0    137.0    768.0   \n",
       "others                  83.0  133.0   2787.0    276.0   1553.0   \n",
       "\n",
       "                                                        \n",
       "type                  Drinks & nightlife Pubs and bars  \n",
       "location                                                \n",
       "BTM                                 22.0          19.0  \n",
       "Banashankari                        14.0           0.0  \n",
       "Banaswadi                            6.0           1.0  \n",
       "Bannerghatta Road                    9.0           2.0  \n",
       "Basavanagudi                         5.0           0.0  \n",
       "Bellandur                           17.0          16.0  \n",
       "Brigade Road                        57.0          22.0  \n",
       "Brookefield                          4.0           0.0  \n",
       "Church Street                       36.0          23.0  \n",
       "Commercial Street                    0.0           0.0  \n",
       "Cunningham Road                     16.0           7.0  \n",
       "Domlur                              12.0          11.0  \n",
       "Ejipura                              0.0           0.0  \n",
       "Electronic City                     21.0          21.0  \n",
       "Frazer Town                          2.0           2.0  \n",
       "HSR                                 14.0          18.0  \n",
       "Indiranagar                         65.0          66.0  \n",
       "JP Nagar                            51.0           7.0  \n",
       "Jayanagar                           12.0           0.0  \n",
       "Kalyan Nagar                        18.0           0.0  \n",
       "Kammanahalli                         6.0           0.0  \n",
       "Koramangala 1st Block                7.0          16.0  \n",
       "Koramangala 4th Block               62.0          34.0  \n",
       "Koramangala 5th Block               84.0          58.0  \n",
       "Koramangala 6th Block               51.0          23.0  \n",
       "Koramangala 7th Block               25.0          25.0  \n",
       "Lavelle Road                        59.0          34.0  \n",
       "MG Road                             53.0          36.0  \n",
       "Malleshwaram                        20.0          14.0  \n",
       "Marathahalli                        22.0           2.0  \n",
       "New BEL Road                         8.0           8.0  \n",
       "Old Airport Road                    12.0           9.0  \n",
       "Rajajinagar                          3.0          10.0  \n",
       "Residency Road                      55.0          26.0  \n",
       "Richmond Road                       16.0          12.0  \n",
       "Sarjapur Road                       19.0          22.0  \n",
       "Shanti Nagar                         9.0           2.0  \n",
       "Shivajinagar                         7.0           8.0  \n",
       "St. Marks Road                      40.0          22.0  \n",
       "Ulsoor                              23.0          30.0  \n",
       "Whitefield                          47.0          33.0  \n",
       "others                              75.0          47.0  "
      ]
     },
     "execution_count": 60,
     "metadata": {},
     "output_type": "execute_result"
    }
   ],
   "source": [
    "dataframe1"
   ]
  },
  {
   "cell_type": "code",
   "execution_count": 61,
   "id": "f29d27ab",
   "metadata": {
    "execution": {
     "iopub.execute_input": "2024-06-16T20:30:29.923964Z",
     "iopub.status.busy": "2024-06-16T20:30:29.923580Z",
     "iopub.status.idle": "2024-06-16T20:30:31.435621Z",
     "shell.execute_reply": "2024-06-16T20:30:31.434288Z"
    },
    "papermill": {
     "duration": 1.550425,
     "end_time": "2024-06-16T20:30:31.440675",
     "exception": false,
     "start_time": "2024-06-16T20:30:29.890250",
     "status": "completed"
    },
    "tags": []
   },
   "outputs": [
    {
     "data": {
      "text/plain": [
       "<Axes: xlabel='location'>"
      ]
     },
     "execution_count": 61,
     "metadata": {},
     "output_type": "execute_result"
    },
    {
     "data": {
      "image/png": "[encoded data removed]",
      "text/plain": [
       "<Figure size 3600x800 with 1 Axes>"
      ]
     },
     "metadata": {},
     "output_type": "display_data"
    }
   ],
   "source": [
    "dataframe1.plot(kind='bar', figsize=(36,8))"
   ]
  },
  {
   "cell_type": "markdown",
   "id": "7b9c7118",
   "metadata": {
    "papermill": {
     "duration": 0.039896,
     "end_time": "2024-06-16T20:30:31.527059",
     "exception": false,
     "start_time": "2024-06-16T20:30:31.487163",
     "status": "completed"
    },
    "tags": []
   },
   "source": [
    "In the above image we can figure out the places where pubs and bars are less and can open there considering the rating is good."
   ]
  },
  {
   "cell_type": "code",
   "execution_count": null,
   "id": "d3283814",
   "metadata": {
    "papermill": {
     "duration": 0.033433,
     "end_time": "2024-06-16T20:30:31.594542",
     "exception": false,
     "start_time": "2024-06-16T20:30:31.561109",
     "status": "completed"
    },
    "tags": []
   },
   "outputs": [],
   "source": []
  }
 ],
 "metadata": {
  "kaggle": {
   "accelerator": "none",
   "dataSources": [
    {
     "datasetId": 153420,
     "sourceId": 352891,
     "sourceType": "datasetVersion"
    }
   ],
   "dockerImageVersionId": 30732,
   "isGpuEnabled": false,
   "isInternetEnabled": false,
   "language": "python",
   "sourceType": "notebook"
  },
  "kernelspec": {
   "display_name": "Python 3",
   "language": "python",
   "name": "python3"
  },
  "language_info": {
   "codemirror_mode": {
    "name": "ipython",
    "version": 3
   },
   "file_extension": ".py",
   "mimetype": "text/x-python",
   "name": "python",
   "nbconvert_exporter": "python",
   "pygments_lexer": "ipython3",
   "version": "3.10.13"
  },
  "papermill": {
   "default_parameters": {},
   "duration": 29.751957,
   "end_time": "2024-06-16T20:30:32.354381",
   "environment_variables": {},
   "exception": null,
   "input_path": "__notebook__.ipynb",
   "output_path": "__notebook__.ipynb",
   "parameters": {},
   "start_time": "2024-06-16T20:30:02.602424",
   "version": "2.5.0"
  }
 },
 "nbformat": 4,
 "nbformat_minor": 5
}
